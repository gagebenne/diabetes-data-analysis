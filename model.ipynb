{
 "cells": [
  {
   "cell_type": "code",
   "execution_count": 54,
   "metadata": {},
   "outputs": [],
   "source": [
    "import models\n",
    "import pandas as pd\n",
    "import scipy.stats as stats\n",
    "import numpy as np\n",
    "import matplotlib.pyplot as plt\n",
    "import random\n",
    "import patsy\n",
    "from collections import defaultdict"
   ]
  },
  {
   "cell_type": "code",
   "execution_count": 55,
   "metadata": {},
   "outputs": [],
   "source": [
    "random.seed(20211212)"
   ]
  },
  {
   "cell_type": "markdown",
   "metadata": {},
   "source": [
    "# MODEL"
   ]
  },
  {
   "cell_type": "code",
   "execution_count": 56,
   "metadata": {},
   "outputs": [],
   "source": [
    "data = pd.read_csv(\"explored-diabetes.csv\")"
   ]
  },
  {
   "cell_type": "markdown",
   "metadata": {},
   "source": [
    "## Null model"
   ]
  },
  {
   "cell_type": "markdown",
   "metadata": {},
   "source": [
    "We first build a baseline null model using the target variable: `glyhb`. Recall from single variable exploratory analysis:\n",
    "\n",
    "> The [glycosylated hemoglobin](https://en.wikipedia.org/wiki/Glycated_hemoglobin), a diagnostic test often referred to as simply a \"hemoglobin A1c\", is measured primarily to determine the three-month average blood sugar level.\n",
    "\n",
    "The hemoglobin A1c works as a quasi-classification variable, with a diagnosis for the following ranges:\n",
    "\n",
    "| A1c        | diagnosis   |\n",
    "|------------|-------------|\n",
    "| < 5.7%     | normal      | \n",
    "| 5.7 - 6.4% | prediabetic |\n",
    "| > 6.4%     | diabetic    |"
   ]
  },
  {
   "cell_type": "code",
   "execution_count": 57,
   "metadata": {},
   "outputs": [
    {
     "data": {
      "text/plain": [
       "count    390.000000\n",
       "mean       5.589769\n",
       "std        2.242595\n",
       "min        2.680000\n",
       "25%        4.380000\n",
       "50%        4.840000\n",
       "75%        5.600000\n",
       "max       16.110001\n",
       "Name: glyhb, dtype: float64"
      ]
     },
     "execution_count": 57,
     "metadata": {},
     "output_type": "execute_result"
    }
   ],
   "source": [
    "data[\"glyhb\"].describe()"
   ]
  },
  {
   "cell_type": "markdown",
   "metadata": {},
   "source": [
    "Let's collect the null model's information: the mean and standard deviation or our target variable A1c."
   ]
  },
  {
   "cell_type": "code",
   "execution_count": 58,
   "metadata": {},
   "outputs": [
    {
     "data": {
      "text/plain": [
       "5.589769236246667"
      ]
     },
     "execution_count": 58,
     "metadata": {},
     "output_type": "execute_result"
    }
   ],
   "source": [
    "null_mean = data[\"glyhb\"].describe()[\"mean\"]\n",
    "null_mean"
   ]
  },
  {
   "cell_type": "code",
   "execution_count": 59,
   "metadata": {},
   "outputs": [
    {
     "data": {
      "text/plain": [
       "2.242594841991535"
      ]
     },
     "execution_count": 59,
     "metadata": {},
     "output_type": "execute_result"
    }
   ],
   "source": [
    "null_std = data[\"glyhb\"].describe()[\"std\"]\n",
    "null_std"
   ]
  },
  {
   "cell_type": "markdown",
   "metadata": {},
   "source": [
    "The mean for the target variable is 5.5898%, with a standard deviation or equivalent $\\sigma$ of 2.2426%. Our goal is to improve upon this naive model using our linear regression model."
   ]
  },
  {
   "cell_type": "markdown",
   "metadata": {},
   "source": [
    "## Linear regression model"
   ]
  },
  {
   "cell_type": "markdown",
   "metadata": {},
   "source": [
    "We begin first with the \"all in\" linear regression model. First, we'll have to rename a few columns due to specifics with our modeling library not accepting variables with periods."
   ]
  },
  {
   "cell_type": "code",
   "execution_count": 60,
   "metadata": {},
   "outputs": [],
   "source": [
    "data.rename(columns={\"stab.glu\": \"stab_glu\", \"time.ppn\": \"time_ppn\", \"bp.s\": \"bp_s\", \"bp.d\": \"bp_d\"}, inplace=True)"
   ]
  },
  {
   "cell_type": "markdown",
   "metadata": {},
   "source": [
    "Next, we'll one-hot encode the `gender` and `frame` variables for potential use in our linear model."
   ]
  },
  {
   "cell_type": "code",
   "execution_count": 61,
   "metadata": {},
   "outputs": [],
   "source": [
    "data = data.join(pd.get_dummies(data[\"gender\"]))\n",
    "data = data.join(pd.get_dummies(data[\"frame\"]))"
   ]
  },
  {
   "cell_type": "markdown",
   "metadata": {},
   "source": [
    "Our \"all in\" linear regression model will consist of all available numeric (non-categorical) variables, exluding a few: `glyhb`, `eAG`, `female`, and `small`. The first two as they are either the target variable itself, or a analog of the target variable. The latter two are redundant variables --  a side effect of the one-hot encoding -- that are already expressed as the intercepts of the variables."
   ]
  },
  {
   "cell_type": "code",
   "execution_count": 62,
   "metadata": {},
   "outputs": [
    {
     "data": {
      "text/html": [
       "<p><strong>Model: glyhb ~ chol + stab_glu + hdl + ratio + age + height + weight + waist + hip + time_ppn + bp_s + bp_d + bmi + waist_hip + male + large + medium</strong><br/><table>\n",
       "<tbody>\n",
       "<tr><td>                             </td><td>                     </td><td>                     </td><td><strong>95% BCI</strong</td><td>                   </td></tr>\n",
       "<tr><td><strong>Coefficients</strong</td><td>                     </td><td><strong>Mean</strong</td><td><strong>Lo</strong     </td><td><strong>Hi</strong</td></tr>\n",
       "<tr><td>                             </td><td>$\\beta_{0}$          </td><td>-8.40                </td><td>-22.69                  </td><td>12.37              </td></tr>\n",
       "<tr><td>chol                         </td><td>$\\beta_{1}$          </td><td>0.00                 </td><td>-0.00                   </td><td>0.01               </td></tr>\n",
       "<tr><td>stab_glu                     </td><td>$\\beta_{2}$          </td><td>0.03                 </td><td>0.02                    </td><td>0.03               </td></tr>\n",
       "<tr><td>hdl                          </td><td>$\\beta_{3}$          </td><td>0.00                 </td><td>-0.03                   </td><td>0.02               </td></tr>\n",
       "<tr><td>ratio                        </td><td>$\\beta_{4}$          </td><td>0.12                 </td><td>-0.33                   </td><td>0.39               </td></tr>\n",
       "<tr><td>age                          </td><td>$\\beta_{5}$          </td><td>0.01                 </td><td>0.00                    </td><td>0.02               </td></tr>\n",
       "<tr><td>height                       </td><td>$\\beta_{6}$          </td><td>0.07                 </td><td>-0.14                   </td><td>0.23               </td></tr>\n",
       "<tr><td>weight                       </td><td>$\\beta_{7}$          </td><td>-0.01                </td><td>-0.05                   </td><td>0.02               </td></tr>\n",
       "<tr><td>waist                        </td><td>$\\beta_{8}$          </td><td>-0.05                </td><td>-0.44                   </td><td>0.28               </td></tr>\n",
       "<tr><td>hip                          </td><td>$\\beta_{9}$          </td><td>0.08                 </td><td>-0.19                   </td><td>0.45               </td></tr>\n",
       "<tr><td>time_ppn                     </td><td>$\\beta_{10}$         </td><td>0.00                 </td><td>0.00                    </td><td>0.00               </td></tr>\n",
       "<tr><td>bp_s                         </td><td>$\\beta_{11}$         </td><td>0.00                 </td><td>-0.00                   </td><td>0.01               </td></tr>\n",
       "<tr><td>bp_d                         </td><td>$\\beta_{12}$         </td><td>0.00                 </td><td>-0.01                   </td><td>0.01               </td></tr>\n",
       "<tr><td>bmi                          </td><td>$\\beta_{13}$         </td><td>0.05                 </td><td>-0.16                   </td><td>0.26               </td></tr>\n",
       "<tr><td>waist_hip                    </td><td>$\\beta_{14}$         </td><td>3.97                 </td><td>-10.61                  </td><td>19.91              </td></tr>\n",
       "<tr><td>male                         </td><td>$\\beta_{15}$         </td><td>-0.23                </td><td>-0.62                   </td><td>0.40               </td></tr>\n",
       "<tr><td>large                        </td><td>$\\beta_{16}$         </td><td>-0.07                </td><td>-0.60                   </td><td>0.30               </td></tr>\n",
       "<tr><td>medium                       </td><td>$\\beta_{17}$         </td><td>0.11                 </td><td>-0.27                   </td><td>0.43               </td></tr>\n",
       "<tr><td>                             </td><td>                     </td><td>                     </td><td>                        </td><td>                   </td></tr>\n",
       "<tr><td><strong>Metrics</strong     </td><td><strong>Mean</strong</td><td><strong>Lo</strong  </td><td><strong>Hi</strong     </td><td>                   </td></tr>\n",
       "<tr><td>$\\sigma$                     </td><td>1.43                 </td><td>1.17                 </td><td>1.64                    </td><td>                   </td></tr>\n",
       "<tr><td>$R^2$                        </td><td>0.60                 </td><td>0.49                 </td><td>0.73                    </td><td>                   </td></tr>\n",
       "</tbody>\n",
       "</table></p>"
      ],
      "text/latex": [
       "\\textbf{Model: glyhb $\\sim$ chol + stab\\_glu + hdl + ratio + age + height + weight + waist + hip + time\\_ppn + bp\\_s + bp\\_d + bmi + waist\\_hip + male + large + medium}\n",
       "\n",
       "\\begin{tabular}{lllll}\n",
       "\\toprule\n",
       "                       &               &               & \\textbf{95\\% BCI} &             \\\\\n",
       " \\textbf{Coefficients} &               & \\textbf{Mean} & \\textbf{Lo}      & \\textbf{Hi} \\\\\n",
       "                       & $\\beta_{0}$   & -8.40         & -22.69           & 12.37       \\\\\n",
       " chol                  & $\\beta_{1}$   & 0.00          & -0.00            & 0.01        \\\\\n",
       " stab\\_glu             & $\\beta_{2}$   & 0.03          & 0.02             & 0.03        \\\\\n",
       " hdl                   & $\\beta_{3}$   & 0.00          & -0.03            & 0.02        \\\\\n",
       " ratio                 & $\\beta_{4}$   & 0.12          & -0.33            & 0.39        \\\\\n",
       " age                   & $\\beta_{5}$   & 0.01          & 0.00             & 0.02        \\\\\n",
       " height                & $\\beta_{6}$   & 0.07          & -0.14            & 0.23        \\\\\n",
       " weight                & $\\beta_{7}$   & -0.01         & -0.05            & 0.02        \\\\\n",
       " waist                 & $\\beta_{8}$   & -0.05         & -0.44            & 0.28        \\\\\n",
       " hip                   & $\\beta_{9}$   & 0.08          & -0.19            & 0.45        \\\\\n",
       " time\\_ppn             & $\\beta_{10}$  & 0.00          & 0.00             & 0.00        \\\\\n",
       " bp\\_s                 & $\\beta_{11}$  & 0.00          & -0.00            & 0.01        \\\\\n",
       " bp\\_d                 & $\\beta_{12}$  & 0.00          & -0.01            & 0.01        \\\\\n",
       " bmi                   & $\\beta_{13}$  & 0.05          & -0.16            & 0.26        \\\\\n",
       " waist\\_hip            & $\\beta_{14}$  & 3.97          & -10.61           & 19.91       \\\\\n",
       " male                  & $\\beta_{15}$  & -0.23         & -0.62            & 0.40        \\\\\n",
       " large                 & $\\beta_{16}$  & -0.07         & -0.60            & 0.30        \\\\\n",
       " medium                & $\\beta_{17}$  & 0.11          & -0.27            & 0.43        \\\\\n",
       "                       &               &               &                  &             \\\\\n",
       " \\textbf{Metrics}      & \\textbf{Mean} & \\textbf{Lo}   & \\textbf{Hi}      &             \\\\\n",
       " $\\sigma$              & 1.43          & 1.17          & 1.64             &             \\\\\n",
       " $R^2$                 & 0.60          & 0.49          & 0.73             &             \\\\\n",
       "\\bottomrule\n",
       "\\end{tabular}"
      ],
      "text/markdown": [
       "Model: glyhb ~ chol + stab_glu + hdl + ratio + age + height + weight + waist + hip + time_ppn + bp_s + bp_d + bmi + waist_hip + male + large + medium\n",
       "|------------------|--------------|----------|-------------|--------|\n",
       "|                  |              |          | **95% BCI** |        |\n",
       "| **Coefficients** |              | **Mean** | **Lo**      | **Hi** |\n",
       "|                  | $\\beta_{0}$  | -8.40    | -22.69      | 12.37  |\n",
       "| chol             | $\\beta_{1}$  | 0.00     | -0.00       | 0.01   |\n",
       "| stab_glu         | $\\beta_{2}$  | 0.03     | 0.02        | 0.03   |\n",
       "| hdl              | $\\beta_{3}$  | 0.00     | -0.03       | 0.02   |\n",
       "| ratio            | $\\beta_{4}$  | 0.12     | -0.33       | 0.39   |\n",
       "| age              | $\\beta_{5}$  | 0.01     | 0.00        | 0.02   |\n",
       "| height           | $\\beta_{6}$  | 0.07     | -0.14       | 0.23   |\n",
       "| weight           | $\\beta_{7}$  | -0.01    | -0.05       | 0.02   |\n",
       "| waist            | $\\beta_{8}$  | -0.05    | -0.44       | 0.28   |\n",
       "| hip              | $\\beta_{9}$  | 0.08     | -0.19       | 0.45   |\n",
       "| time_ppn         | $\\beta_{10}$ | 0.00     | 0.00        | 0.00   |\n",
       "| bp_s             | $\\beta_{11}$ | 0.00     | -0.00       | 0.01   |\n",
       "| bp_d             | $\\beta_{12}$ | 0.00     | -0.01       | 0.01   |\n",
       "| bmi              | $\\beta_{13}$ | 0.05     | -0.16       | 0.26   |\n",
       "| waist_hip        | $\\beta_{14}$ | 3.97     | -10.61      | 19.91  |\n",
       "| male             | $\\beta_{15}$ | -0.23    | -0.62       | 0.40   |\n",
       "| large            | $\\beta_{16}$ | -0.07    | -0.60       | 0.30   |\n",
       "| medium           | $\\beta_{17}$ | 0.11     | -0.27       | 0.43   |\n",
       "|                  |              |          |             |        |\n",
       "| **Metrics**      | **Mean**     | **Lo**   | **Hi**      |        |\n",
       "| $\\sigma$         | 1.43         | 1.17     | 1.64        |        |\n",
       "| $R^2$            | 0.60         | 0.49     | 0.73        |        |"
      ],
      "text/plain": [
       "<models.ResultsWrapper at 0x11c889eb0>"
      ]
     },
     "execution_count": 62,
     "metadata": {},
     "output_type": "execute_result"
    }
   ],
   "source": [
    "subset = data.select_dtypes(include=\"number\").columns.drop([\"glyhb\", \"female\", \"small\", \"eAG\"])\n",
    "model = f'glyhb ~ {\" + \".join(subset)}'\n",
    "result1 = models.bootstrap_linear_regression(model, data=data.dropna(subset=subset))\n",
    "models.describe_bootstrap_lr(result1)"
   ]
  },
  {
   "cell_type": "markdown",
   "metadata": {},
   "source": [
    "We can learn a lot from the initial model -- first, the overall performance is fairly decent.\n",
    "\n",
    "- Somewhat surprising, the model seems to have found a relationship between waist-to-hip ratio and A1c. This counters our exploratory data analysis, but falls inline with other diabetes prediction models.\n",
    "- Stabilized glucose is a positive relationship -- as it increases, so does A1c (diabetes more likely). However, this relationship was strong, but due to the inconsistent scales, the \"importance\" of this variable may be understated in the model.\n",
    "- BMI is supported in the data, but is victim to the same scale issue as stabilized glucose.\n",
    "- There are several variables expressed multiple times, such as `hip` and `waist` being redundant with `waist_hip` there.\n",
    "- Frame shows a relationship, but is inconsistent across the \"large\" and \"medium\" categories."
   ]
  },
  {
   "cell_type": "markdown",
   "metadata": {},
   "source": [
    "### Correlation coeffecients"
   ]
  },
  {
   "cell_type": "markdown",
   "metadata": {},
   "source": [
    "Before we proceed, let's look at correlation coeffecients for each of our numeric variables:"
   ]
  },
  {
   "cell_type": "code",
   "execution_count": 63,
   "metadata": {},
   "outputs": [],
   "source": [
    "def correlations(data, y, xs):\n",
    "    rs = []\n",
    "    rhos = []\n",
    "    for x in xs:\n",
    "        r = stats.pearsonr(data[y], data[x])[0]\n",
    "        rs.append(r)\n",
    "        rho = stats.spearmanr(data[y], data[x])[0]\n",
    "        rhos.append(rho)\n",
    "    return pd.DataFrame({\"feature\": xs, \"r\": rs, \"rho\": rhos})"
   ]
  },
  {
   "cell_type": "code",
   "execution_count": 64,
   "metadata": {},
   "outputs": [
    {
     "data": {
      "text/html": [
       "<div>\n",
       "<style scoped>\n",
       "    .dataframe tbody tr th:only-of-type {\n",
       "        vertical-align: middle;\n",
       "    }\n",
       "\n",
       "    .dataframe tbody tr th {\n",
       "        vertical-align: top;\n",
       "    }\n",
       "\n",
       "    .dataframe thead th {\n",
       "        text-align: right;\n",
       "    }\n",
       "</style>\n",
       "<table border=\"1\" class=\"dataframe\">\n",
       "  <thead>\n",
       "    <tr style=\"text-align: right;\">\n",
       "      <th></th>\n",
       "      <th>feature</th>\n",
       "      <th>r</th>\n",
       "      <th>rho</th>\n",
       "    </tr>\n",
       "  </thead>\n",
       "  <tbody>\n",
       "    <tr>\n",
       "      <th>0</th>\n",
       "      <td>chol</td>\n",
       "      <td>0.271652</td>\n",
       "      <td>0.225731</td>\n",
       "    </tr>\n",
       "    <tr>\n",
       "      <th>1</th>\n",
       "      <td>stab_glu</td>\n",
       "      <td>0.740905</td>\n",
       "      <td>0.519988</td>\n",
       "    </tr>\n",
       "    <tr>\n",
       "      <th>2</th>\n",
       "      <td>hdl</td>\n",
       "      <td>-0.169496</td>\n",
       "      <td>-0.210278</td>\n",
       "    </tr>\n",
       "    <tr>\n",
       "      <th>3</th>\n",
       "      <td>ratio</td>\n",
       "      <td>0.354653</td>\n",
       "      <td>0.309827</td>\n",
       "    </tr>\n",
       "    <tr>\n",
       "      <th>4</th>\n",
       "      <td>glyhb</td>\n",
       "      <td>1.000000</td>\n",
       "      <td>1.000000</td>\n",
       "    </tr>\n",
       "    <tr>\n",
       "      <th>5</th>\n",
       "      <td>age</td>\n",
       "      <td>0.332230</td>\n",
       "      <td>0.427119</td>\n",
       "    </tr>\n",
       "    <tr>\n",
       "      <th>6</th>\n",
       "      <td>height</td>\n",
       "      <td>0.052251</td>\n",
       "      <td>0.025864</td>\n",
       "    </tr>\n",
       "    <tr>\n",
       "      <th>7</th>\n",
       "      <td>weight</td>\n",
       "      <td>0.167769</td>\n",
       "      <td>0.222719</td>\n",
       "    </tr>\n",
       "    <tr>\n",
       "      <th>8</th>\n",
       "      <td>waist</td>\n",
       "      <td>0.247687</td>\n",
       "      <td>0.333495</td>\n",
       "    </tr>\n",
       "    <tr>\n",
       "      <th>9</th>\n",
       "      <td>hip</td>\n",
       "      <td>0.151673</td>\n",
       "      <td>0.234254</td>\n",
       "    </tr>\n",
       "    <tr>\n",
       "      <th>10</th>\n",
       "      <td>time_ppn</td>\n",
       "      <td>0.037049</td>\n",
       "      <td>0.037208</td>\n",
       "    </tr>\n",
       "    <tr>\n",
       "      <th>11</th>\n",
       "      <td>bp_s</td>\n",
       "      <td>0.163768</td>\n",
       "      <td>0.249607</td>\n",
       "    </tr>\n",
       "    <tr>\n",
       "      <th>12</th>\n",
       "      <td>bp_d</td>\n",
       "      <td>0.030373</td>\n",
       "      <td>0.068304</td>\n",
       "    </tr>\n",
       "    <tr>\n",
       "      <th>13</th>\n",
       "      <td>eAG</td>\n",
       "      <td>1.000000</td>\n",
       "      <td>1.000000</td>\n",
       "    </tr>\n",
       "    <tr>\n",
       "      <th>14</th>\n",
       "      <td>bmi</td>\n",
       "      <td>0.135814</td>\n",
       "      <td>0.225608</td>\n",
       "    </tr>\n",
       "    <tr>\n",
       "      <th>15</th>\n",
       "      <td>waist_hip</td>\n",
       "      <td>0.215695</td>\n",
       "      <td>0.258480</td>\n",
       "    </tr>\n",
       "    <tr>\n",
       "      <th>16</th>\n",
       "      <td>female</td>\n",
       "      <td>-0.047659</td>\n",
       "      <td>-0.069116</td>\n",
       "    </tr>\n",
       "    <tr>\n",
       "      <th>17</th>\n",
       "      <td>male</td>\n",
       "      <td>0.047659</td>\n",
       "      <td>0.069116</td>\n",
       "    </tr>\n",
       "    <tr>\n",
       "      <th>18</th>\n",
       "      <td>large</td>\n",
       "      <td>0.127820</td>\n",
       "      <td>0.214730</td>\n",
       "    </tr>\n",
       "    <tr>\n",
       "      <th>19</th>\n",
       "      <td>medium</td>\n",
       "      <td>0.018171</td>\n",
       "      <td>0.009482</td>\n",
       "    </tr>\n",
       "    <tr>\n",
       "      <th>20</th>\n",
       "      <td>small</td>\n",
       "      <td>-0.147461</td>\n",
       "      <td>-0.224007</td>\n",
       "    </tr>\n",
       "  </tbody>\n",
       "</table>\n",
       "</div>"
      ],
      "text/plain": [
       "      feature         r       rho\n",
       "0        chol  0.271652  0.225731\n",
       "1    stab_glu  0.740905  0.519988\n",
       "2         hdl -0.169496 -0.210278\n",
       "3       ratio  0.354653  0.309827\n",
       "4       glyhb  1.000000  1.000000\n",
       "5         age  0.332230  0.427119\n",
       "6      height  0.052251  0.025864\n",
       "7      weight  0.167769  0.222719\n",
       "8       waist  0.247687  0.333495\n",
       "9         hip  0.151673  0.234254\n",
       "10   time_ppn  0.037049  0.037208\n",
       "11       bp_s  0.163768  0.249607\n",
       "12       bp_d  0.030373  0.068304\n",
       "13        eAG  1.000000  1.000000\n",
       "14        bmi  0.135814  0.225608\n",
       "15  waist_hip  0.215695  0.258480\n",
       "16     female -0.047659 -0.069116\n",
       "17       male  0.047659  0.069116\n",
       "18      large  0.127820  0.214730\n",
       "19     medium  0.018171  0.009482\n",
       "20      small -0.147461 -0.224007"
      ]
     },
     "execution_count": 64,
     "metadata": {},
     "output_type": "execute_result"
    }
   ],
   "source": [
    "correlations(data.dropna(), \"glyhb\", data.select_dtypes(include=\"number\").columns)"
   ]
  },
  {
   "cell_type": "markdown",
   "metadata": {},
   "source": [
    "This confirms a lot of what we saw in our initial model. Stabilized glucose shows the strongest positive relationship -- nothing unexpected there. Cholesterol ratio shows the strongest relationship amonst the cholesterol-related variables. The waist-to-hip relationship is certainly present, most variables with relationships deomonstrating possibly non-linear relationship based on the Spearman's coeffecients."
   ]
  },
  {
   "cell_type": "markdown",
   "metadata": {},
   "source": [
    "Let's simplify our model using only variables with relationships to the target variable:"
   ]
  },
  {
   "cell_type": "code",
   "execution_count": 65,
   "metadata": {},
   "outputs": [
    {
     "data": {
      "text/html": [
       "<p><strong>Model: glyhb ~ stab_glu + ratio + waist_hip + large + medium + bmi + age</strong><br/><table>\n",
       "<tbody>\n",
       "<tr><td>                             </td><td>                     </td><td>                     </td><td><strong>95% BCI</strong</td><td>                   </td></tr>\n",
       "<tr><td><strong>Coefficients</strong</td><td>                     </td><td><strong>Mean</strong</td><td><strong>Lo</strong     </td><td><strong>Hi</strong</td></tr>\n",
       "<tr><td>                             </td><td>$\\beta_{0}$          </td><td>0.41                 </td><td>-0.93                   </td><td>2.39               </td></tr>\n",
       "<tr><td>stab_glu                     </td><td>$\\beta_{1}$          </td><td>0.03                 </td><td>0.02                    </td><td>0.03               </td></tr>\n",
       "<tr><td>ratio                        </td><td>$\\beta_{2}$          </td><td>0.15                 </td><td>-0.04                   </td><td>0.25               </td></tr>\n",
       "<tr><td>waist_hip                    </td><td>$\\beta_{3}$          </td><td>0.60                 </td><td>-2.04                   </td><td>2.38               </td></tr>\n",
       "<tr><td>large                        </td><td>$\\beta_{4}$          </td><td>-0.08                </td><td>-0.52                   </td><td>0.32               </td></tr>\n",
       "<tr><td>medium                       </td><td>$\\beta_{5}$          </td><td>0.17                 </td><td>-0.17                   </td><td>0.55               </td></tr>\n",
       "<tr><td>bmi                          </td><td>$\\beta_{6}$          </td><td>0.01                 </td><td>-0.01                   </td><td>0.03               </td></tr>\n",
       "<tr><td>age                          </td><td>$\\beta_{7}$          </td><td>0.02                 </td><td>0.01                    </td><td>0.03               </td></tr>\n",
       "<tr><td>                             </td><td>                     </td><td>                     </td><td>                        </td><td>                   </td></tr>\n",
       "<tr><td><strong>Metrics</strong     </td><td><strong>Mean</strong</td><td><strong>Lo</strong  </td><td><strong>Hi</strong     </td><td>                   </td></tr>\n",
       "<tr><td>$\\sigma$                     </td><td>1.43                 </td><td>1.20                 </td><td>1.68                    </td><td>                   </td></tr>\n",
       "<tr><td>$R^2$                        </td><td>0.59                 </td><td>0.45                 </td><td>0.69                    </td><td>                   </td></tr>\n",
       "</tbody>\n",
       "</table></p>"
      ],
      "text/latex": [
       "\\textbf{Model: glyhb $\\sim$ stab\\_glu + ratio + waist\\_hip + large + medium + bmi + age}\n",
       "\n",
       "\\begin{tabular}{lllll}\n",
       "\\toprule\n",
       "                       &               &               & \\textbf{95\\% BCI} &             \\\\\n",
       " \\textbf{Coefficients} &               & \\textbf{Mean} & \\textbf{Lo}      & \\textbf{Hi} \\\\\n",
       "                       & $\\beta_{0}$   & 0.41          & -0.93            & 2.39        \\\\\n",
       " stab\\_glu             & $\\beta_{1}$   & 0.03          & 0.02             & 0.03        \\\\\n",
       " ratio                 & $\\beta_{2}$   & 0.15          & -0.04            & 0.25        \\\\\n",
       " waist\\_hip            & $\\beta_{3}$   & 0.60          & -2.04            & 2.38        \\\\\n",
       " large                 & $\\beta_{4}$   & -0.08         & -0.52            & 0.32        \\\\\n",
       " medium                & $\\beta_{5}$   & 0.17          & -0.17            & 0.55        \\\\\n",
       " bmi                   & $\\beta_{6}$   & 0.01          & -0.01            & 0.03        \\\\\n",
       " age                   & $\\beta_{7}$   & 0.02          & 0.01             & 0.03        \\\\\n",
       "                       &               &               &                  &             \\\\\n",
       " \\textbf{Metrics}      & \\textbf{Mean} & \\textbf{Lo}   & \\textbf{Hi}      &             \\\\\n",
       " $\\sigma$              & 1.43          & 1.20          & 1.68             &             \\\\\n",
       " $R^2$                 & 0.59          & 0.45          & 0.69             &             \\\\\n",
       "\\bottomrule\n",
       "\\end{tabular}"
      ],
      "text/markdown": [
       "Model: glyhb ~ stab_glu + ratio + waist_hip + large + medium + bmi + age\n",
       "|------------------|-------------|----------|-------------|--------|\n",
       "|                  |             |          | **95% BCI** |        |\n",
       "| **Coefficients** |             | **Mean** | **Lo**      | **Hi** |\n",
       "|                  | $\\beta_{0}$ | 0.41     | -0.93       | 2.39   |\n",
       "| stab_glu         | $\\beta_{1}$ | 0.03     | 0.02        | 0.03   |\n",
       "| ratio            | $\\beta_{2}$ | 0.15     | -0.04       | 0.25   |\n",
       "| waist_hip        | $\\beta_{3}$ | 0.60     | -2.04       | 2.38   |\n",
       "| large            | $\\beta_{4}$ | -0.08    | -0.52       | 0.32   |\n",
       "| medium           | $\\beta_{5}$ | 0.17     | -0.17       | 0.55   |\n",
       "| bmi              | $\\beta_{6}$ | 0.01     | -0.01       | 0.03   |\n",
       "| age              | $\\beta_{7}$ | 0.02     | 0.01        | 0.03   |\n",
       "|                  |             |          |             |        |\n",
       "| **Metrics**      | **Mean**    | **Lo**   | **Hi**      |        |\n",
       "| $\\sigma$         | 1.43        | 1.20     | 1.68        |        |\n",
       "| $R^2$            | 0.59        | 0.45     | 0.69        |        |"
      ],
      "text/plain": [
       "<models.ResultsWrapper at 0x11c86f460>"
      ]
     },
     "execution_count": 65,
     "metadata": {},
     "output_type": "execute_result"
    }
   ],
   "source": [
    "subset = [\"stab_glu\", \"ratio\", \"waist_hip\", \"large\", \"medium\", \"bmi\", \"age\"]\n",
    "model = f'glyhb ~ {\" + \".join(subset)}'\n",
    "result2 = models.bootstrap_linear_regression(model, data=data.dropna(subset=subset))\n",
    "models.describe_bootstrap_lr(result2)"
   ]
  },
  {
   "cell_type": "markdown",
   "metadata": {},
   "source": [
    "### Domain knowledge numerical to categorical"
   ]
  },
  {
   "cell_type": "markdown",
   "metadata": {},
   "source": [
    "Good, our $R^2$ and $\\sigma$ are mantained despite the reduction in variables -- we'll keep things with fewer variables despite the slight error increase. Next, we'll use domain knowledge to bolster our model. Let's define one-hot encoded boolean variables discussed in exploratory data analysis: whether the individual is `obese`, whether the individual is `older`, and whether the individual has `hypertension`. We'll also attempt to use the stabilized glucose value as an indicator as to whether the indiviual is `diabetic`."
   ]
  },
  {
   "cell_type": "code",
   "execution_count": 66,
   "metadata": {},
   "outputs": [],
   "source": [
    "data[\"obese\"] = (data[\"bmi\"] > 30).astype(int, errors=\"ignore\")\n",
    "data[\"older\"] = (data[\"age\"] > 60).astype(int, errors=\"ignore\")\n",
    "data[\"hypertension\"] = ((data[\"bp_s\"] < 130) & (data[\"bp_d\"] < 80)).astype(int, errors=\"ignore\")\n",
    "data[\"diabetic\"] = (data[\"stab_glu\"] > 130).astype(int, errors=\"ignore\")"
   ]
  },
  {
   "cell_type": "markdown",
   "metadata": {},
   "source": [
    "Let's add these to see if there is any effect on the overall performance of the linear model:"
   ]
  },
  {
   "cell_type": "code",
   "execution_count": 67,
   "metadata": {},
   "outputs": [
    {
     "data": {
      "text/html": [
       "<p><strong>Model: glyhb ~ stab_glu + ratio + waist_hip + large + medium + bmi + age + obese + older + hypertension</strong><br/><table>\n",
       "<tbody>\n",
       "<tr><td>                             </td><td>                     </td><td>                     </td><td><strong>95% BCI</strong</td><td>                   </td></tr>\n",
       "<tr><td><strong>Coefficients</strong</td><td>                     </td><td><strong>Mean</strong</td><td><strong>Lo</strong     </td><td><strong>Hi</strong</td></tr>\n",
       "<tr><td>                             </td><td>$\\beta_{0}$          </td><td>-0.06                </td><td>-2.05                   </td><td>2.19               </td></tr>\n",
       "<tr><td>stab_glu                     </td><td>$\\beta_{1}$          </td><td>0.03                 </td><td>0.02                    </td><td>0.03               </td></tr>\n",
       "<tr><td>ratio                        </td><td>$\\beta_{2}$          </td><td>0.15                 </td><td>-0.01                   </td><td>0.28               </td></tr>\n",
       "<tr><td>waist_hip                    </td><td>$\\beta_{3}$          </td><td>0.63                 </td><td>-1.59                   </td><td>2.48               </td></tr>\n",
       "<tr><td>large                        </td><td>$\\beta_{4}$          </td><td>-0.09                </td><td>-0.57                   </td><td>0.30               </td></tr>\n",
       "<tr><td>medium                       </td><td>$\\beta_{5}$          </td><td>0.17                 </td><td>-0.16                   </td><td>0.54               </td></tr>\n",
       "<tr><td>bmi                          </td><td>$\\beta_{6}$          </td><td>0.03                 </td><td>-0.01                   </td><td>0.06               </td></tr>\n",
       "<tr><td>age                          </td><td>$\\beta_{7}$          </td><td>0.02                 </td><td>-0.00                   </td><td>0.03               </td></tr>\n",
       "<tr><td>obese                        </td><td>$\\beta_{8}$          </td><td>-0.39                </td><td>-0.74                   </td><td>0.01               </td></tr>\n",
       "<tr><td>older                        </td><td>$\\beta_{9}$          </td><td>0.04                 </td><td>-0.54                   </td><td>0.69               </td></tr>\n",
       "<tr><td>hypertension                 </td><td>$\\beta_{10}$         </td><td>-0.04                </td><td>-0.28                   </td><td>0.25               </td></tr>\n",
       "<tr><td>                             </td><td>                     </td><td>                     </td><td>                        </td><td>                   </td></tr>\n",
       "<tr><td><strong>Metrics</strong     </td><td><strong>Mean</strong</td><td><strong>Lo</strong  </td><td><strong>Hi</strong     </td><td>                   </td></tr>\n",
       "<tr><td>$\\sigma$                     </td><td>1.44                 </td><td>1.17                 </td><td>1.62                    </td><td>                   </td></tr>\n",
       "<tr><td>$R^2$                        </td><td>0.59                 </td><td>0.49                 </td><td>0.71                    </td><td>                   </td></tr>\n",
       "</tbody>\n",
       "</table></p>"
      ],
      "text/latex": [
       "\\textbf{Model: glyhb $\\sim$ stab\\_glu + ratio + waist\\_hip + large + medium + bmi + age + obese + older + hypertension}\n",
       "\n",
       "\\begin{tabular}{lllll}\n",
       "\\toprule\n",
       "                       &               &               & \\textbf{95\\% BCI} &             \\\\\n",
       " \\textbf{Coefficients} &               & \\textbf{Mean} & \\textbf{Lo}      & \\textbf{Hi} \\\\\n",
       "                       & $\\beta_{0}$   & -0.06         & -2.05            & 2.19        \\\\\n",
       " stab\\_glu             & $\\beta_{1}$   & 0.03          & 0.02             & 0.03        \\\\\n",
       " ratio                 & $\\beta_{2}$   & 0.15          & -0.01            & 0.28        \\\\\n",
       " waist\\_hip            & $\\beta_{3}$   & 0.63          & -1.59            & 2.48        \\\\\n",
       " large                 & $\\beta_{4}$   & -0.09         & -0.57            & 0.30        \\\\\n",
       " medium                & $\\beta_{5}$   & 0.17          & -0.16            & 0.54        \\\\\n",
       " bmi                   & $\\beta_{6}$   & 0.03          & -0.01            & 0.06        \\\\\n",
       " age                   & $\\beta_{7}$   & 0.02          & -0.00            & 0.03        \\\\\n",
       " obese                 & $\\beta_{8}$   & -0.39         & -0.74            & 0.01        \\\\\n",
       " older                 & $\\beta_{9}$   & 0.04          & -0.54            & 0.69        \\\\\n",
       " hypertension          & $\\beta_{10}$  & -0.04         & -0.28            & 0.25        \\\\\n",
       "                       &               &               &                  &             \\\\\n",
       " \\textbf{Metrics}      & \\textbf{Mean} & \\textbf{Lo}   & \\textbf{Hi}      &             \\\\\n",
       " $\\sigma$              & 1.44          & 1.17          & 1.62             &             \\\\\n",
       " $R^2$                 & 0.59          & 0.49          & 0.71             &             \\\\\n",
       "\\bottomrule\n",
       "\\end{tabular}"
      ],
      "text/markdown": [
       "Model: glyhb ~ stab_glu + ratio + waist_hip + large + medium + bmi + age + obese + older + hypertension\n",
       "|------------------|--------------|----------|-------------|--------|\n",
       "|                  |              |          | **95% BCI** |        |\n",
       "| **Coefficients** |              | **Mean** | **Lo**      | **Hi** |\n",
       "|                  | $\\beta_{0}$  | -0.06    | -2.05       | 2.19   |\n",
       "| stab_glu         | $\\beta_{1}$  | 0.03     | 0.02        | 0.03   |\n",
       "| ratio            | $\\beta_{2}$  | 0.15     | -0.01       | 0.28   |\n",
       "| waist_hip        | $\\beta_{3}$  | 0.63     | -1.59       | 2.48   |\n",
       "| large            | $\\beta_{4}$  | -0.09    | -0.57       | 0.30   |\n",
       "| medium           | $\\beta_{5}$  | 0.17     | -0.16       | 0.54   |\n",
       "| bmi              | $\\beta_{6}$  | 0.03     | -0.01       | 0.06   |\n",
       "| age              | $\\beta_{7}$  | 0.02     | -0.00       | 0.03   |\n",
       "| obese            | $\\beta_{8}$  | -0.39    | -0.74       | 0.01   |\n",
       "| older            | $\\beta_{9}$  | 0.04     | -0.54       | 0.69   |\n",
       "| hypertension     | $\\beta_{10}$ | -0.04    | -0.28       | 0.25   |\n",
       "|                  |              |          |             |        |\n",
       "| **Metrics**      | **Mean**     | **Lo**   | **Hi**      |        |\n",
       "| $\\sigma$         | 1.44         | 1.17     | 1.62        |        |\n",
       "| $R^2$            | 0.59         | 0.49     | 0.71        |        |"
      ],
      "text/plain": [
       "<models.ResultsWrapper at 0x11c8e4c40>"
      ]
     },
     "execution_count": 67,
     "metadata": {},
     "output_type": "execute_result"
    }
   ],
   "source": [
    "subset = [\"stab_glu\", \"ratio\", \"waist_hip\", \"large\", \"medium\", \"bmi\", \"age\", \"obese\", \"older\", \"hypertension\"]\n",
    "model = f'glyhb ~ {\" + \".join(subset)}'\n",
    "result3 = models.bootstrap_linear_regression(model, data=data.dropna(subset=subset))\n",
    "models.describe_bootstrap_lr(result3)"
   ]
  },
  {
   "cell_type": "markdown",
   "metadata": {},
   "source": [
    "Not enough of a difference to make it worth including them. Let's define our revised model for now:"
   ]
  },
  {
   "cell_type": "code",
   "execution_count": 68,
   "metadata": {},
   "outputs": [
    {
     "data": {
      "text/html": [
       "<p><strong>Model: glyhb ~ stab_glu + ratio + waist_hip + large + medium + bmi + age</strong><br/><table>\n",
       "<tbody>\n",
       "<tr><td>                             </td><td>                     </td><td>                     </td><td><strong>95% BCI</strong</td><td>                   </td></tr>\n",
       "<tr><td><strong>Coefficients</strong</td><td>                     </td><td><strong>Mean</strong</td><td><strong>Lo</strong     </td><td><strong>Hi</strong</td></tr>\n",
       "<tr><td>                             </td><td>$\\beta_{0}$          </td><td>0.41                 </td><td>-1.18                   </td><td>2.24               </td></tr>\n",
       "<tr><td>stab_glu                     </td><td>$\\beta_{1}$          </td><td>0.03                 </td><td>0.02                    </td><td>0.03               </td></tr>\n",
       "<tr><td>ratio                        </td><td>$\\beta_{2}$          </td><td>0.15                 </td><td>-0.01                   </td><td>0.25               </td></tr>\n",
       "<tr><td>waist_hip                    </td><td>$\\beta_{3}$          </td><td>0.60                 </td><td>-1.15                   </td><td>2.66               </td></tr>\n",
       "<tr><td>large                        </td><td>$\\beta_{4}$          </td><td>-0.08                </td><td>-0.61                   </td><td>0.42               </td></tr>\n",
       "<tr><td>medium                       </td><td>$\\beta_{5}$          </td><td>0.17                 </td><td>-0.20                   </td><td>0.52               </td></tr>\n",
       "<tr><td>bmi                          </td><td>$\\beta_{6}$          </td><td>0.01                 </td><td>-0.01                   </td><td>0.03               </td></tr>\n",
       "<tr><td>age                          </td><td>$\\beta_{7}$          </td><td>0.02                 </td><td>0.01                    </td><td>0.03               </td></tr>\n",
       "<tr><td>                             </td><td>                     </td><td>                     </td><td>                        </td><td>                   </td></tr>\n",
       "<tr><td><strong>Metrics</strong     </td><td><strong>Mean</strong</td><td><strong>Lo</strong  </td><td><strong>Hi</strong     </td><td>                   </td></tr>\n",
       "<tr><td>$\\sigma$                     </td><td>1.43                 </td><td>1.15                 </td><td>1.67                    </td><td>                   </td></tr>\n",
       "<tr><td>$R^2$                        </td><td>0.59                 </td><td>0.46                 </td><td>0.71                    </td><td>                   </td></tr>\n",
       "</tbody>\n",
       "</table></p>"
      ],
      "text/latex": [
       "\\textbf{Model: glyhb $\\sim$ stab\\_glu + ratio + waist\\_hip + large + medium + bmi + age}\n",
       "\n",
       "\\begin{tabular}{lllll}\n",
       "\\toprule\n",
       "                       &               &               & \\textbf{95\\% BCI} &             \\\\\n",
       " \\textbf{Coefficients} &               & \\textbf{Mean} & \\textbf{Lo}      & \\textbf{Hi} \\\\\n",
       "                       & $\\beta_{0}$   & 0.41          & -1.18            & 2.24        \\\\\n",
       " stab\\_glu             & $\\beta_{1}$   & 0.03          & 0.02             & 0.03        \\\\\n",
       " ratio                 & $\\beta_{2}$   & 0.15          & -0.01            & 0.25        \\\\\n",
       " waist\\_hip            & $\\beta_{3}$   & 0.60          & -1.15            & 2.66        \\\\\n",
       " large                 & $\\beta_{4}$   & -0.08         & -0.61            & 0.42        \\\\\n",
       " medium                & $\\beta_{5}$   & 0.17          & -0.20            & 0.52        \\\\\n",
       " bmi                   & $\\beta_{6}$   & 0.01          & -0.01            & 0.03        \\\\\n",
       " age                   & $\\beta_{7}$   & 0.02          & 0.01             & 0.03        \\\\\n",
       "                       &               &               &                  &             \\\\\n",
       " \\textbf{Metrics}      & \\textbf{Mean} & \\textbf{Lo}   & \\textbf{Hi}      &             \\\\\n",
       " $\\sigma$              & 1.43          & 1.15          & 1.67             &             \\\\\n",
       " $R^2$                 & 0.59          & 0.46          & 0.71             &             \\\\\n",
       "\\bottomrule\n",
       "\\end{tabular}"
      ],
      "text/markdown": [
       "Model: glyhb ~ stab_glu + ratio + waist_hip + large + medium + bmi + age\n",
       "|------------------|-------------|----------|-------------|--------|\n",
       "|                  |             |          | **95% BCI** |        |\n",
       "| **Coefficients** |             | **Mean** | **Lo**      | **Hi** |\n",
       "|                  | $\\beta_{0}$ | 0.41     | -1.18       | 2.24   |\n",
       "| stab_glu         | $\\beta_{1}$ | 0.03     | 0.02        | 0.03   |\n",
       "| ratio            | $\\beta_{2}$ | 0.15     | -0.01       | 0.25   |\n",
       "| waist_hip        | $\\beta_{3}$ | 0.60     | -1.15       | 2.66   |\n",
       "| large            | $\\beta_{4}$ | -0.08    | -0.61       | 0.42   |\n",
       "| medium           | $\\beta_{5}$ | 0.17     | -0.20       | 0.52   |\n",
       "| bmi              | $\\beta_{6}$ | 0.01     | -0.01       | 0.03   |\n",
       "| age              | $\\beta_{7}$ | 0.02     | 0.01        | 0.03   |\n",
       "|                  |             |          |             |        |\n",
       "| **Metrics**      | **Mean**    | **Lo**   | **Hi**      |        |\n",
       "| $\\sigma$         | 1.43        | 1.15     | 1.67        |        |\n",
       "| $R^2$            | 0.59        | 0.46     | 0.71        |        |"
      ],
      "text/plain": [
       "<models.ResultsWrapper at 0x11c91e0d0>"
      ]
     },
     "execution_count": 68,
     "metadata": {},
     "output_type": "execute_result"
    }
   ],
   "source": [
    "subset = [\"stab_glu\", \"ratio\", \"waist_hip\", \"large\", \"medium\", \"bmi\", \"age\"]\n",
    "model =f'glyhb ~ {\" + \".join(subset)}'\n",
    "result4 = models.bootstrap_linear_regression(model, data=data.dropna(subset=subset))\n",
    "models.describe_bootstrap_lr(result4)"
   ]
  },
  {
   "cell_type": "markdown",
   "metadata": {},
   "source": [
    "### Residuals"
   ]
  },
  {
   "cell_type": "markdown",
   "metadata": {},
   "source": [
    "Prior to finalizing the model, let's look at the residual error for the model. Together with domain knowledge, we can attempt to improve our model."
   ]
  },
  {
   "cell_type": "code",
   "execution_count": 69,
   "metadata": {},
   "outputs": [
    {
     "data": {
      "image/png": "[encoded data removed]",
      "text/plain": [
       "<Figure size 1440x432 with 7 Axes>"
      ]
     },
     "metadata": {
      "needs_background": "light"
     },
     "output_type": "display_data"
    }
   ],
   "source": [
    "figure = plt.figure(figsize=(20,6))\n",
    "variables = subset\n",
    "plots = len(variables)\n",
    "rows = (plots // 3) + 1\n",
    "\n",
    "for i, variable in enumerate(variables): \n",
    "    axes = figure.add_subplot(rows, 3, i + 1)\n",
    "    keyed_values = sorted( zip(data[variable].values, result4[\"residuals\"]), key=lambda x: x[0])\n",
    "    residuals = [x[1][0] for x in keyed_values]\n",
    "    axes.plot(list(range(0, result4[\"n\"])), residuals, \".\", color=\"dimgray\", alpha=0.75)\n",
    "    axes.axhline(y=0.0, xmin=0, xmax=result4[\"n\"], c=\"firebrick\", alpha=0.5)\n",
    "    axes.set_title(variable + \" vs residuals\")\n",
    "\n",
    "plt.show()\n",
    "plt.close()"
   ]
  },
  {
   "cell_type": "markdown",
   "metadata": {},
   "source": [
    "Wow -- these all look phenomenal. The residuals seem to indicate incredibly linear relationships across the board, thus no further transformation would be very beneficial. Just to make sure, let's check a little closer at each of the residuals, as the outliers may be disguising the errors."
   ]
  },
  {
   "cell_type": "code",
   "execution_count": 70,
   "metadata": {},
   "outputs": [
    {
     "data": {
      "image/png": "[encoded data removed]",
      "text/plain": [
       "<Figure size 1440x432 with 7 Axes>"
      ]
     },
     "metadata": {
      "needs_background": "light"
     },
     "output_type": "display_data"
    }
   ],
   "source": [
    "figure = plt.figure(figsize=(20,6))\n",
    "variables = subset\n",
    "plots = len(variables)\n",
    "rows = (plots // 3) + 1\n",
    "\n",
    "for i, variable in enumerate(variables): \n",
    "    axes = figure.add_subplot(rows, 3, i + 1)\n",
    "    keyed_values = sorted( zip(data[variable].values, result4[\"residuals\"]), key=lambda x: x[0])\n",
    "    residuals = [x[1][0] for x in keyed_values]\n",
    "    axes.plot(list(range(0, result4[\"n\"])), residuals, \".\", color=\"dimgray\", alpha=0.75)\n",
    "    axes.axhline(y=0.0, xmin=0, xmax=result4[\"n\"], c=\"firebrick\", alpha=0.5)\n",
    "    axes.set_title(variable + \" vs residuals\")\n",
    "    axes.set_ylim((-5,5))\n",
    "\n",
    "plt.show()\n",
    "plt.close()"
   ]
  },
  {
   "cell_type": "markdown",
   "metadata": {},
   "source": [
    "The overall conclusion remains the same -- all of the residuals do not exhibit skews or worrisome patterns."
   ]
  },
  {
   "cell_type": "markdown",
   "metadata": {},
   "source": [
    "### Interaction terms / transformations"
   ]
  },
  {
   "cell_type": "markdown",
   "metadata": {},
   "source": [
    "Next, we'll take a look at some possible transformations to further improve our model. First, during exploratory data analysis, we noticed the higher stabilized glucose values above 100 mg/dL were critical to the relationship between the variable and A1c. Let's create a categorical variable to help extract that importance of the higher stabilized glucose values. We'll do this by \"predicting\" diabetes by transforming the normal, prediabetic, and diabetic ranges of A1c reading to a scale that is similar to stabilized glucose: estimated average glucose."
   ]
  },
  {
   "cell_type": "code",
   "execution_count": 71,
   "metadata": {},
   "outputs": [],
   "source": [
    "def A1c_to_eAG(A1c):\n",
    "    return 28.7 * A1c - 46.7"
   ]
  },
  {
   "cell_type": "code",
   "execution_count": 72,
   "metadata": {},
   "outputs": [],
   "source": [
    "data[\"numeric_diagnosis\"] = pd.cut(data[\"stab_glu\"], [0, A1c_to_eAG(5.7), A1c_to_eAG(6.4), np.inf], labels=[1, 2, 3]).astype(int)"
   ]
  },
  {
   "cell_type": "markdown",
   "metadata": {},
   "source": [
    "Let's use this numeric diagnosis as an interaction term with the stabilized glucose to emphasize the importance of higher stabilized glucose values."
   ]
  },
  {
   "cell_type": "code",
   "execution_count": 73,
   "metadata": {},
   "outputs": [
    {
     "data": {
      "text/html": [
       "<p><strong>Model: glyhb ~ stab_glu + ratio + waist_hip + large + medium + bmi + age + numeric_diagnosis</strong><br/><table>\n",
       "<tbody>\n",
       "<tr><td>                             </td><td>                     </td><td>                     </td><td><strong>95% BCI</strong</td><td>                   </td></tr>\n",
       "<tr><td><strong>Coefficients</strong</td><td>                     </td><td><strong>Mean</strong</td><td><strong>Lo</strong     </td><td><strong>Hi</strong</td></tr>\n",
       "<tr><td>                             </td><td>$\\beta_{0}$          </td><td>0.33                 </td><td>-0.91                   </td><td>1.70               </td></tr>\n",
       "<tr><td>stab_glu                     </td><td>$\\beta_{1}$          </td><td>0.02                 </td><td>0.01                    </td><td>0.03               </td></tr>\n",
       "<tr><td>ratio                        </td><td>$\\beta_{2}$          </td><td>0.13                 </td><td>-0.03                   </td><td>0.25               </td></tr>\n",
       "<tr><td>waist_hip                    </td><td>$\\beta_{3}$          </td><td>0.73                 </td><td>-1.09                   </td><td>2.38               </td></tr>\n",
       "<tr><td>large                        </td><td>$\\beta_{4}$          </td><td>-0.12                </td><td>-0.51                   </td><td>0.23               </td></tr>\n",
       "<tr><td>medium                       </td><td>$\\beta_{5}$          </td><td>0.16                 </td><td>-0.13                   </td><td>0.50               </td></tr>\n",
       "<tr><td>bmi                          </td><td>$\\beta_{6}$          </td><td>0.01                 </td><td>-0.01                   </td><td>0.03               </td></tr>\n",
       "<tr><td>age                          </td><td>$\\beta_{7}$          </td><td>0.02                 </td><td>0.01                    </td><td>0.03               </td></tr>\n",
       "<tr><td>numeric_diagnosis            </td><td>$\\beta_{8}$          </td><td>0.64                 </td><td>0.09                    </td><td>1.22               </td></tr>\n",
       "<tr><td>                             </td><td>                     </td><td>                     </td><td>                        </td><td>                   </td></tr>\n",
       "<tr><td><strong>Metrics</strong     </td><td><strong>Mean</strong</td><td><strong>Lo</strong  </td><td><strong>Hi</strong     </td><td>                   </td></tr>\n",
       "<tr><td>$\\sigma$                     </td><td>1.42                 </td><td>1.20                 </td><td>1.64                    </td><td>                   </td></tr>\n",
       "<tr><td>$R^2$                        </td><td>0.59                 </td><td>0.48                 </td><td>0.69                    </td><td>                   </td></tr>\n",
       "</tbody>\n",
       "</table></p>"
      ],
      "text/latex": [
       "\\textbf{Model: glyhb $\\sim$ stab\\_glu + ratio + waist\\_hip + large + medium + bmi + age + numeric\\_diagnosis}\n",
       "\n",
       "\\begin{tabular}{lllll}\n",
       "\\toprule\n",
       "                       &               &               & \\textbf{95\\% BCI} &             \\\\\n",
       " \\textbf{Coefficients} &               & \\textbf{Mean} & \\textbf{Lo}      & \\textbf{Hi} \\\\\n",
       "                       & $\\beta_{0}$   & 0.33          & -0.91            & 1.70        \\\\\n",
       " stab\\_glu             & $\\beta_{1}$   & 0.02          & 0.01             & 0.03        \\\\\n",
       " ratio                 & $\\beta_{2}$   & 0.13          & -0.03            & 0.25        \\\\\n",
       " waist\\_hip            & $\\beta_{3}$   & 0.73          & -1.09            & 2.38        \\\\\n",
       " large                 & $\\beta_{4}$   & -0.12         & -0.51            & 0.23        \\\\\n",
       " medium                & $\\beta_{5}$   & 0.16          & -0.13            & 0.50        \\\\\n",
       " bmi                   & $\\beta_{6}$   & 0.01          & -0.01            & 0.03        \\\\\n",
       " age                   & $\\beta_{7}$   & 0.02          & 0.01             & 0.03        \\\\\n",
       " numeric\\_diagnosis    & $\\beta_{8}$   & 0.64          & 0.09             & 1.22        \\\\\n",
       "                       &               &               &                  &             \\\\\n",
       " \\textbf{Metrics}      & \\textbf{Mean} & \\textbf{Lo}   & \\textbf{Hi}      &             \\\\\n",
       " $\\sigma$              & 1.42          & 1.20          & 1.64             &             \\\\\n",
       " $R^2$                 & 0.59          & 0.48          & 0.69             &             \\\\\n",
       "\\bottomrule\n",
       "\\end{tabular}"
      ],
      "text/markdown": [
       "Model: glyhb ~ stab_glu + ratio + waist_hip + large + medium + bmi + age + numeric_diagnosis\n",
       "|-------------------|-------------|----------|-------------|--------|\n",
       "|                   |             |          | **95% BCI** |        |\n",
       "| **Coefficients**  |             | **Mean** | **Lo**      | **Hi** |\n",
       "|                   | $\\beta_{0}$ | 0.33     | -0.91       | 1.70   |\n",
       "| stab_glu          | $\\beta_{1}$ | 0.02     | 0.01        | 0.03   |\n",
       "| ratio             | $\\beta_{2}$ | 0.13     | -0.03       | 0.25   |\n",
       "| waist_hip         | $\\beta_{3}$ | 0.73     | -1.09       | 2.38   |\n",
       "| large             | $\\beta_{4}$ | -0.12    | -0.51       | 0.23   |\n",
       "| medium            | $\\beta_{5}$ | 0.16     | -0.13       | 0.50   |\n",
       "| bmi               | $\\beta_{6}$ | 0.01     | -0.01       | 0.03   |\n",
       "| age               | $\\beta_{7}$ | 0.02     | 0.01        | 0.03   |\n",
       "| numeric_diagnosis | $\\beta_{8}$ | 0.64     | 0.09        | 1.22   |\n",
       "|                   |             |          |             |        |\n",
       "| **Metrics**       | **Mean**    | **Lo**   | **Hi**      |        |\n",
       "| $\\sigma$          | 1.42        | 1.20     | 1.64        |        |\n",
       "| $R^2$             | 0.59        | 0.48     | 0.69        |        |"
      ],
      "text/plain": [
       "<models.ResultsWrapper at 0x11cb3c3a0>"
      ]
     },
     "execution_count": 73,
     "metadata": {},
     "output_type": "execute_result"
    }
   ],
   "source": [
    "subset = [\"stab_glu\", \"ratio\", \"waist_hip\", \"large\", \"medium\", \"bmi\", \"age\", \"numeric_diagnosis\"]\n",
    "model = f'glyhb ~ {\" + \".join(subset)}'\n",
    "result5 = models.bootstrap_linear_regression(model, data=data.dropna(subset=subset))\n",
    "models.describe_bootstrap_lr(result5)"
   ]
  },
  {
   "cell_type": "markdown",
   "metadata": {},
   "source": [
    "No noticeable improvement, perhaps we could adjust the data to align with a natural baseline such as the average glucose reading for a normal indvidual: 100 mg/dL. This way, we can interpret the variable as a certain number *above* the normal baseline glucose reading."
   ]
  },
  {
   "cell_type": "code",
   "execution_count": 74,
   "metadata": {},
   "outputs": [],
   "source": [
    "data[\"stab_glu_100\"] = data[\"stab_glu\"] - 100"
   ]
  },
  {
   "cell_type": "code",
   "execution_count": 75,
   "metadata": {},
   "outputs": [
    {
     "data": {
      "text/html": [
       "<p><strong>Model: glyhb ~ stab_glu_100 + ratio + waist_hip + large + medium + bmi + age</strong><br/><table>\n",
       "<tbody>\n",
       "<tr><td>                             </td><td>                     </td><td>                     </td><td><strong>95% BCI</strong</td><td>                   </td></tr>\n",
       "<tr><td><strong>Coefficients</strong</td><td>                     </td><td><strong>Mean</strong</td><td><strong>Lo</strong     </td><td><strong>Hi</strong</td></tr>\n",
       "<tr><td>                             </td><td>$\\beta_{0}$          </td><td>3.17                 </td><td>1.64                    </td><td>5.05               </td></tr>\n",
       "<tr><td>stab_glu_100                 </td><td>$\\beta_{1}$          </td><td>0.03                 </td><td>0.02                    </td><td>0.03               </td></tr>\n",
       "<tr><td>ratio                        </td><td>$\\beta_{2}$          </td><td>0.15                 </td><td>-0.03                   </td><td>0.27               </td></tr>\n",
       "<tr><td>waist_hip                    </td><td>$\\beta_{3}$          </td><td>0.60                 </td><td>-1.14                   </td><td>2.33               </td></tr>\n",
       "<tr><td>large                        </td><td>$\\beta_{4}$          </td><td>-0.08                </td><td>-0.43                   </td><td>0.40               </td></tr>\n",
       "<tr><td>medium                       </td><td>$\\beta_{5}$          </td><td>0.17                 </td><td>-0.15                   </td><td>0.49               </td></tr>\n",
       "<tr><td>bmi                          </td><td>$\\beta_{6}$          </td><td>0.01                 </td><td>-0.01                   </td><td>0.02               </td></tr>\n",
       "<tr><td>age                          </td><td>$\\beta_{7}$          </td><td>0.02                 </td><td>0.01                    </td><td>0.03               </td></tr>\n",
       "<tr><td>                             </td><td>                     </td><td>                     </td><td>                        </td><td>                   </td></tr>\n",
       "<tr><td><strong>Metrics</strong     </td><td><strong>Mean</strong</td><td><strong>Lo</strong  </td><td><strong>Hi</strong     </td><td>                   </td></tr>\n",
       "<tr><td>$\\sigma$                     </td><td>1.43                 </td><td>1.13                 </td><td>1.59                    </td><td>                   </td></tr>\n",
       "<tr><td>$R^2$                        </td><td>0.59                 </td><td>0.45                 </td><td>0.72                    </td><td>                   </td></tr>\n",
       "</tbody>\n",
       "</table></p>"
      ],
      "text/latex": [
       "\\textbf{Model: glyhb $\\sim$ stab\\_glu\\_100 + ratio + waist\\_hip + large + medium + bmi + age}\n",
       "\n",
       "\\begin{tabular}{lllll}\n",
       "\\toprule\n",
       "                       &               &               & \\textbf{95\\% BCI} &             \\\\\n",
       " \\textbf{Coefficients} &               & \\textbf{Mean} & \\textbf{Lo}      & \\textbf{Hi} \\\\\n",
       "                       & $\\beta_{0}$   & 3.17          & 1.64             & 5.05        \\\\\n",
       " stab\\_glu\\_100        & $\\beta_{1}$   & 0.03          & 0.02             & 0.03        \\\\\n",
       " ratio                 & $\\beta_{2}$   & 0.15          & -0.03            & 0.27        \\\\\n",
       " waist\\_hip            & $\\beta_{3}$   & 0.60          & -1.14            & 2.33        \\\\\n",
       " large                 & $\\beta_{4}$   & -0.08         & -0.43            & 0.40        \\\\\n",
       " medium                & $\\beta_{5}$   & 0.17          & -0.15            & 0.49        \\\\\n",
       " bmi                   & $\\beta_{6}$   & 0.01          & -0.01            & 0.02        \\\\\n",
       " age                   & $\\beta_{7}$   & 0.02          & 0.01             & 0.03        \\\\\n",
       "                       &               &               &                  &             \\\\\n",
       " \\textbf{Metrics}      & \\textbf{Mean} & \\textbf{Lo}   & \\textbf{Hi}      &             \\\\\n",
       " $\\sigma$              & 1.43          & 1.13          & 1.59             &             \\\\\n",
       " $R^2$                 & 0.59          & 0.45          & 0.72             &             \\\\\n",
       "\\bottomrule\n",
       "\\end{tabular}"
      ],
      "text/markdown": [
       "Model: glyhb ~ stab_glu_100 + ratio + waist_hip + large + medium + bmi + age\n",
       "|------------------|-------------|----------|-------------|--------|\n",
       "|                  |             |          | **95% BCI** |        |\n",
       "| **Coefficients** |             | **Mean** | **Lo**      | **Hi** |\n",
       "|                  | $\\beta_{0}$ | 3.17     | 1.64        | 5.05   |\n",
       "| stab_glu_100     | $\\beta_{1}$ | 0.03     | 0.02        | 0.03   |\n",
       "| ratio            | $\\beta_{2}$ | 0.15     | -0.03       | 0.27   |\n",
       "| waist_hip        | $\\beta_{3}$ | 0.60     | -1.14       | 2.33   |\n",
       "| large            | $\\beta_{4}$ | -0.08    | -0.43       | 0.40   |\n",
       "| medium           | $\\beta_{5}$ | 0.17     | -0.15       | 0.49   |\n",
       "| bmi              | $\\beta_{6}$ | 0.01     | -0.01       | 0.02   |\n",
       "| age              | $\\beta_{7}$ | 0.02     | 0.01        | 0.03   |\n",
       "|                  |             |          |             |        |\n",
       "| **Metrics**      | **Mean**    | **Lo**   | **Hi**      |        |\n",
       "| $\\sigma$         | 1.43        | 1.13     | 1.59        |        |\n",
       "| $R^2$            | 0.59        | 0.45     | 0.72        |        |"
      ],
      "text/plain": [
       "<models.ResultsWrapper at 0x11cfd7d30>"
      ]
     },
     "execution_count": 75,
     "metadata": {},
     "output_type": "execute_result"
    }
   ],
   "source": [
    "subset = [\"stab_glu_100\", \"ratio\", \"waist_hip\", \"large\", \"medium\", \"bmi\", \"age\"]\n",
    "model = f'glyhb ~ {\" + \".join(subset)}'\n",
    "result6 = models.bootstrap_linear_regression(model, data=data.dropna(subset=subset))\n",
    "models.describe_bootstrap_lr(result6)"
   ]
  },
  {
   "cell_type": "markdown",
   "metadata": {},
   "source": [
    "Certainly didn't improve our model. Looks like our model is very stubbornly remaining at a $R^2$ value of around 60%. Let's finalize our model and move on to evaluation and comparison to the null model."
   ]
  },
  {
   "cell_type": "code",
   "execution_count": 76,
   "metadata": {},
   "outputs": [
    {
     "data": {
      "text/html": [
       "<p><strong>Model: glyhb ~ stab_glu + ratio + waist_hip + large + bmi + age</strong><br/><table>\n",
       "<tbody>\n",
       "<tr><td>                             </td><td>                     </td><td>                     </td><td><strong>95% BCI</strong</td><td>                   </td></tr>\n",
       "<tr><td><strong>Coefficients</strong</td><td>                     </td><td><strong>Mean</strong</td><td><strong>Lo</strong     </td><td><strong>Hi</strong</td></tr>\n",
       "<tr><td>                             </td><td>$\\beta_{0}$          </td><td>0.34                 </td><td>-1.40                   </td><td>1.76               </td></tr>\n",
       "<tr><td>stab_glu                     </td><td>$\\beta_{1}$          </td><td>0.03                 </td><td>0.02                    </td><td>0.03               </td></tr>\n",
       "<tr><td>ratio                        </td><td>$\\beta_{2}$          </td><td>0.16                 </td><td>0.01                    </td><td>0.27               </td></tr>\n",
       "<tr><td>waist_hip                    </td><td>$\\beta_{3}$          </td><td>0.68                 </td><td>-1.26                   </td><td>2.40               </td></tr>\n",
       "<tr><td>large                        </td><td>$\\beta_{4}$          </td><td>-0.20                </td><td>-0.55                   </td><td>0.12               </td></tr>\n",
       "<tr><td>bmi                          </td><td>$\\beta_{5}$          </td><td>0.01                 </td><td>-0.01                   </td><td>0.03               </td></tr>\n",
       "<tr><td>age                          </td><td>$\\beta_{6}$          </td><td>0.02                 </td><td>0.01                    </td><td>0.03               </td></tr>\n",
       "<tr><td>                             </td><td>                     </td><td>                     </td><td>                        </td><td>                   </td></tr>\n",
       "<tr><td><strong>Metrics</strong     </td><td><strong>Mean</strong</td><td><strong>Lo</strong  </td><td><strong>Hi</strong     </td><td>                   </td></tr>\n",
       "<tr><td>$\\sigma$                     </td><td>1.43                 </td><td>1.14                 </td><td>1.66                    </td><td>                   </td></tr>\n",
       "<tr><td>$R^2$                        </td><td>0.58                 </td><td>0.43                 </td><td>0.72                    </td><td>                   </td></tr>\n",
       "</tbody>\n",
       "</table></p>"
      ],
      "text/latex": [
       "\\textbf{Model: glyhb $\\sim$ stab\\_glu + ratio + waist\\_hip + large + bmi + age}\n",
       "\n",
       "\\begin{tabular}{lllll}\n",
       "\\toprule\n",
       "                       &               &               & \\textbf{95\\% BCI} &             \\\\\n",
       " \\textbf{Coefficients} &               & \\textbf{Mean} & \\textbf{Lo}      & \\textbf{Hi} \\\\\n",
       "                       & $\\beta_{0}$   & 0.34          & -1.40            & 1.76        \\\\\n",
       " stab\\_glu             & $\\beta_{1}$   & 0.03          & 0.02             & 0.03        \\\\\n",
       " ratio                 & $\\beta_{2}$   & 0.16          & 0.01             & 0.27        \\\\\n",
       " waist\\_hip            & $\\beta_{3}$   & 0.68          & -1.26            & 2.40        \\\\\n",
       " large                 & $\\beta_{4}$   & -0.20         & -0.55            & 0.12        \\\\\n",
       " bmi                   & $\\beta_{5}$   & 0.01          & -0.01            & 0.03        \\\\\n",
       " age                   & $\\beta_{6}$   & 0.02          & 0.01             & 0.03        \\\\\n",
       "                       &               &               &                  &             \\\\\n",
       " \\textbf{Metrics}      & \\textbf{Mean} & \\textbf{Lo}   & \\textbf{Hi}      &             \\\\\n",
       " $\\sigma$              & 1.43          & 1.14          & 1.66             &             \\\\\n",
       " $R^2$                 & 0.58          & 0.43          & 0.72             &             \\\\\n",
       "\\bottomrule\n",
       "\\end{tabular}"
      ],
      "text/markdown": [
       "Model: glyhb ~ stab_glu + ratio + waist_hip + large + bmi + age\n",
       "|------------------|-------------|----------|-------------|--------|\n",
       "|                  |             |          | **95% BCI** |        |\n",
       "| **Coefficients** |             | **Mean** | **Lo**      | **Hi** |\n",
       "|                  | $\\beta_{0}$ | 0.34     | -1.40       | 1.76   |\n",
       "| stab_glu         | $\\beta_{1}$ | 0.03     | 0.02        | 0.03   |\n",
       "| ratio            | $\\beta_{2}$ | 0.16     | 0.01        | 0.27   |\n",
       "| waist_hip        | $\\beta_{3}$ | 0.68     | -1.26       | 2.40   |\n",
       "| large            | $\\beta_{4}$ | -0.20    | -0.55       | 0.12   |\n",
       "| bmi              | $\\beta_{5}$ | 0.01     | -0.01       | 0.03   |\n",
       "| age              | $\\beta_{6}$ | 0.02     | 0.01        | 0.03   |\n",
       "|                  |             |          |             |        |\n",
       "| **Metrics**      | **Mean**    | **Lo**   | **Hi**      |        |\n",
       "| $\\sigma$         | 1.43        | 1.14     | 1.66        |        |\n",
       "| $R^2$            | 0.58        | 0.43     | 0.72        |        |"
      ],
      "text/plain": [
       "<models.ResultsWrapper at 0x11ce98c70>"
      ]
     },
     "execution_count": 76,
     "metadata": {},
     "output_type": "execute_result"
    }
   ],
   "source": [
    "final_model = \"glyhb ~ stab_glu + ratio + waist_hip + large + bmi + age\"\n",
    "final = models.bootstrap_linear_regression(final_model, data.dropna(subset=[\"stab_glu\", \"ratio\", \"waist_hip\", \"large\", \"bmi\", \"age\"]))\n",
    "models.describe_bootstrap_lr(final)"
   ]
  },
  {
   "cell_type": "markdown",
   "metadata": {},
   "source": [
    "*Prior to moving on, let's quickly attempt a log transormation on the `glyhb` variable. Since it is bounded by 0, it may be worthwhile to attempt.*"
   ]
  },
  {
   "cell_type": "code",
   "execution_count": 77,
   "metadata": {},
   "outputs": [
    {
     "data": {
      "text/html": [
       "<p><strong>Model: log_glyhb ~ stab_glu + ratio + waist_hip + large + bmi + age</strong><br/><table>\n",
       "<tbody>\n",
       "<tr><td>                             </td><td>                     </td><td>                     </td><td><strong>95% BCI</strong</td><td>                   </td></tr>\n",
       "<tr><td><strong>Coefficients</strong</td><td>                     </td><td><strong>Mean</strong</td><td><strong>Lo</strong     </td><td><strong>Hi</strong</td></tr>\n",
       "<tr><td>                             </td><td>$\\beta_{0}$          </td><td>0.83                 </td><td>0.56                    </td><td>1.05               </td></tr>\n",
       "<tr><td>stab_glu                     </td><td>$\\beta_{1}$          </td><td>0.00                 </td><td>0.00                    </td><td>0.00               </td></tr>\n",
       "<tr><td>ratio                        </td><td>$\\beta_{2}$          </td><td>0.02                 </td><td>0.00                    </td><td>0.04               </td></tr>\n",
       "<tr><td>waist_hip                    </td><td>$\\beta_{3}$          </td><td>0.14                 </td><td>-0.16                   </td><td>0.40               </td></tr>\n",
       "<tr><td>large                        </td><td>$\\beta_{4}$          </td><td>-0.01                </td><td>-0.07                   </td><td>0.02               </td></tr>\n",
       "<tr><td>bmi                          </td><td>$\\beta_{5}$          </td><td>0.00                 </td><td>-0.00                   </td><td>0.01               </td></tr>\n",
       "<tr><td>age                          </td><td>$\\beta_{6}$          </td><td>0.00                 </td><td>0.00                    </td><td>0.00               </td></tr>\n",
       "<tr><td>                             </td><td>                     </td><td>                     </td><td>                        </td><td>                   </td></tr>\n",
       "<tr><td><strong>Metrics</strong     </td><td><strong>Mean</strong</td><td><strong>Lo</strong  </td><td><strong>Hi</strong     </td><td>                   </td></tr>\n",
       "<tr><td>$\\sigma$                     </td><td>0.21                 </td><td>0.18                 </td><td>0.23                    </td><td>                   </td></tr>\n",
       "<tr><td>$R^2$                        </td><td>0.56                 </td><td>0.47                 </td><td>0.67                    </td><td>                   </td></tr>\n",
       "</tbody>\n",
       "</table></p>"
      ],
      "text/latex": [
       "\\textbf{Model: log\\_glyhb $\\sim$ stab\\_glu + ratio + waist\\_hip + large + bmi + age}\n",
       "\n",
       "\\begin{tabular}{lllll}\n",
       "\\toprule\n",
       "                       &               &               & \\textbf{95\\% BCI} &             \\\\\n",
       " \\textbf{Coefficients} &               & \\textbf{Mean} & \\textbf{Lo}      & \\textbf{Hi} \\\\\n",
       "                       & $\\beta_{0}$   & 0.83          & 0.56             & 1.05        \\\\\n",
       " stab\\_glu             & $\\beta_{1}$   & 0.00          & 0.00             & 0.00        \\\\\n",
       " ratio                 & $\\beta_{2}$   & 0.02          & 0.00             & 0.04        \\\\\n",
       " waist\\_hip            & $\\beta_{3}$   & 0.14          & -0.16            & 0.40        \\\\\n",
       " large                 & $\\beta_{4}$   & -0.01         & -0.07            & 0.02        \\\\\n",
       " bmi                   & $\\beta_{5}$   & 0.00          & -0.00            & 0.01        \\\\\n",
       " age                   & $\\beta_{6}$   & 0.00          & 0.00             & 0.00        \\\\\n",
       "                       &               &               &                  &             \\\\\n",
       " \\textbf{Metrics}      & \\textbf{Mean} & \\textbf{Lo}   & \\textbf{Hi}      &             \\\\\n",
       " $\\sigma$              & 0.21          & 0.18          & 0.23             &             \\\\\n",
       " $R^2$                 & 0.56          & 0.47          & 0.67             &             \\\\\n",
       "\\bottomrule\n",
       "\\end{tabular}"
      ],
      "text/markdown": [
       "Model: log_glyhb ~ stab_glu + ratio + waist_hip + large + bmi + age\n",
       "|------------------|-------------|----------|-------------|--------|\n",
       "|                  |             |          | **95% BCI** |        |\n",
       "| **Coefficients** |             | **Mean** | **Lo**      | **Hi** |\n",
       "|                  | $\\beta_{0}$ | 0.83     | 0.56        | 1.05   |\n",
       "| stab_glu         | $\\beta_{1}$ | 0.00     | 0.00        | 0.00   |\n",
       "| ratio            | $\\beta_{2}$ | 0.02     | 0.00        | 0.04   |\n",
       "| waist_hip        | $\\beta_{3}$ | 0.14     | -0.16       | 0.40   |\n",
       "| large            | $\\beta_{4}$ | -0.01    | -0.07       | 0.02   |\n",
       "| bmi              | $\\beta_{5}$ | 0.00     | -0.00       | 0.01   |\n",
       "| age              | $\\beta_{6}$ | 0.00     | 0.00        | 0.00   |\n",
       "|                  |             |          |             |        |\n",
       "| **Metrics**      | **Mean**    | **Lo**   | **Hi**      |        |\n",
       "| $\\sigma$         | 0.21        | 0.18     | 0.23        |        |\n",
       "| $R^2$            | 0.56        | 0.47     | 0.67        |        |"
      ],
      "text/plain": [
       "<models.ResultsWrapper at 0x11c87ddc0>"
      ]
     },
     "execution_count": 77,
     "metadata": {},
     "output_type": "execute_result"
    }
   ],
   "source": [
    "data[\"log_glyhb\"] = np.log(data[\"glyhb\"])\n",
    "\n",
    "log_model = \"log_glyhb ~ stab_glu + ratio + waist_hip + large + bmi + age\"\n",
    "log_result = models.bootstrap_linear_regression(log_model, data=data.dropna(subset=[\"stab_glu\", \"ratio\", \"waist_hip\", \"large\", \"bmi\", \"age\"]))\n",
    "models.describe_bootstrap_lr(log_result)"
   ]
  },
  {
   "cell_type": "markdown",
   "metadata": {},
   "source": [
    "Nope! We carry on."
   ]
  },
  {
   "cell_type": "markdown",
   "metadata": {},
   "source": [
    "## Evaluation / comparison"
   ]
  },
  {
   "cell_type": "markdown",
   "metadata": {},
   "source": [
    "### Cross validation"
   ]
  },
  {
   "cell_type": "markdown",
   "metadata": {},
   "source": [
    "We evaluate our linear regression model with five rounds of 10-fold cross validation. We'll use $sigma$ and $R^2$ to evaluate the model."
   ]
  },
  {
   "cell_type": "code",
   "execution_count": 78,
   "metadata": {},
   "outputs": [],
   "source": [
    "def chunk(xs, n):\n",
    "    k, m = divmod(len(xs), n)\n",
    "    return [xs[i * k + min(i, m):(i + 1) * k + min(i + 1, m)] for i in range(n)]"
   ]
  },
  {
   "cell_type": "code",
   "execution_count": 79,
   "metadata": {},
   "outputs": [],
   "source": [
    "def cross_validation(algorithm, formula, data, evaluate, fold_count=10, repetitions=5):\n",
    "    indices = list(range(len( data)))\n",
    "    metrics = []\n",
    "    for _ in range(repetitions):\n",
    "        random.shuffle(indices)\n",
    "        folds = chunk(indices, fold_count)\n",
    "        for fold in folds:\n",
    "            test_data = data.iloc[fold]\n",
    "            train_indices = [idx not in fold for idx in indices]\n",
    "            train_data = data.iloc[train_indices]\n",
    "            result = algorithm(formula, data=train_data)\n",
    "            model = result[\"model\"]\n",
    "            y, X = patsy.dmatrices(formula, test_data, return_type=\"matrix\")\n",
    "            # y = np.ravel( y) # might need for logistic regression\n",
    "            results = models.summarize(formula, X, y, model)\n",
    "            metric = evaluate(results)\n",
    "            metrics.append(metric)\n",
    "    return metrics"
   ]
  },
  {
   "cell_type": "code",
   "execution_count": 80,
   "metadata": {},
   "outputs": [],
   "source": [
    "cv_result = cross_validation(models.linear_regression, final_model, data.dropna(subset=[\"stab_glu\", \"ratio\", \"waist_hip\", \"large\", \"bmi\", \"age\"]), lambda r: (r[\"sigma\"], r[\"r_squared\"]))"
   ]
  },
  {
   "cell_type": "markdown",
   "metadata": {},
   "source": [
    "Let's look at the $\\sigma$ and $R^2$ results and produce a 95% credible interval for our now 50 estimates of the metrics. "
   ]
  },
  {
   "cell_type": "code",
   "execution_count": 81,
   "metadata": {},
   "outputs": [],
   "source": [
    "sigmas = [r[0] for r in cv_result]\n",
    "r_2s = [r[1] for r in cv_result]"
   ]
  },
  {
   "cell_type": "code",
   "execution_count": 82,
   "metadata": {},
   "outputs": [
    {
     "name": "stdout",
     "output_type": "stream",
     "text": [
      "95% CI for σ: [0.89364766 2.45209037]\n"
     ]
    }
   ],
   "source": [
    "print(\"95% CI for σ:\", stats.mstats.mquantiles(sigmas, [0.025, 0.975]))"
   ]
  },
  {
   "cell_type": "code",
   "execution_count": 83,
   "metadata": {},
   "outputs": [
    {
     "name": "stdout",
     "output_type": "stream",
     "text": [
      "95% CI for R²: [0.13383329 0.82104031]\n"
     ]
    }
   ],
   "source": [
    "print(\"95% CI for R²:\", stats.mstats.mquantiles(r_2s, [0.025, 0.975]))"
   ]
  },
  {
   "cell_type": "markdown",
   "metadata": {},
   "source": [
    "These are decent. Not fantastic. But not terrible. Let's look at another interpretation from the results, where we look at the bootstrapped mean for $\\sigma$ and $R^2$. In essence we are estimating the average performance for our linear regression model that estimates A1c."
   ]
  },
  {
   "cell_type": "code",
   "execution_count": 84,
   "metadata": {},
   "outputs": [],
   "source": [
    "def resample(data):\n",
    "    n = len(data)\n",
    "    return [data[ i] for i in [stats.randint.rvs(0, n - 1) for _ in range( 0, n)]]"
   ]
  },
  {
   "cell_type": "code",
   "execution_count": 85,
   "metadata": {},
   "outputs": [],
   "source": [
    "bootstrap = {}\n",
    "bootstrap[\"sigma\"] = np.array([np.mean(s) for s in [resample(sigmas) for i in range( 0, 1000)]])\n",
    "bootstrap[\"r_squared\"] = np.array([np.mean(r) for r in [resample(r_2s) for i in range( 0, 1000)]])"
   ]
  },
  {
   "cell_type": "code",
   "execution_count": 86,
   "metadata": {},
   "outputs": [
    {
     "name": "stdout",
     "output_type": "stream",
     "text": [
      "95% CI for *mean* sigma: [1.38789208 1.62488988]\n"
     ]
    }
   ],
   "source": [
    "print(r\"95% CI for *mean* sigma:\", stats.mstats.mquantiles(bootstrap[\"sigma\"], [0.025, 0.975]))"
   ]
  },
  {
   "cell_type": "code",
   "execution_count": 87,
   "metadata": {},
   "outputs": [
    {
     "name": "stdout",
     "output_type": "stream",
     "text": [
      "95% CI for *mean* R^2: [0.50708137 0.60055963]\n"
     ]
    }
   ],
   "source": [
    "print(r\"95% CI for *mean* R^2:\", stats.mstats.mquantiles(bootstrap[\"r_squared\"], [0.025, 0.975]))"
   ]
  },
  {
   "cell_type": "markdown",
   "metadata": {},
   "source": [
    "These results are actually quite decent. Recall our null model's standard deviation (that can be compared to our $\\sigma$):"
   ]
  },
  {
   "cell_type": "code",
   "execution_count": 88,
   "metadata": {},
   "outputs": [
    {
     "data": {
      "text/plain": [
       "2.242594841991535"
      ]
     },
     "execution_count": 88,
     "metadata": {},
     "output_type": "execute_result"
    }
   ],
   "source": [
    "null_std"
   ]
  },
  {
   "cell_type": "markdown",
   "metadata": {},
   "source": [
    "Whereas our 95% confidence interval for the mean is relatively tight from 1.1488 to 1.6148% -- a marked improvement over the null model."
   ]
  },
  {
   "cell_type": "markdown",
   "metadata": {},
   "source": [
    "### Learning curves"
   ]
  },
  {
   "cell_type": "markdown",
   "metadata": {},
   "source": [
    "A potential downside of our selected dataset is the relatively small number of data points. During our learning curve simulation, we plot more and more subsets of our test data to indicate whether we are in a high bias or high variance situation."
   ]
  },
  {
   "cell_type": "code",
   "execution_count": 89,
   "metadata": {},
   "outputs": [],
   "source": [
    "def data_collection():\n",
    "    result = dict()\n",
    "    result[ \"train\"] = defaultdict( list)\n",
    "    result[ \"test\"] = defaultdict( list)\n",
    "    return result"
   ]
  },
  {
   "cell_type": "code",
   "execution_count": 90,
   "metadata": {},
   "outputs": [],
   "source": [
    "def learning_curves(algorithm, formula, data, evaluate, fold_count=10, repetitions=3, increment=1):\n",
    "    indices = list(range(len( data)))\n",
    "    results = data_collection()\n",
    "    for _ in range(repetitions):\n",
    "        random.shuffle(indices)\n",
    "        folds = chunk(indices, fold_count)\n",
    "        for fold in folds:\n",
    "            test_data = data.iloc[ fold]\n",
    "            train_indices = [idx for idx in indices if idx not in fold]\n",
    "            train_data = data.iloc[train_indices]\n",
    "            for i in list(range(increment, 100, increment)) + [100]: # ensures 100% is always picked\n",
    "                # the indices are already shuffled so we only need to take ever increasing chunks\n",
    "                train_chunk_size = int( np.ceil((i/100)*len( train_indices)))\n",
    "                train_data_chunk = data.iloc[train_indices[0:train_chunk_size]]\n",
    "                # we calculate the model\n",
    "                result = algorithm(formula, data=train_data_chunk)\n",
    "                model = result[\"model\"]\n",
    "                # we calculate the results for the training data subset\n",
    "                y, X = patsy.dmatrices( formula, train_data_chunk, return_type=\"matrix\")\n",
    "                result = models.summarize(formula, X, y, model)\n",
    "                metric = evaluate(result)\n",
    "                results[\"train\"][i].append( metric)\n",
    "\n",
    "                # we calculate the results for the test data.\n",
    "                y, X = patsy.dmatrices( formula, test_data, return_type=\"matrix\")\n",
    "                result = models.summarize(formula, X, y, model)\n",
    "                metric = evaluate(result)\n",
    "                results[\"test\"][i].append( metric)\n",
    "    statistics = {}\n",
    "    for k, v in results[\"train\"].items():\n",
    "        statistics[ k] = (np.mean(v), np.std(v))\n",
    "    results[\"train\"] = statistics\n",
    "    statistics = {}\n",
    "    for k, v in results[\"test\"].items():\n",
    "        statistics[ k] = (np.mean(v), np.std(v))\n",
    "    results[\"test\"] = statistics\n",
    "    return results"
   ]
  },
  {
   "cell_type": "code",
   "execution_count": 91,
   "metadata": {},
   "outputs": [
    {
     "name": "stderr",
     "output_type": "stream",
     "text": [
      "/Users/gagebenne/Projects/data-science/diabetes-data-analysis/models.py:42: RuntimeWarning: invalid value encountered in sqrt\n",
      "  result[\"sigma\"] = np.sqrt( sum_squared_error / (n - k))\n",
      "/Users/gagebenne/Projects/data-science/diabetes-data-analysis/models.py:42: RuntimeWarning: invalid value encountered in sqrt\n",
      "  result[\"sigma\"] = np.sqrt( sum_squared_error / (n - k))\n",
      "/Users/gagebenne/Projects/data-science/diabetes-data-analysis/models.py:42: RuntimeWarning: invalid value encountered in sqrt\n",
      "  result[\"sigma\"] = np.sqrt( sum_squared_error / (n - k))\n",
      "/Users/gagebenne/Projects/data-science/diabetes-data-analysis/models.py:42: RuntimeWarning: invalid value encountered in sqrt\n",
      "  result[\"sigma\"] = np.sqrt( sum_squared_error / (n - k))\n",
      "/Users/gagebenne/Projects/data-science/diabetes-data-analysis/models.py:42: RuntimeWarning: invalid value encountered in sqrt\n",
      "  result[\"sigma\"] = np.sqrt( sum_squared_error / (n - k))\n",
      "/Users/gagebenne/Projects/data-science/diabetes-data-analysis/models.py:42: RuntimeWarning: invalid value encountered in sqrt\n",
      "  result[\"sigma\"] = np.sqrt( sum_squared_error / (n - k))\n",
      "/Users/gagebenne/Projects/data-science/diabetes-data-analysis/models.py:42: RuntimeWarning: invalid value encountered in sqrt\n",
      "  result[\"sigma\"] = np.sqrt( sum_squared_error / (n - k))\n",
      "/Users/gagebenne/Projects/data-science/diabetes-data-analysis/models.py:42: RuntimeWarning: invalid value encountered in sqrt\n",
      "  result[\"sigma\"] = np.sqrt( sum_squared_error / (n - k))\n",
      "/Users/gagebenne/Projects/data-science/diabetes-data-analysis/models.py:42: RuntimeWarning: invalid value encountered in sqrt\n",
      "  result[\"sigma\"] = np.sqrt( sum_squared_error / (n - k))\n",
      "/Users/gagebenne/Projects/data-science/diabetes-data-analysis/models.py:42: RuntimeWarning: invalid value encountered in sqrt\n",
      "  result[\"sigma\"] = np.sqrt( sum_squared_error / (n - k))\n",
      "/Users/gagebenne/Projects/data-science/diabetes-data-analysis/models.py:42: RuntimeWarning: invalid value encountered in sqrt\n",
      "  result[\"sigma\"] = np.sqrt( sum_squared_error / (n - k))\n",
      "/Users/gagebenne/Projects/data-science/diabetes-data-analysis/models.py:42: RuntimeWarning: invalid value encountered in sqrt\n",
      "  result[\"sigma\"] = np.sqrt( sum_squared_error / (n - k))\n",
      "/Users/gagebenne/Projects/data-science/diabetes-data-analysis/models.py:42: RuntimeWarning: invalid value encountered in sqrt\n",
      "  result[\"sigma\"] = np.sqrt( sum_squared_error / (n - k))\n",
      "/Users/gagebenne/Projects/data-science/diabetes-data-analysis/models.py:42: RuntimeWarning: invalid value encountered in sqrt\n",
      "  result[\"sigma\"] = np.sqrt( sum_squared_error / (n - k))\n",
      "/Users/gagebenne/Projects/data-science/diabetes-data-analysis/models.py:42: RuntimeWarning: invalid value encountered in sqrt\n",
      "  result[\"sigma\"] = np.sqrt( sum_squared_error / (n - k))\n",
      "/Users/gagebenne/Projects/data-science/diabetes-data-analysis/models.py:42: RuntimeWarning: invalid value encountered in sqrt\n",
      "  result[\"sigma\"] = np.sqrt( sum_squared_error / (n - k))\n",
      "/Users/gagebenne/Projects/data-science/diabetes-data-analysis/models.py:42: RuntimeWarning: invalid value encountered in sqrt\n",
      "  result[\"sigma\"] = np.sqrt( sum_squared_error / (n - k))\n",
      "/Users/gagebenne/Projects/data-science/diabetes-data-analysis/models.py:42: RuntimeWarning: invalid value encountered in sqrt\n",
      "  result[\"sigma\"] = np.sqrt( sum_squared_error / (n - k))\n",
      "/Users/gagebenne/Projects/data-science/diabetes-data-analysis/models.py:42: RuntimeWarning: invalid value encountered in sqrt\n",
      "  result[\"sigma\"] = np.sqrt( sum_squared_error / (n - k))\n",
      "/Users/gagebenne/Projects/data-science/diabetes-data-analysis/models.py:42: RuntimeWarning: invalid value encountered in sqrt\n",
      "  result[\"sigma\"] = np.sqrt( sum_squared_error / (n - k))\n",
      "/Users/gagebenne/Projects/data-science/diabetes-data-analysis/models.py:42: RuntimeWarning: invalid value encountered in sqrt\n",
      "  result[\"sigma\"] = np.sqrt( sum_squared_error / (n - k))\n",
      "/Users/gagebenne/Projects/data-science/diabetes-data-analysis/models.py:42: RuntimeWarning: invalid value encountered in sqrt\n",
      "  result[\"sigma\"] = np.sqrt( sum_squared_error / (n - k))\n",
      "/Users/gagebenne/Projects/data-science/diabetes-data-analysis/models.py:42: RuntimeWarning: invalid value encountered in sqrt\n",
      "  result[\"sigma\"] = np.sqrt( sum_squared_error / (n - k))\n",
      "/Users/gagebenne/Projects/data-science/diabetes-data-analysis/models.py:42: RuntimeWarning: invalid value encountered in sqrt\n",
      "  result[\"sigma\"] = np.sqrt( sum_squared_error / (n - k))\n",
      "/Users/gagebenne/Projects/data-science/diabetes-data-analysis/models.py:42: RuntimeWarning: invalid value encountered in sqrt\n",
      "  result[\"sigma\"] = np.sqrt( sum_squared_error / (n - k))\n",
      "/Users/gagebenne/Projects/data-science/diabetes-data-analysis/models.py:42: RuntimeWarning: invalid value encountered in sqrt\n",
      "  result[\"sigma\"] = np.sqrt( sum_squared_error / (n - k))\n",
      "/Users/gagebenne/Projects/data-science/diabetes-data-analysis/models.py:42: RuntimeWarning: invalid value encountered in sqrt\n",
      "  result[\"sigma\"] = np.sqrt( sum_squared_error / (n - k))\n",
      "/Users/gagebenne/Projects/data-science/diabetes-data-analysis/models.py:42: RuntimeWarning: invalid value encountered in sqrt\n",
      "  result[\"sigma\"] = np.sqrt( sum_squared_error / (n - k))\n",
      "/Users/gagebenne/Projects/data-science/diabetes-data-analysis/models.py:42: RuntimeWarning: invalid value encountered in sqrt\n",
      "  result[\"sigma\"] = np.sqrt( sum_squared_error / (n - k))\n",
      "/Users/gagebenne/Projects/data-science/diabetes-data-analysis/models.py:42: RuntimeWarning: invalid value encountered in sqrt\n",
      "  result[\"sigma\"] = np.sqrt( sum_squared_error / (n - k))\n",
      "/Users/gagebenne/Projects/data-science/diabetes-data-analysis/models.py:42: RuntimeWarning: invalid value encountered in sqrt\n",
      "  result[\"sigma\"] = np.sqrt( sum_squared_error / (n - k))\n",
      "/Users/gagebenne/Projects/data-science/diabetes-data-analysis/models.py:42: RuntimeWarning: invalid value encountered in sqrt\n",
      "  result[\"sigma\"] = np.sqrt( sum_squared_error / (n - k))\n",
      "/Users/gagebenne/Projects/data-science/diabetes-data-analysis/models.py:42: RuntimeWarning: invalid value encountered in sqrt\n",
      "  result[\"sigma\"] = np.sqrt( sum_squared_error / (n - k))\n",
      "/Users/gagebenne/Projects/data-science/diabetes-data-analysis/models.py:42: RuntimeWarning: invalid value encountered in sqrt\n",
      "  result[\"sigma\"] = np.sqrt( sum_squared_error / (n - k))\n",
      "/Users/gagebenne/Projects/data-science/diabetes-data-analysis/models.py:42: RuntimeWarning: invalid value encountered in sqrt\n",
      "  result[\"sigma\"] = np.sqrt( sum_squared_error / (n - k))\n",
      "/Users/gagebenne/Projects/data-science/diabetes-data-analysis/models.py:42: RuntimeWarning: invalid value encountered in sqrt\n",
      "  result[\"sigma\"] = np.sqrt( sum_squared_error / (n - k))\n",
      "/Users/gagebenne/Projects/data-science/diabetes-data-analysis/models.py:42: RuntimeWarning: invalid value encountered in sqrt\n",
      "  result[\"sigma\"] = np.sqrt( sum_squared_error / (n - k))\n",
      "/Users/gagebenne/Projects/data-science/diabetes-data-analysis/models.py:42: RuntimeWarning: invalid value encountered in sqrt\n",
      "  result[\"sigma\"] = np.sqrt( sum_squared_error / (n - k))\n",
      "/Users/gagebenne/Projects/data-science/diabetes-data-analysis/models.py:42: RuntimeWarning: invalid value encountered in sqrt\n",
      "  result[\"sigma\"] = np.sqrt( sum_squared_error / (n - k))\n",
      "/Users/gagebenne/Projects/data-science/diabetes-data-analysis/models.py:42: RuntimeWarning: invalid value encountered in sqrt\n",
      "  result[\"sigma\"] = np.sqrt( sum_squared_error / (n - k))\n",
      "/Users/gagebenne/Projects/data-science/diabetes-data-analysis/models.py:42: RuntimeWarning: invalid value encountered in sqrt\n",
      "  result[\"sigma\"] = np.sqrt( sum_squared_error / (n - k))\n",
      "/Users/gagebenne/Projects/data-science/diabetes-data-analysis/models.py:42: RuntimeWarning: invalid value encountered in sqrt\n",
      "  result[\"sigma\"] = np.sqrt( sum_squared_error / (n - k))\n",
      "/Users/gagebenne/Projects/data-science/diabetes-data-analysis/models.py:42: RuntimeWarning: invalid value encountered in sqrt\n",
      "  result[\"sigma\"] = np.sqrt( sum_squared_error / (n - k))\n",
      "/Users/gagebenne/Projects/data-science/diabetes-data-analysis/models.py:42: RuntimeWarning: invalid value encountered in sqrt\n",
      "  result[\"sigma\"] = np.sqrt( sum_squared_error / (n - k))\n",
      "/Users/gagebenne/Projects/data-science/diabetes-data-analysis/models.py:42: RuntimeWarning: invalid value encountered in sqrt\n",
      "  result[\"sigma\"] = np.sqrt( sum_squared_error / (n - k))\n",
      "/Users/gagebenne/Projects/data-science/diabetes-data-analysis/models.py:42: RuntimeWarning: invalid value encountered in sqrt\n",
      "  result[\"sigma\"] = np.sqrt( sum_squared_error / (n - k))\n",
      "/Users/gagebenne/Projects/data-science/diabetes-data-analysis/models.py:42: RuntimeWarning: invalid value encountered in sqrt\n",
      "  result[\"sigma\"] = np.sqrt( sum_squared_error / (n - k))\n",
      "/Users/gagebenne/Projects/data-science/diabetes-data-analysis/models.py:42: RuntimeWarning: invalid value encountered in sqrt\n",
      "  result[\"sigma\"] = np.sqrt( sum_squared_error / (n - k))\n",
      "/Users/gagebenne/Projects/data-science/diabetes-data-analysis/models.py:42: RuntimeWarning: invalid value encountered in sqrt\n",
      "  result[\"sigma\"] = np.sqrt( sum_squared_error / (n - k))\n",
      "/Users/gagebenne/Projects/data-science/diabetes-data-analysis/models.py:42: RuntimeWarning: invalid value encountered in sqrt\n",
      "  result[\"sigma\"] = np.sqrt( sum_squared_error / (n - k))\n",
      "/Users/gagebenne/Projects/data-science/diabetes-data-analysis/models.py:42: RuntimeWarning: invalid value encountered in sqrt\n",
      "  result[\"sigma\"] = np.sqrt( sum_squared_error / (n - k))\n",
      "/Users/gagebenne/Projects/data-science/diabetes-data-analysis/models.py:42: RuntimeWarning: invalid value encountered in sqrt\n",
      "  result[\"sigma\"] = np.sqrt( sum_squared_error / (n - k))\n",
      "/Users/gagebenne/Projects/data-science/diabetes-data-analysis/models.py:42: RuntimeWarning: invalid value encountered in sqrt\n",
      "  result[\"sigma\"] = np.sqrt( sum_squared_error / (n - k))\n",
      "/Users/gagebenne/Projects/data-science/diabetes-data-analysis/models.py:42: RuntimeWarning: invalid value encountered in sqrt\n",
      "  result[\"sigma\"] = np.sqrt( sum_squared_error / (n - k))\n",
      "/Users/gagebenne/Projects/data-science/diabetes-data-analysis/models.py:42: RuntimeWarning: invalid value encountered in sqrt\n",
      "  result[\"sigma\"] = np.sqrt( sum_squared_error / (n - k))\n",
      "/Users/gagebenne/Projects/data-science/diabetes-data-analysis/models.py:42: RuntimeWarning: invalid value encountered in sqrt\n",
      "  result[\"sigma\"] = np.sqrt( sum_squared_error / (n - k))\n",
      "/Users/gagebenne/Projects/data-science/diabetes-data-analysis/models.py:42: RuntimeWarning: invalid value encountered in sqrt\n",
      "  result[\"sigma\"] = np.sqrt( sum_squared_error / (n - k))\n",
      "/Users/gagebenne/Projects/data-science/diabetes-data-analysis/models.py:42: RuntimeWarning: invalid value encountered in sqrt\n",
      "  result[\"sigma\"] = np.sqrt( sum_squared_error / (n - k))\n",
      "/Users/gagebenne/Projects/data-science/diabetes-data-analysis/models.py:42: RuntimeWarning: invalid value encountered in sqrt\n",
      "  result[\"sigma\"] = np.sqrt( sum_squared_error / (n - k))\n",
      "/Users/gagebenne/Projects/data-science/diabetes-data-analysis/models.py:42: RuntimeWarning: invalid value encountered in sqrt\n",
      "  result[\"sigma\"] = np.sqrt( sum_squared_error / (n - k))\n",
      "/Users/gagebenne/Projects/data-science/diabetes-data-analysis/models.py:42: RuntimeWarning: invalid value encountered in sqrt\n",
      "  result[\"sigma\"] = np.sqrt( sum_squared_error / (n - k))\n",
      "/Users/gagebenne/Projects/data-science/diabetes-data-analysis/models.py:42: RuntimeWarning: invalid value encountered in sqrt\n",
      "  result[\"sigma\"] = np.sqrt( sum_squared_error / (n - k))\n",
      "/Users/gagebenne/Projects/data-science/diabetes-data-analysis/models.py:42: RuntimeWarning: invalid value encountered in sqrt\n",
      "  result[\"sigma\"] = np.sqrt( sum_squared_error / (n - k))\n",
      "/Users/gagebenne/Projects/data-science/diabetes-data-analysis/models.py:42: RuntimeWarning: invalid value encountered in sqrt\n",
      "  result[\"sigma\"] = np.sqrt( sum_squared_error / (n - k))\n",
      "/Users/gagebenne/Projects/data-science/diabetes-data-analysis/models.py:42: RuntimeWarning: invalid value encountered in sqrt\n",
      "  result[\"sigma\"] = np.sqrt( sum_squared_error / (n - k))\n",
      "/Users/gagebenne/Projects/data-science/diabetes-data-analysis/models.py:42: RuntimeWarning: invalid value encountered in sqrt\n",
      "  result[\"sigma\"] = np.sqrt( sum_squared_error / (n - k))\n",
      "/Users/gagebenne/Projects/data-science/diabetes-data-analysis/models.py:42: RuntimeWarning: invalid value encountered in sqrt\n",
      "  result[\"sigma\"] = np.sqrt( sum_squared_error / (n - k))\n",
      "/Users/gagebenne/Projects/data-science/diabetes-data-analysis/models.py:42: RuntimeWarning: invalid value encountered in sqrt\n",
      "  result[\"sigma\"] = np.sqrt( sum_squared_error / (n - k))\n",
      "/Users/gagebenne/Projects/data-science/diabetes-data-analysis/models.py:42: RuntimeWarning: invalid value encountered in sqrt\n",
      "  result[\"sigma\"] = np.sqrt( sum_squared_error / (n - k))\n",
      "/Users/gagebenne/Projects/data-science/diabetes-data-analysis/models.py:42: RuntimeWarning: invalid value encountered in sqrt\n",
      "  result[\"sigma\"] = np.sqrt( sum_squared_error / (n - k))\n",
      "/Users/gagebenne/Projects/data-science/diabetes-data-analysis/models.py:42: RuntimeWarning: invalid value encountered in sqrt\n",
      "  result[\"sigma\"] = np.sqrt( sum_squared_error / (n - k))\n",
      "/Users/gagebenne/Projects/data-science/diabetes-data-analysis/models.py:42: RuntimeWarning: invalid value encountered in sqrt\n",
      "  result[\"sigma\"] = np.sqrt( sum_squared_error / (n - k))\n",
      "/Users/gagebenne/Projects/data-science/diabetes-data-analysis/models.py:42: RuntimeWarning: invalid value encountered in sqrt\n",
      "  result[\"sigma\"] = np.sqrt( sum_squared_error / (n - k))\n",
      "/Users/gagebenne/Projects/data-science/diabetes-data-analysis/models.py:42: RuntimeWarning: invalid value encountered in sqrt\n",
      "  result[\"sigma\"] = np.sqrt( sum_squared_error / (n - k))\n",
      "/Users/gagebenne/Projects/data-science/diabetes-data-analysis/models.py:42: RuntimeWarning: invalid value encountered in sqrt\n",
      "  result[\"sigma\"] = np.sqrt( sum_squared_error / (n - k))\n",
      "/Users/gagebenne/Projects/data-science/diabetes-data-analysis/models.py:42: RuntimeWarning: invalid value encountered in sqrt\n",
      "  result[\"sigma\"] = np.sqrt( sum_squared_error / (n - k))\n",
      "/Users/gagebenne/Projects/data-science/diabetes-data-analysis/models.py:42: RuntimeWarning: invalid value encountered in sqrt\n",
      "  result[\"sigma\"] = np.sqrt( sum_squared_error / (n - k))\n",
      "/Users/gagebenne/Projects/data-science/diabetes-data-analysis/models.py:42: RuntimeWarning: invalid value encountered in sqrt\n",
      "  result[\"sigma\"] = np.sqrt( sum_squared_error / (n - k))\n",
      "/Users/gagebenne/Projects/data-science/diabetes-data-analysis/models.py:42: RuntimeWarning: invalid value encountered in sqrt\n",
      "  result[\"sigma\"] = np.sqrt( sum_squared_error / (n - k))\n",
      "/Users/gagebenne/Projects/data-science/diabetes-data-analysis/models.py:42: RuntimeWarning: invalid value encountered in sqrt\n",
      "  result[\"sigma\"] = np.sqrt( sum_squared_error / (n - k))\n",
      "/Users/gagebenne/Projects/data-science/diabetes-data-analysis/models.py:42: RuntimeWarning: invalid value encountered in sqrt\n",
      "  result[\"sigma\"] = np.sqrt( sum_squared_error / (n - k))\n",
      "/Users/gagebenne/Projects/data-science/diabetes-data-analysis/models.py:42: RuntimeWarning: invalid value encountered in sqrt\n",
      "  result[\"sigma\"] = np.sqrt( sum_squared_error / (n - k))\n",
      "/Users/gagebenne/Projects/data-science/diabetes-data-analysis/models.py:42: RuntimeWarning: invalid value encountered in sqrt\n",
      "  result[\"sigma\"] = np.sqrt( sum_squared_error / (n - k))\n",
      "/Users/gagebenne/Projects/data-science/diabetes-data-analysis/models.py:42: RuntimeWarning: invalid value encountered in sqrt\n",
      "  result[\"sigma\"] = np.sqrt( sum_squared_error / (n - k))\n",
      "/Users/gagebenne/Projects/data-science/diabetes-data-analysis/models.py:42: RuntimeWarning: invalid value encountered in sqrt\n",
      "  result[\"sigma\"] = np.sqrt( sum_squared_error / (n - k))\n",
      "/Users/gagebenne/Projects/data-science/diabetes-data-analysis/models.py:42: RuntimeWarning: invalid value encountered in sqrt\n",
      "  result[\"sigma\"] = np.sqrt( sum_squared_error / (n - k))\n",
      "/Users/gagebenne/Projects/data-science/diabetes-data-analysis/models.py:42: RuntimeWarning: invalid value encountered in sqrt\n",
      "  result[\"sigma\"] = np.sqrt( sum_squared_error / (n - k))\n",
      "/Users/gagebenne/Projects/data-science/diabetes-data-analysis/models.py:42: RuntimeWarning: invalid value encountered in sqrt\n",
      "  result[\"sigma\"] = np.sqrt( sum_squared_error / (n - k))\n",
      "/Users/gagebenne/Projects/data-science/diabetes-data-analysis/models.py:42: RuntimeWarning: invalid value encountered in sqrt\n",
      "  result[\"sigma\"] = np.sqrt( sum_squared_error / (n - k))\n",
      "/Users/gagebenne/Projects/data-science/diabetes-data-analysis/models.py:42: RuntimeWarning: invalid value encountered in sqrt\n",
      "  result[\"sigma\"] = np.sqrt( sum_squared_error / (n - k))\n",
      "/Users/gagebenne/Projects/data-science/diabetes-data-analysis/models.py:42: RuntimeWarning: invalid value encountered in sqrt\n",
      "  result[\"sigma\"] = np.sqrt( sum_squared_error / (n - k))\n",
      "/Users/gagebenne/Projects/data-science/diabetes-data-analysis/models.py:42: RuntimeWarning: invalid value encountered in sqrt\n",
      "  result[\"sigma\"] = np.sqrt( sum_squared_error / (n - k))\n",
      "/Users/gagebenne/Projects/data-science/diabetes-data-analysis/models.py:42: RuntimeWarning: invalid value encountered in sqrt\n",
      "  result[\"sigma\"] = np.sqrt( sum_squared_error / (n - k))\n",
      "/Users/gagebenne/Projects/data-science/diabetes-data-analysis/models.py:42: RuntimeWarning: invalid value encountered in sqrt\n",
      "  result[\"sigma\"] = np.sqrt( sum_squared_error / (n - k))\n",
      "/Users/gagebenne/Projects/data-science/diabetes-data-analysis/models.py:42: RuntimeWarning: invalid value encountered in sqrt\n",
      "  result[\"sigma\"] = np.sqrt( sum_squared_error / (n - k))\n",
      "/Users/gagebenne/Projects/data-science/diabetes-data-analysis/models.py:42: RuntimeWarning: invalid value encountered in sqrt\n",
      "  result[\"sigma\"] = np.sqrt( sum_squared_error / (n - k))\n",
      "/Users/gagebenne/Projects/data-science/diabetes-data-analysis/models.py:42: RuntimeWarning: invalid value encountered in sqrt\n",
      "  result[\"sigma\"] = np.sqrt( sum_squared_error / (n - k))\n",
      "/Users/gagebenne/Projects/data-science/diabetes-data-analysis/models.py:42: RuntimeWarning: invalid value encountered in sqrt\n",
      "  result[\"sigma\"] = np.sqrt( sum_squared_error / (n - k))\n",
      "/Users/gagebenne/Projects/data-science/diabetes-data-analysis/models.py:42: RuntimeWarning: invalid value encountered in sqrt\n",
      "  result[\"sigma\"] = np.sqrt( sum_squared_error / (n - k))\n",
      "/Users/gagebenne/Projects/data-science/diabetes-data-analysis/models.py:42: RuntimeWarning: invalid value encountered in sqrt\n",
      "  result[\"sigma\"] = np.sqrt( sum_squared_error / (n - k))\n",
      "/Users/gagebenne/Projects/data-science/diabetes-data-analysis/models.py:42: RuntimeWarning: invalid value encountered in sqrt\n",
      "  result[\"sigma\"] = np.sqrt( sum_squared_error / (n - k))\n",
      "/Users/gagebenne/Projects/data-science/diabetes-data-analysis/models.py:42: RuntimeWarning: invalid value encountered in sqrt\n",
      "  result[\"sigma\"] = np.sqrt( sum_squared_error / (n - k))\n",
      "/Users/gagebenne/Projects/data-science/diabetes-data-analysis/models.py:42: RuntimeWarning: invalid value encountered in sqrt\n",
      "  result[\"sigma\"] = np.sqrt( sum_squared_error / (n - k))\n",
      "/Users/gagebenne/Projects/data-science/diabetes-data-analysis/models.py:42: RuntimeWarning: invalid value encountered in sqrt\n",
      "  result[\"sigma\"] = np.sqrt( sum_squared_error / (n - k))\n",
      "/Users/gagebenne/Projects/data-science/diabetes-data-analysis/models.py:42: RuntimeWarning: invalid value encountered in sqrt\n",
      "  result[\"sigma\"] = np.sqrt( sum_squared_error / (n - k))\n",
      "/Users/gagebenne/Projects/data-science/diabetes-data-analysis/models.py:42: RuntimeWarning: invalid value encountered in sqrt\n",
      "  result[\"sigma\"] = np.sqrt( sum_squared_error / (n - k))\n",
      "/Users/gagebenne/Projects/data-science/diabetes-data-analysis/models.py:42: RuntimeWarning: invalid value encountered in sqrt\n",
      "  result[\"sigma\"] = np.sqrt( sum_squared_error / (n - k))\n",
      "/Users/gagebenne/Projects/data-science/diabetes-data-analysis/models.py:42: RuntimeWarning: invalid value encountered in sqrt\n",
      "  result[\"sigma\"] = np.sqrt( sum_squared_error / (n - k))\n",
      "/Users/gagebenne/Projects/data-science/diabetes-data-analysis/models.py:42: RuntimeWarning: invalid value encountered in sqrt\n",
      "  result[\"sigma\"] = np.sqrt( sum_squared_error / (n - k))\n",
      "/Users/gagebenne/Projects/data-science/diabetes-data-analysis/models.py:42: RuntimeWarning: invalid value encountered in sqrt\n",
      "  result[\"sigma\"] = np.sqrt( sum_squared_error / (n - k))\n",
      "/Users/gagebenne/Projects/data-science/diabetes-data-analysis/models.py:42: RuntimeWarning: invalid value encountered in sqrt\n",
      "  result[\"sigma\"] = np.sqrt( sum_squared_error / (n - k))\n",
      "/Users/gagebenne/Projects/data-science/diabetes-data-analysis/models.py:42: RuntimeWarning: invalid value encountered in sqrt\n",
      "  result[\"sigma\"] = np.sqrt( sum_squared_error / (n - k))\n",
      "/Users/gagebenne/Projects/data-science/diabetes-data-analysis/models.py:42: RuntimeWarning: invalid value encountered in sqrt\n",
      "  result[\"sigma\"] = np.sqrt( sum_squared_error / (n - k))\n",
      "/Users/gagebenne/Projects/data-science/diabetes-data-analysis/models.py:42: RuntimeWarning: invalid value encountered in sqrt\n",
      "  result[\"sigma\"] = np.sqrt( sum_squared_error / (n - k))\n",
      "/Users/gagebenne/Projects/data-science/diabetes-data-analysis/models.py:42: RuntimeWarning: invalid value encountered in sqrt\n",
      "  result[\"sigma\"] = np.sqrt( sum_squared_error / (n - k))\n",
      "/Users/gagebenne/Projects/data-science/diabetes-data-analysis/models.py:42: RuntimeWarning: invalid value encountered in sqrt\n",
      "  result[\"sigma\"] = np.sqrt( sum_squared_error / (n - k))\n",
      "/Users/gagebenne/Projects/data-science/diabetes-data-analysis/models.py:42: RuntimeWarning: invalid value encountered in sqrt\n",
      "  result[\"sigma\"] = np.sqrt( sum_squared_error / (n - k))\n",
      "/Users/gagebenne/Projects/data-science/diabetes-data-analysis/models.py:42: RuntimeWarning: invalid value encountered in sqrt\n",
      "  result[\"sigma\"] = np.sqrt( sum_squared_error / (n - k))\n",
      "/Users/gagebenne/Projects/data-science/diabetes-data-analysis/models.py:42: RuntimeWarning: invalid value encountered in sqrt\n",
      "  result[\"sigma\"] = np.sqrt( sum_squared_error / (n - k))\n",
      "/Users/gagebenne/Projects/data-science/diabetes-data-analysis/models.py:42: RuntimeWarning: invalid value encountered in sqrt\n",
      "  result[\"sigma\"] = np.sqrt( sum_squared_error / (n - k))\n"
     ]
    }
   ],
   "source": [
    "lc_results = learning_curves(models.linear_regression, model, data.dropna(subset=[\"stab_glu\", \"ratio\", \"waist_hip\", \"large\", \"bmi\", \"age\"]), lambda r: r[\"sigma\"])"
   ]
  },
  {
   "cell_type": "code",
   "execution_count": 92,
   "metadata": {},
   "outputs": [],
   "source": [
    "def results_to_curves( curve, results):\n",
    "    all_statistics = results[ curve]\n",
    "    keys = list( all_statistics.keys())\n",
    "    keys.sort()\n",
    "    mean = []\n",
    "    upper = []\n",
    "    lower = []\n",
    "    for k in keys:\n",
    "        m, s = all_statistics[ k]\n",
    "        mean.append( m)\n",
    "        upper.append( m + 2 * s)\n",
    "        lower.append( m - 2 * s)\n",
    "    return keys, lower, mean, upper"
   ]
  },
  {
   "cell_type": "code",
   "execution_count": 93,
   "metadata": {},
   "outputs": [],
   "source": [
    "def plot_learning_curves( results, metric, desired=None, zoom=False, credible=True):\n",
    "    figure = plt.figure(figsize=(10,6))\n",
    "    axes = figure.add_subplot(1, 1, 1)\n",
    "    xs, train_lower, train_mean, train_upper = results_to_curves( \"train\", results)\n",
    "    _, test_lower, test_mean, test_upper = results_to_curves( \"test\", results)\n",
    "    axes.plot( xs, train_mean, color=\"steelblue\", label=\"train\")\n",
    "    axes.plot( xs, test_mean, color=\"firebrick\", label=\"test\")\n",
    "    if credible:\n",
    "        axes.fill_between( xs, train_upper, train_lower, color=\"steelblue\", alpha=0.25)\n",
    "        axes.fill_between( xs, test_upper, test_lower, color=\"firebrick\", alpha=0.25)\n",
    "    if desired:\n",
    "        if type(desired) is tuple:\n",
    "            axes.axhline((desired[0] + desired[1])/2.0, color=\"gold\", label=\"desired\")\n",
    "            axes.fill_between( xs, desired[1], desired[0], color=\"gold\", alpha=0.25)\n",
    "        else:\n",
    "            axes.axhline( desired, color=\"gold\", label=\"desired\")\n",
    "    axes.legend()\n",
    "    axes.set_xlabel(\"training set (%)\")\n",
    "    axes.set_ylabel( metric)\n",
    "    axes.set_title(\"Learning Curves\")\n",
    "    if zoom:\n",
    "        y_lower = int( 0.9 * np.amin([train_lower[-1], test_lower[-1]]))\n",
    "        y_upper = int( 1.1 * np.amax([train_upper[-1], test_upper[-1]]))\n",
    "        axes.set_ylim((y_lower, y_upper))\n",
    "    plt.show()\n",
    "    plt.close()"
   ]
  },
  {
   "cell_type": "code",
   "execution_count": 94,
   "metadata": {},
   "outputs": [
    {
     "data": {
      "image/png": "[encoded data removed]",
      "text/plain": [
       "<Figure size 720x432 with 1 Axes>"
      ]
     },
     "metadata": {
      "needs_background": "light"
     },
     "output_type": "display_data"
    }
   ],
   "source": [
    "plot_learning_curves(lc_results, \"sigma\", zoom=True, desired=(1.41875477, 1.6147503))"
   ]
  },
  {
   "cell_type": "markdown",
   "metadata": {},
   "source": [
    "Somewhat surprisingly, the curves converge appropriately. This would imply that gathering more data wouldn't really benefit this model much. The $\\sigma$ isn't fantastic, but it is an improvement from our null model, and an improvement from a model that simply involves the stabilized glucose -- the strongest indicator of a higher A1c."
   ]
  },
  {
   "cell_type": "markdown",
   "metadata": {},
   "source": [
    "### Predictions"
   ]
  },
  {
   "cell_type": "markdown",
   "metadata": {},
   "source": [
    "Let's do some predictions! A reminder of our final model:"
   ]
  },
  {
   "cell_type": "code",
   "execution_count": 95,
   "metadata": {},
   "outputs": [
    {
     "data": {
      "text/plain": [
       "'glyhb ~ stab_glu + ratio + waist_hip + large + bmi + age'"
      ]
     },
     "execution_count": 95,
     "metadata": {},
     "output_type": "execute_result"
    }
   ],
   "source": [
    "final_model"
   ]
  },
  {
   "cell_type": "markdown",
   "metadata": {},
   "source": [
    "Let's begin with an individual who is the picture of health despite being over 70. 75 mm/dL stabilized glucose, with a BMI of 20 (ideal BMI for most adults), and a cholesterol ratio of 3.5 (again, ideal for most adults)."
   ]
  },
  {
   "cell_type": "code",
   "execution_count": 96,
   "metadata": {},
   "outputs": [
    {
     "data": {
      "text/plain": [
       "5.0152358331625795"
      ]
     },
     "execution_count": 96,
     "metadata": {},
     "output_type": "execute_result"
    }
   ],
   "source": [
    "individual1 = [[\n",
    "    1, # intercept\n",
    "    75, # stabilized glucose\n",
    "    3.5, # ratio\n",
    "    .95, # waist-to-hip\n",
    "    0, # large\n",
    "    20, # BMI\n",
    "    75 # age\n",
    "]]\n",
    "\n",
    "prediction = final[\"model\"].predict(individual1)\n",
    "prediction[0][0]\n"
   ]
  },
  {
   "cell_type": "markdown",
   "metadata": {},
   "source": [
    "5.08% for an A1c seems fairly reasonable. Certainly we do not expect the individual to have diabetes, and with the boundary at 6.4%+ this individual wouldn't be diagnosed with diabetes or pre-diabetes. Even testing the model with an older individual to trip it up didn't work, despite age being somewhat of a predictor for diabetes -- other factors are more important to the prediction."
   ]
  },
  {
   "cell_type": "code",
   "execution_count": 97,
   "metadata": {},
   "outputs": [
    {
     "data": {
      "text/plain": [
       "(2.2032985540500034, 7.8271731122751556)"
      ]
     },
     "execution_count": 97,
     "metadata": {},
     "output_type": "execute_result"
    }
   ],
   "source": [
    "prediction[0][0] - 1.96 * final[\"sigma\"], prediction[0][0] + 1.96 * final[\"sigma\"]"
   ]
  },
  {
   "cell_type": "markdown",
   "metadata": {},
   "source": [
    "Our 95% confidence interval for the prediction isn't very helpful to us as it includes ranges for diabetics and non-diabetics alike."
   ]
  },
  {
   "cell_type": "markdown",
   "metadata": {},
   "source": [
    "Let's try one more prediction with an individual who might be considered \"at-risk\" given their medical status. And individual who is obese with a BMI of 34, as well as has a high stabilized glucose and higher cholesterol ratio than is ideal."
   ]
  },
  {
   "cell_type": "code",
   "execution_count": 98,
   "metadata": {},
   "outputs": [
    {
     "data": {
      "text/plain": [
       "8.237367190191486"
      ]
     },
     "execution_count": 98,
     "metadata": {},
     "output_type": "execute_result"
    }
   ],
   "source": [
    "individual2 = [[\n",
    "    1, # intercept\n",
    "    200, # stabilized glucose\n",
    "    4.5, # ratio\n",
    "    1.25, # waist-to-hip\n",
    "    1, # large\n",
    "    34, # BMI\n",
    "    45 # age\n",
    "]]\n",
    "\n",
    "prediction = final[\"model\"].predict(individual2)\n",
    "prediction[0][0]"
   ]
  },
  {
   "cell_type": "markdown",
   "metadata": {},
   "source": [
    "8.26%! Well above the threshold to be considered diabetic. Interestingly, the stabilized glucose wasn't particularly high, so we get the sense that the model is also capable of picking out important indicators in variables outside of stabilized glucose."
   ]
  },
  {
   "cell_type": "markdown",
   "metadata": {},
   "source": [
    "As a quick aside, let's run through each of the individuals in the dataset (or atleast those without missing values where we need them), and see if our model would've given the correct classification of diabetic or not. For this example we will consider those who are pre-diabetic as diabetic. Pre-diabetes somewhat of a misnomer. It doesn't indicate that you are on the \"verge\" of getting diabetes, it simply indicates your A1c reading is borderline. Erring on the cautious side, we'd rather our model predict an individual has diabetes than not."
   ]
  },
  {
   "cell_type": "code",
   "execution_count": 99,
   "metadata": {},
   "outputs": [],
   "source": [
    "null_accuracy = 0\n",
    "model_accuracy = 0\n",
    "for _, row in data.dropna(subset=[\"stab_glu\", \"ratio\", \"waist_hip\", \"large\", \"bmi\", \"age\"]).iterrows():\n",
    "    individual = [[\n",
    "        1, # intercept\n",
    "        row[\"stab_glu\"], # stabilized glucose\n",
    "        row[\"ratio\"], # ratio\n",
    "        row[\"waist_hip\"], # waist_hip\n",
    "        row[\"large\"], # large\n",
    "        row[\"bmi\"], # BMI\n",
    "        row[\"age\"] # age\n",
    "    ]]\n",
    "    prediction = (final[\"model\"].predict(individual)[0][0] > 5.7)\n",
    "    actual = (row[\"glyhb\"] > 5.7)\n",
    "    if prediction == False: # glyhb mean > 5.7\n",
    "        null_accuracy += 1\n",
    "    if prediction == actual:\n",
    "        model_accuracy += 1"
   ]
  },
  {
   "cell_type": "code",
   "execution_count": 100,
   "metadata": {},
   "outputs": [
    {
     "data": {
      "text/plain": [
       "0.7270341207349081"
      ]
     },
     "execution_count": 100,
     "metadata": {},
     "output_type": "execute_result"
    }
   ],
   "source": [
    "null_accuracy / len(data.dropna(subset=[\"stab_glu\", \"ratio\", \"waist_hip\", \"large\", \"bmi\", \"age\"]))"
   ]
  },
  {
   "cell_type": "markdown",
   "metadata": {},
   "source": [
    "So, for our null predictor (where every prediction was false -- most individuals do not have diabetes) our model correctly predicted the datasets diagnosis 70.87% of the time."
   ]
  },
  {
   "cell_type": "code",
   "execution_count": 101,
   "metadata": {},
   "outputs": [
    {
     "data": {
      "text/plain": [
       "0.8503937007874016"
      ]
     },
     "execution_count": 101,
     "metadata": {},
     "output_type": "execute_result"
    }
   ],
   "source": [
    "model_accuracy / len(data.dropna(subset=[\"stab_glu\", \"ratio\", \"waist_hip\", \"large\", \"bmi\", \"age\"]))"
   ]
  },
  {
   "cell_type": "markdown",
   "metadata": {},
   "source": [
    "On the other side, our linear regression model accurately predicted a diagnosis 84.78% of the time. A marked improvement over the null model."
   ]
  },
  {
   "cell_type": "code",
   "execution_count": 102,
   "metadata": {},
   "outputs": [],
   "source": [
    "model_accuracy = 0\n",
    "for _, row in data.dropna(subset=[\"stab_glu\", \"ratio\", \"waist_hip\", \"large\", \"bmi\", \"age\"]).iterrows():\n",
    "    individual = [[\n",
    "        1, # intercept\n",
    "        row[\"stab_glu\"], # stabilized glucose\n",
    "        row[\"ratio\"], # ratio\n",
    "        row[\"waist_hip\"], # waist_hip\n",
    "        row[\"large\"], # large\n",
    "        row[\"bmi\"], # BMI\n",
    "        row[\"age\"] # age\n",
    "    ]]\n",
    "    prediction = (final[\"model\"].predict(individual)[0][0] > 6.4)\n",
    "    actual = (row[\"glyhb\"] > 6.4)\n",
    "    if prediction == actual:\n",
    "        model_accuracy += 1"
   ]
  },
  {
   "cell_type": "code",
   "execution_count": 103,
   "metadata": {},
   "outputs": [
    {
     "data": {
      "text/plain": [
       "0.9028871391076115"
      ]
     },
     "execution_count": 103,
     "metadata": {},
     "output_type": "execute_result"
    }
   ],
   "source": [
    "model_accuracy / len(data.dropna(subset=[\"stab_glu\", \"ratio\", \"waist_hip\", \"large\", \"bmi\", \"age\"]))"
   ]
  },
  {
   "cell_type": "markdown",
   "metadata": {},
   "source": [
    "If we consider only a prediction of diabetes (that is -- not including those who are pre-diabetic), our model is able to accurate predict the diagnosis of 90.03% of the individuals in our dataset."
   ]
  }
 ],
 "metadata": {
  "interpreter": {
   "hash": "aee8b7b246df8f9039afb4144a1f6fd8d2ca17a180786b69acc140d282b71a49"
  },
  "kernelspec": {
   "display_name": "Python 3.9.6 64-bit",
   "language": "python",
   "name": "python3"
  },
  "language_info": {
   "codemirror_mode": {
    "name": "ipython",
    "version": 3
   },
   "file_extension": ".py",
   "mimetype": "text/x-python",
   "name": "python",
   "nbconvert_exporter": "python",
   "pygments_lexer": "ipython3",
   "version": "3.9.6"
  },
  "orig_nbformat": 4
 },
 "nbformat": 4,
 "nbformat_minor": 2
}
