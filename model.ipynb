{
 "cells": [
  {
   "cell_type": "code",
   "execution_count": 1,
   "metadata": {},
   "outputs": [],
   "source": [
    "import models\n",
    "import pandas as pd\n",
    "import scipy.stats as stats\n",
    "import numpy as np\n",
    "import matplotlib.pyplot as plt\n",
    "import random\n",
    "import patsy\n",
    "from collections import defaultdict"
   ]
  },
  {
   "cell_type": "code",
   "execution_count": 2,
   "metadata": {},
   "outputs": [],
   "source": [
    "random.seed(20211212)"
   ]
  },
  {
   "cell_type": "markdown",
   "metadata": {},
   "source": [
    "# MODEL"
   ]
  },
  {
   "cell_type": "code",
   "execution_count": 3,
   "metadata": {},
   "outputs": [],
   "source": [
    "data = pd.read_csv(\"explored-diabetes.csv\")"
   ]
  },
  {
   "cell_type": "markdown",
   "metadata": {},
   "source": [
    "## Null model"
   ]
  },
  {
   "cell_type": "markdown",
   "metadata": {},
   "source": [
    "We first build a baseline null model using the target variable: `glyhb`. Recall from single variable exploratory analysis:\n",
    "\n",
    "> The [glycosylated hemoglobin](https://en.wikipedia.org/wiki/Glycated_hemoglobin), a diagnostic test often referred to as simply a \"hemoglobin A1c\", is measured primarily to determine the three-month average blood sugar level.\n",
    "\n",
    "The hemoglobin A1c works as a quasi-classification variable, with a diagnosis for the following ranges:\n",
    "\n",
    "| A1c        | diagnosis   |\n",
    "|------------|-------------|\n",
    "| < 5.7%     | normal      | \n",
    "| 5.7 - 6.4% | prediabetic |\n",
    "| > 6.4%     | diabetic    |"
   ]
  },
  {
   "cell_type": "code",
   "execution_count": 4,
   "metadata": {},
   "outputs": [
    {
     "data": {
      "text/plain": [
       "count    390.000000\n",
       "mean       5.589769\n",
       "std        2.242595\n",
       "min        2.680000\n",
       "25%        4.380000\n",
       "50%        4.840000\n",
       "75%        5.600000\n",
       "max       16.110001\n",
       "Name: glyhb, dtype: float64"
      ]
     },
     "execution_count": 4,
     "metadata": {},
     "output_type": "execute_result"
    }
   ],
   "source": [
    "data[\"glyhb\"].describe()"
   ]
  },
  {
   "cell_type": "markdown",
   "metadata": {},
   "source": [
    "Let's collect the null model's information: the mean and standard deviation or our target variable A1c."
   ]
  },
  {
   "cell_type": "code",
   "execution_count": 5,
   "metadata": {},
   "outputs": [
    {
     "data": {
      "text/plain": [
       "5.589769236246667"
      ]
     },
     "execution_count": 5,
     "metadata": {},
     "output_type": "execute_result"
    }
   ],
   "source": [
    "null_mean = data[\"glyhb\"].describe()[\"mean\"]\n",
    "null_mean"
   ]
  },
  {
   "cell_type": "code",
   "execution_count": 6,
   "metadata": {},
   "outputs": [
    {
     "data": {
      "text/plain": [
       "2.242594841991535"
      ]
     },
     "execution_count": 6,
     "metadata": {},
     "output_type": "execute_result"
    }
   ],
   "source": [
    "null_std = data[\"glyhb\"].describe()[\"std\"]\n",
    "null_std"
   ]
  },
  {
   "cell_type": "markdown",
   "metadata": {},
   "source": [
    "The mean for the target variable is 5.5898%, with a standard deviation or equivalent $\\sigma$ of 2.2426%. Our goal is to improve upon this naive model using our linear regression model."
   ]
  },
  {
   "cell_type": "markdown",
   "metadata": {},
   "source": [
    "## Linear regression model"
   ]
  },
  {
   "cell_type": "markdown",
   "metadata": {},
   "source": [
    "We begin first with the \"all in\" linear regression model. First, we'll have to rename a few columns due to specifics with our modeling library not accepting variables with periods."
   ]
  },
  {
   "cell_type": "code",
   "execution_count": 7,
   "metadata": {},
   "outputs": [],
   "source": [
    "data.rename(columns={\"stab.glu\": \"stab_glu\", \"time.ppn\": \"time_ppn\", \"bp.s\": \"bp_s\", \"bp.d\": \"bp_d\"}, inplace=True)"
   ]
  },
  {
   "cell_type": "markdown",
   "metadata": {},
   "source": [
    "Next, we'll one-hot encode the `gender` and `frame` variables for potential use in our linear model."
   ]
  },
  {
   "cell_type": "code",
   "execution_count": 8,
   "metadata": {},
   "outputs": [],
   "source": [
    "data = data.join(pd.get_dummies(data[\"gender\"]))\n",
    "data = data.join(pd.get_dummies(data[\"frame\"]))"
   ]
  },
  {
   "cell_type": "markdown",
   "metadata": {},
   "source": [
    "Our \"all in\" linear regression model will consist of all available numeric (non-categorical) variables, exluding a few: `glyhb`, `eAG`, `female`, and `small`. The first two as they are either the target variable itself, or a analog of the target variable. The latter two are redundant variables --  a side effect of the one-hot encoding -- that are already expressed as the intercepts of the variables."
   ]
  },
  {
   "cell_type": "code",
   "execution_count": 9,
   "metadata": {},
   "outputs": [
    {
     "data": {
      "text/html": [
       "<p><strong>Model: glyhb ~ chol + stab_glu + hdl + ratio + age + height + weight + waist + hip + time_ppn + bp_s + bp_d + bmi + waist_hip + male + large + medium</strong><br/><table>\n",
       "<tbody>\n",
       "<tr><td>                             </td><td>                     </td><td>                     </td><td><strong>95% BCI</strong</td><td>                   </td></tr>\n",
       "<tr><td><strong>Coefficients</strong</td><td>                     </td><td><strong>Mean</strong</td><td><strong>Lo</strong     </td><td><strong>Hi</strong</td></tr>\n",
       "<tr><td>                             </td><td>$\\beta_{0}$          </td><td>-8.40                </td><td>-28.80                  </td><td>9.90               </td></tr>\n",
       "<tr><td>chol                         </td><td>$\\beta_{1}$          </td><td>0.00                 </td><td>-0.00                   </td><td>0.01               </td></tr>\n",
       "<tr><td>stab_glu                     </td><td>$\\beta_{2}$          </td><td>0.03                 </td><td>0.02                    </td><td>0.03               </td></tr>\n",
       "<tr><td>hdl                          </td><td>$\\beta_{3}$          </td><td>0.00                 </td><td>-0.03                   </td><td>0.02               </td></tr>\n",
       "<tr><td>ratio                        </td><td>$\\beta_{4}$          </td><td>0.12                 </td><td>-0.23                   </td><td>0.36               </td></tr>\n",
       "<tr><td>age                          </td><td>$\\beta_{5}$          </td><td>0.01                 </td><td>0.00                    </td><td>0.02               </td></tr>\n",
       "<tr><td>height                       </td><td>$\\beta_{6}$          </td><td>0.07                 </td><td>-0.15                   </td><td>0.24               </td></tr>\n",
       "<tr><td>weight                       </td><td>$\\beta_{7}$          </td><td>-0.01                </td><td>-0.04                   </td><td>0.02               </td></tr>\n",
       "<tr><td>waist                        </td><td>$\\beta_{8}$          </td><td>-0.05                </td><td>-0.43                   </td><td>0.38               </td></tr>\n",
       "<tr><td>hip                          </td><td>$\\beta_{9}$          </td><td>0.08                 </td><td>-0.27                   </td><td>0.43               </td></tr>\n",
       "<tr><td>time_ppn                     </td><td>$\\beta_{10}$         </td><td>0.00                 </td><td>0.00                    </td><td>0.00               </td></tr>\n",
       "<tr><td>bp_s                         </td><td>$\\beta_{11}$         </td><td>0.00                 </td><td>-0.01                   </td><td>0.01               </td></tr>\n",
       "<tr><td>bp_d                         </td><td>$\\beta_{12}$         </td><td>0.00                 </td><td>-0.01                   </td><td>0.01               </td></tr>\n",
       "<tr><td>bmi                          </td><td>$\\beta_{13}$         </td><td>0.05                 </td><td>-0.19                   </td><td>0.24               </td></tr>\n",
       "<tr><td>waist_hip                    </td><td>$\\beta_{14}$         </td><td>3.97                 </td><td>-15.51                  </td><td>21.07              </td></tr>\n",
       "<tr><td>male                         </td><td>$\\beta_{15}$         </td><td>-0.23                </td><td>-0.89                   </td><td>0.29               </td></tr>\n",
       "<tr><td>large                        </td><td>$\\beta_{16}$         </td><td>-0.07                </td><td>-0.54                   </td><td>0.51               </td></tr>\n",
       "<tr><td>medium                       </td><td>$\\beta_{17}$         </td><td>0.11                 </td><td>-0.23                   </td><td>0.49               </td></tr>\n",
       "<tr><td>                             </td><td>                     </td><td>                     </td><td>                        </td><td>                   </td></tr>\n",
       "<tr><td><strong>Metrics</strong     </td><td><strong>Mean</strong</td><td><strong>Lo</strong  </td><td><strong>Hi</strong     </td><td>                   </td></tr>\n",
       "<tr><td>$\\sigma$                     </td><td>1.43                 </td><td>1.12                 </td><td>1.63                    </td><td>                   </td></tr>\n",
       "<tr><td>$R^2$                        </td><td>0.60                 </td><td>0.48                 </td><td>0.76                    </td><td>                   </td></tr>\n",
       "</tbody>\n",
       "</table></p>"
      ],
      "text/latex": [
       "\\textbf{Model: glyhb $\\sim$ chol + stab\\_glu + hdl + ratio + age + height + weight + waist + hip + time\\_ppn + bp\\_s + bp\\_d + bmi + waist\\_hip + male + large + medium}\n",
       "\n",
       "\\begin{tabular}{lllll}\n",
       "\\toprule\n",
       "                       &               &               & \\textbf{95\\% BCI} &             \\\\\n",
       " \\textbf{Coefficients} &               & \\textbf{Mean} & \\textbf{Lo}      & \\textbf{Hi} \\\\\n",
       "                       & $\\beta_{0}$   & -8.40         & -28.80           & 9.90        \\\\\n",
       " chol                  & $\\beta_{1}$   & 0.00          & -0.00            & 0.01        \\\\\n",
       " stab\\_glu             & $\\beta_{2}$   & 0.03          & 0.02             & 0.03        \\\\\n",
       " hdl                   & $\\beta_{3}$   & 0.00          & -0.03            & 0.02        \\\\\n",
       " ratio                 & $\\beta_{4}$   & 0.12          & -0.23            & 0.36        \\\\\n",
       " age                   & $\\beta_{5}$   & 0.01          & 0.00             & 0.02        \\\\\n",
       " height                & $\\beta_{6}$   & 0.07          & -0.15            & 0.24        \\\\\n",
       " weight                & $\\beta_{7}$   & -0.01         & -0.04            & 0.02        \\\\\n",
       " waist                 & $\\beta_{8}$   & -0.05         & -0.43            & 0.38        \\\\\n",
       " hip                   & $\\beta_{9}$   & 0.08          & -0.27            & 0.43        \\\\\n",
       " time\\_ppn             & $\\beta_{10}$  & 0.00          & 0.00             & 0.00        \\\\\n",
       " bp\\_s                 & $\\beta_{11}$  & 0.00          & -0.01            & 0.01        \\\\\n",
       " bp\\_d                 & $\\beta_{12}$  & 0.00          & -0.01            & 0.01        \\\\\n",
       " bmi                   & $\\beta_{13}$  & 0.05          & -0.19            & 0.24        \\\\\n",
       " waist\\_hip            & $\\beta_{14}$  & 3.97          & -15.51           & 21.07       \\\\\n",
       " male                  & $\\beta_{15}$  & -0.23         & -0.89            & 0.29        \\\\\n",
       " large                 & $\\beta_{16}$  & -0.07         & -0.54            & 0.51        \\\\\n",
       " medium                & $\\beta_{17}$  & 0.11          & -0.23            & 0.49        \\\\\n",
       "                       &               &               &                  &             \\\\\n",
       " \\textbf{Metrics}      & \\textbf{Mean} & \\textbf{Lo}   & \\textbf{Hi}      &             \\\\\n",
       " $\\sigma$              & 1.43          & 1.12          & 1.63             &             \\\\\n",
       " $R^2$                 & 0.60          & 0.48          & 0.76             &             \\\\\n",
       "\\bottomrule\n",
       "\\end{tabular}"
      ],
      "text/markdown": [
       "Model: glyhb ~ chol + stab_glu + hdl + ratio + age + height + weight + waist + hip + time_ppn + bp_s + bp_d + bmi + waist_hip + male + large + medium\n",
       "|------------------|--------------|----------|-------------|--------|\n",
       "|                  |              |          | **95% BCI** |        |\n",
       "| **Coefficients** |              | **Mean** | **Lo**      | **Hi** |\n",
       "|                  | $\\beta_{0}$  | -8.40    | -28.80      | 9.90   |\n",
       "| chol             | $\\beta_{1}$  | 0.00     | -0.00       | 0.01   |\n",
       "| stab_glu         | $\\beta_{2}$  | 0.03     | 0.02        | 0.03   |\n",
       "| hdl              | $\\beta_{3}$  | 0.00     | -0.03       | 0.02   |\n",
       "| ratio            | $\\beta_{4}$  | 0.12     | -0.23       | 0.36   |\n",
       "| age              | $\\beta_{5}$  | 0.01     | 0.00        | 0.02   |\n",
       "| height           | $\\beta_{6}$  | 0.07     | -0.15       | 0.24   |\n",
       "| weight           | $\\beta_{7}$  | -0.01    | -0.04       | 0.02   |\n",
       "| waist            | $\\beta_{8}$  | -0.05    | -0.43       | 0.38   |\n",
       "| hip              | $\\beta_{9}$  | 0.08     | -0.27       | 0.43   |\n",
       "| time_ppn         | $\\beta_{10}$ | 0.00     | 0.00        | 0.00   |\n",
       "| bp_s             | $\\beta_{11}$ | 0.00     | -0.01       | 0.01   |\n",
       "| bp_d             | $\\beta_{12}$ | 0.00     | -0.01       | 0.01   |\n",
       "| bmi              | $\\beta_{13}$ | 0.05     | -0.19       | 0.24   |\n",
       "| waist_hip        | $\\beta_{14}$ | 3.97     | -15.51      | 21.07  |\n",
       "| male             | $\\beta_{15}$ | -0.23    | -0.89       | 0.29   |\n",
       "| large            | $\\beta_{16}$ | -0.07    | -0.54       | 0.51   |\n",
       "| medium           | $\\beta_{17}$ | 0.11     | -0.23       | 0.49   |\n",
       "|                  |              |          |             |        |\n",
       "| **Metrics**      | **Mean**     | **Lo**   | **Hi**      |        |\n",
       "| $\\sigma$         | 1.43         | 1.12     | 1.63        |        |\n",
       "| $R^2$            | 0.60         | 0.48     | 0.76        |        |"
      ],
      "text/plain": [
       "<models.ResultsWrapper at 0x11224aac0>"
      ]
     },
     "execution_count": 9,
     "metadata": {},
     "output_type": "execute_result"
    }
   ],
   "source": [
    "subset = data.select_dtypes(include=\"number\").columns.drop([\"glyhb\", \"female\", \"small\", \"eAG\"])\n",
    "model = f'glyhb ~ {\" + \".join(subset)}'\n",
    "result1 = models.bootstrap_linear_regression(model, data=data.dropna(subset=subset))\n",
    "models.describe_bootstrap_lr(result1)"
   ]
  },
  {
   "cell_type": "markdown",
   "metadata": {},
   "source": [
    "We can learn a lot from the initial model -- first, the overall performance is fairly decent.\n",
    "\n",
    "- Somewhat surprising, the model seems to have found a relationship between waist-to-hip ratio and A1c. This counters our exploratory data analysis, but falls inline with other diabetes prediction models.\n",
    "- Stabilized glucose is a positive relationship -- as it increases, so does A1c (diabetes more likely). However, this relationship was strong, but due to the inconsistent scales, the \"importance\" of this variable may be understated in the model.\n",
    "- BMI is supported in the data, but is victim to the same scale issue as stabilized glucose.\n",
    "- There are several variables expressed multiple times, such as `hip` and `waist` being redundant with `waist_hip` there.\n",
    "- Frame shows a relationship, but is inconsistent across the \"large\" and \"medium\" categories."
   ]
  },
  {
   "cell_type": "markdown",
   "metadata": {},
   "source": [
    "Before we proceed, let's look at correlation coeffecients for each of our numeric variables:"
   ]
  },
  {
   "cell_type": "code",
   "execution_count": 10,
   "metadata": {},
   "outputs": [],
   "source": [
    "def correlations(data, y, xs):\n",
    "    rs = []\n",
    "    rhos = []\n",
    "    for x in xs:\n",
    "        r = stats.pearsonr(data[y], data[x])[0]\n",
    "        rs.append(r)\n",
    "        rho = stats.spearmanr(data[y], data[x])[0]\n",
    "        rhos.append(rho)\n",
    "    return pd.DataFrame({\"feature\": xs, \"r\": rs, \"rho\": rhos})"
   ]
  },
  {
   "cell_type": "code",
   "execution_count": 11,
   "metadata": {},
   "outputs": [
    {
     "data": {
      "text/html": [
       "<div>\n",
       "<style scoped>\n",
       "    .dataframe tbody tr th:only-of-type {\n",
       "        vertical-align: middle;\n",
       "    }\n",
       "\n",
       "    .dataframe tbody tr th {\n",
       "        vertical-align: top;\n",
       "    }\n",
       "\n",
       "    .dataframe thead th {\n",
       "        text-align: right;\n",
       "    }\n",
       "</style>\n",
       "<table border=\"1\" class=\"dataframe\">\n",
       "  <thead>\n",
       "    <tr style=\"text-align: right;\">\n",
       "      <th></th>\n",
       "      <th>feature</th>\n",
       "      <th>r</th>\n",
       "      <th>rho</th>\n",
       "    </tr>\n",
       "  </thead>\n",
       "  <tbody>\n",
       "    <tr>\n",
       "      <th>0</th>\n",
       "      <td>chol</td>\n",
       "      <td>0.271652</td>\n",
       "      <td>0.225731</td>\n",
       "    </tr>\n",
       "    <tr>\n",
       "      <th>1</th>\n",
       "      <td>stab_glu</td>\n",
       "      <td>0.740905</td>\n",
       "      <td>0.519988</td>\n",
       "    </tr>\n",
       "    <tr>\n",
       "      <th>2</th>\n",
       "      <td>hdl</td>\n",
       "      <td>-0.169496</td>\n",
       "      <td>-0.210278</td>\n",
       "    </tr>\n",
       "    <tr>\n",
       "      <th>3</th>\n",
       "      <td>ratio</td>\n",
       "      <td>0.354653</td>\n",
       "      <td>0.309827</td>\n",
       "    </tr>\n",
       "    <tr>\n",
       "      <th>4</th>\n",
       "      <td>glyhb</td>\n",
       "      <td>1.000000</td>\n",
       "      <td>1.000000</td>\n",
       "    </tr>\n",
       "    <tr>\n",
       "      <th>5</th>\n",
       "      <td>age</td>\n",
       "      <td>0.332230</td>\n",
       "      <td>0.427119</td>\n",
       "    </tr>\n",
       "    <tr>\n",
       "      <th>6</th>\n",
       "      <td>height</td>\n",
       "      <td>0.052251</td>\n",
       "      <td>0.025864</td>\n",
       "    </tr>\n",
       "    <tr>\n",
       "      <th>7</th>\n",
       "      <td>weight</td>\n",
       "      <td>0.167769</td>\n",
       "      <td>0.222719</td>\n",
       "    </tr>\n",
       "    <tr>\n",
       "      <th>8</th>\n",
       "      <td>waist</td>\n",
       "      <td>0.247687</td>\n",
       "      <td>0.333495</td>\n",
       "    </tr>\n",
       "    <tr>\n",
       "      <th>9</th>\n",
       "      <td>hip</td>\n",
       "      <td>0.151673</td>\n",
       "      <td>0.234254</td>\n",
       "    </tr>\n",
       "    <tr>\n",
       "      <th>10</th>\n",
       "      <td>time_ppn</td>\n",
       "      <td>0.037049</td>\n",
       "      <td>0.037208</td>\n",
       "    </tr>\n",
       "    <tr>\n",
       "      <th>11</th>\n",
       "      <td>bp_s</td>\n",
       "      <td>0.163768</td>\n",
       "      <td>0.249607</td>\n",
       "    </tr>\n",
       "    <tr>\n",
       "      <th>12</th>\n",
       "      <td>bp_d</td>\n",
       "      <td>0.030373</td>\n",
       "      <td>0.068304</td>\n",
       "    </tr>\n",
       "    <tr>\n",
       "      <th>13</th>\n",
       "      <td>eAG</td>\n",
       "      <td>1.000000</td>\n",
       "      <td>1.000000</td>\n",
       "    </tr>\n",
       "    <tr>\n",
       "      <th>14</th>\n",
       "      <td>bmi</td>\n",
       "      <td>0.135814</td>\n",
       "      <td>0.225608</td>\n",
       "    </tr>\n",
       "    <tr>\n",
       "      <th>15</th>\n",
       "      <td>waist_hip</td>\n",
       "      <td>0.215695</td>\n",
       "      <td>0.258480</td>\n",
       "    </tr>\n",
       "    <tr>\n",
       "      <th>16</th>\n",
       "      <td>female</td>\n",
       "      <td>-0.047659</td>\n",
       "      <td>-0.069116</td>\n",
       "    </tr>\n",
       "    <tr>\n",
       "      <th>17</th>\n",
       "      <td>male</td>\n",
       "      <td>0.047659</td>\n",
       "      <td>0.069116</td>\n",
       "    </tr>\n",
       "    <tr>\n",
       "      <th>18</th>\n",
       "      <td>large</td>\n",
       "      <td>0.127820</td>\n",
       "      <td>0.214730</td>\n",
       "    </tr>\n",
       "    <tr>\n",
       "      <th>19</th>\n",
       "      <td>medium</td>\n",
       "      <td>0.018171</td>\n",
       "      <td>0.009482</td>\n",
       "    </tr>\n",
       "    <tr>\n",
       "      <th>20</th>\n",
       "      <td>small</td>\n",
       "      <td>-0.147461</td>\n",
       "      <td>-0.224007</td>\n",
       "    </tr>\n",
       "  </tbody>\n",
       "</table>\n",
       "</div>"
      ],
      "text/plain": [
       "      feature         r       rho\n",
       "0        chol  0.271652  0.225731\n",
       "1    stab_glu  0.740905  0.519988\n",
       "2         hdl -0.169496 -0.210278\n",
       "3       ratio  0.354653  0.309827\n",
       "4       glyhb  1.000000  1.000000\n",
       "5         age  0.332230  0.427119\n",
       "6      height  0.052251  0.025864\n",
       "7      weight  0.167769  0.222719\n",
       "8       waist  0.247687  0.333495\n",
       "9         hip  0.151673  0.234254\n",
       "10   time_ppn  0.037049  0.037208\n",
       "11       bp_s  0.163768  0.249607\n",
       "12       bp_d  0.030373  0.068304\n",
       "13        eAG  1.000000  1.000000\n",
       "14        bmi  0.135814  0.225608\n",
       "15  waist_hip  0.215695  0.258480\n",
       "16     female -0.047659 -0.069116\n",
       "17       male  0.047659  0.069116\n",
       "18      large  0.127820  0.214730\n",
       "19     medium  0.018171  0.009482\n",
       "20      small -0.147461 -0.224007"
      ]
     },
     "execution_count": 11,
     "metadata": {},
     "output_type": "execute_result"
    }
   ],
   "source": [
    "correlations(data.dropna(), \"glyhb\", data.select_dtypes(include=\"number\").columns)"
   ]
  },
  {
   "cell_type": "markdown",
   "metadata": {},
   "source": [
    "This confirms a lot of what we saw in our initial model. Stabilized glucose shows the strongest positive relationship -- nothing unexpected there. Cholesterol ratio shows the strongest relationship amonst the cholesterol-related variables. The waist-to-hip relationship is certainly present, most variables with relationships deomonstrating possibly non-linear relationship based on the Spearman's coeffecients."
   ]
  },
  {
   "cell_type": "markdown",
   "metadata": {},
   "source": [
    "Let's simplify our model using only variables with relationships to the target variable:"
   ]
  },
  {
   "cell_type": "code",
   "execution_count": 12,
   "metadata": {},
   "outputs": [
    {
     "data": {
      "text/html": [
       "<p><strong>Model: glyhb ~ stab_glu + ratio + waist_hip + large + medium + bmi + age</strong><br/><table>\n",
       "<tbody>\n",
       "<tr><td>                             </td><td>                     </td><td>                     </td><td><strong>95% BCI</strong</td><td>                   </td></tr>\n",
       "<tr><td><strong>Coefficients</strong</td><td>                     </td><td><strong>Mean</strong</td><td><strong>Lo</strong     </td><td><strong>Hi</strong</td></tr>\n",
       "<tr><td>                             </td><td>$\\beta_{0}$          </td><td>0.41                 </td><td>-1.09                   </td><td>2.30               </td></tr>\n",
       "<tr><td>stab_glu                     </td><td>$\\beta_{1}$          </td><td>0.03                 </td><td>0.02                    </td><td>0.03               </td></tr>\n",
       "<tr><td>ratio                        </td><td>$\\beta_{2}$          </td><td>0.15                 </td><td>-0.00                   </td><td>0.26               </td></tr>\n",
       "<tr><td>waist_hip                    </td><td>$\\beta_{3}$          </td><td>0.60                 </td><td>-1.38                   </td><td>2.72               </td></tr>\n",
       "<tr><td>large                        </td><td>$\\beta_{4}$          </td><td>-0.08                </td><td>-0.51                   </td><td>0.37               </td></tr>\n",
       "<tr><td>medium                       </td><td>$\\beta_{5}$          </td><td>0.17                 </td><td>-0.16                   </td><td>0.53               </td></tr>\n",
       "<tr><td>bmi                          </td><td>$\\beta_{6}$          </td><td>0.01                 </td><td>-0.02                   </td><td>0.03               </td></tr>\n",
       "<tr><td>age                          </td><td>$\\beta_{7}$          </td><td>0.02                 </td><td>0.01                    </td><td>0.02               </td></tr>\n",
       "<tr><td>                             </td><td>                     </td><td>                     </td><td>                        </td><td>                   </td></tr>\n",
       "<tr><td><strong>Metrics</strong     </td><td><strong>Mean</strong</td><td><strong>Lo</strong  </td><td><strong>Hi</strong     </td><td>                   </td></tr>\n",
       "<tr><td>$\\sigma$                     </td><td>1.43                 </td><td>1.17                 </td><td>1.63                    </td><td>                   </td></tr>\n",
       "<tr><td>$R^2$                        </td><td>0.59                 </td><td>0.48                 </td><td>0.72                    </td><td>                   </td></tr>\n",
       "</tbody>\n",
       "</table></p>"
      ],
      "text/latex": [
       "\\textbf{Model: glyhb $\\sim$ stab\\_glu + ratio + waist\\_hip + large + medium + bmi + age}\n",
       "\n",
       "\\begin{tabular}{lllll}\n",
       "\\toprule\n",
       "                       &               &               & \\textbf{95\\% BCI} &             \\\\\n",
       " \\textbf{Coefficients} &               & \\textbf{Mean} & \\textbf{Lo}      & \\textbf{Hi} \\\\\n",
       "                       & $\\beta_{0}$   & 0.41          & -1.09            & 2.30        \\\\\n",
       " stab\\_glu             & $\\beta_{1}$   & 0.03          & 0.02             & 0.03        \\\\\n",
       " ratio                 & $\\beta_{2}$   & 0.15          & -0.00            & 0.26        \\\\\n",
       " waist\\_hip            & $\\beta_{3}$   & 0.60          & -1.38            & 2.72        \\\\\n",
       " large                 & $\\beta_{4}$   & -0.08         & -0.51            & 0.37        \\\\\n",
       " medium                & $\\beta_{5}$   & 0.17          & -0.16            & 0.53        \\\\\n",
       " bmi                   & $\\beta_{6}$   & 0.01          & -0.02            & 0.03        \\\\\n",
       " age                   & $\\beta_{7}$   & 0.02          & 0.01             & 0.02        \\\\\n",
       "                       &               &               &                  &             \\\\\n",
       " \\textbf{Metrics}      & \\textbf{Mean} & \\textbf{Lo}   & \\textbf{Hi}      &             \\\\\n",
       " $\\sigma$              & 1.43          & 1.17          & 1.63             &             \\\\\n",
       " $R^2$                 & 0.59          & 0.48          & 0.72             &             \\\\\n",
       "\\bottomrule\n",
       "\\end{tabular}"
      ],
      "text/markdown": [
       "Model: glyhb ~ stab_glu + ratio + waist_hip + large + medium + bmi + age\n",
       "|------------------|-------------|----------|-------------|--------|\n",
       "|                  |             |          | **95% BCI** |        |\n",
       "| **Coefficients** |             | **Mean** | **Lo**      | **Hi** |\n",
       "|                  | $\\beta_{0}$ | 0.41     | -1.09       | 2.30   |\n",
       "| stab_glu         | $\\beta_{1}$ | 0.03     | 0.02        | 0.03   |\n",
       "| ratio            | $\\beta_{2}$ | 0.15     | -0.00       | 0.26   |\n",
       "| waist_hip        | $\\beta_{3}$ | 0.60     | -1.38       | 2.72   |\n",
       "| large            | $\\beta_{4}$ | -0.08    | -0.51       | 0.37   |\n",
       "| medium           | $\\beta_{5}$ | 0.17     | -0.16       | 0.53   |\n",
       "| bmi              | $\\beta_{6}$ | 0.01     | -0.02       | 0.03   |\n",
       "| age              | $\\beta_{7}$ | 0.02     | 0.01        | 0.02   |\n",
       "|                  |             |          |             |        |\n",
       "| **Metrics**      | **Mean**    | **Lo**   | **Hi**      |        |\n",
       "| $\\sigma$         | 1.43        | 1.17     | 1.63        |        |\n",
       "| $R^2$            | 0.59        | 0.48     | 0.72        |        |"
      ],
      "text/plain": [
       "<models.ResultsWrapper at 0x127736490>"
      ]
     },
     "execution_count": 12,
     "metadata": {},
     "output_type": "execute_result"
    }
   ],
   "source": [
    "subset = [\"stab_glu\", \"ratio\", \"waist_hip\", \"large\", \"medium\", \"bmi\", \"age\"]\n",
    "model = f'glyhb ~ {\" + \".join(subset)}'\n",
    "result2 = models.bootstrap_linear_regression(model, data=data.dropna(subset=subset))\n",
    "models.describe_bootstrap_lr(result2)"
   ]
  },
  {
   "cell_type": "markdown",
   "metadata": {},
   "source": [
    "Good, our $R^2$ and $\\sigma$ are mantained despite the reduction in variables. Next, we'll use domain knowledge to bolster our model. Let's define one-hot encoded boolean variables discussed in exploratory data analysis: whether the individual is `obese`, whether the individual is `older`, and whether the individual has `hypertension`. We'll also attempt to use the stabilized glucose value as an indicator as to whether the indiviual is `diabetic`."
   ]
  },
  {
   "cell_type": "code",
   "execution_count": 13,
   "metadata": {},
   "outputs": [],
   "source": [
    "data[\"obese\"] = (data[\"bmi\"] > 30).astype(int, errors=\"ignore\")\n",
    "data[\"older\"] = (data[\"age\"] > 60).astype(int, errors=\"ignore\")\n",
    "data[\"hypertension\"] = ((data[\"bp_s\"] < 130) & (data[\"bp_d\"] < 80)).astype(int, errors=\"ignore\")\n",
    "data[\"diabetic\"] = (data[\"stab_glu\"] > 130).astype(int, errors=\"ignore\")"
   ]
  },
  {
   "cell_type": "markdown",
   "metadata": {},
   "source": [
    "Let's add these to see if there is any effect on the overall performance of the linear model:"
   ]
  },
  {
   "cell_type": "code",
   "execution_count": 14,
   "metadata": {},
   "outputs": [
    {
     "data": {
      "text/html": [
       "<p><strong>Model: glyhb ~ stab_glu + ratio + waist_hip + large + medium + bmi + age + obese + older + hypertension</strong><br/><table>\n",
       "<tbody>\n",
       "<tr><td>                             </td><td>                     </td><td>                     </td><td><strong>95% BCI</strong</td><td>                   </td></tr>\n",
       "<tr><td><strong>Coefficients</strong</td><td>                     </td><td><strong>Mean</strong</td><td><strong>Lo</strong     </td><td><strong>Hi</strong</td></tr>\n",
       "<tr><td>                             </td><td>$\\beta_{0}$          </td><td>-0.06                </td><td>-2.17                   </td><td>1.44               </td></tr>\n",
       "<tr><td>stab_glu                     </td><td>$\\beta_{1}$          </td><td>0.03                 </td><td>0.02                    </td><td>0.03               </td></tr>\n",
       "<tr><td>ratio                        </td><td>$\\beta_{2}$          </td><td>0.15                 </td><td>-0.01                   </td><td>0.25               </td></tr>\n",
       "<tr><td>waist_hip                    </td><td>$\\beta_{3}$          </td><td>0.63                 </td><td>-1.12                   </td><td>2.81               </td></tr>\n",
       "<tr><td>large                        </td><td>$\\beta_{4}$          </td><td>-0.09                </td><td>-0.55                   </td><td>0.28               </td></tr>\n",
       "<tr><td>medium                       </td><td>$\\beta_{5}$          </td><td>0.17                 </td><td>-0.15                   </td><td>0.55               </td></tr>\n",
       "<tr><td>bmi                          </td><td>$\\beta_{6}$          </td><td>0.03                 </td><td>0.00                    </td><td>0.07               </td></tr>\n",
       "<tr><td>age                          </td><td>$\\beta_{7}$          </td><td>0.02                 </td><td>0.00                    </td><td>0.03               </td></tr>\n",
       "<tr><td>obese                        </td><td>$\\beta_{8}$          </td><td>-0.39                </td><td>-0.82                   </td><td>0.03               </td></tr>\n",
       "<tr><td>older                        </td><td>$\\beta_{9}$          </td><td>0.04                 </td><td>-0.69                   </td><td>0.73               </td></tr>\n",
       "<tr><td>hypertension                 </td><td>$\\beta_{10}$         </td><td>-0.04                </td><td>-0.29                   </td><td>0.32               </td></tr>\n",
       "<tr><td>                             </td><td>                     </td><td>                     </td><td>                        </td><td>                   </td></tr>\n",
       "<tr><td><strong>Metrics</strong     </td><td><strong>Mean</strong</td><td><strong>Lo</strong  </td><td><strong>Hi</strong     </td><td>                   </td></tr>\n",
       "<tr><td>$\\sigma$                     </td><td>1.44                 </td><td>1.16                 </td><td>1.74                    </td><td>                   </td></tr>\n",
       "<tr><td>$R^2$                        </td><td>0.59                 </td><td>0.48                 </td><td>0.73                    </td><td>                   </td></tr>\n",
       "</tbody>\n",
       "</table></p>"
      ],
      "text/latex": [
       "\\textbf{Model: glyhb $\\sim$ stab\\_glu + ratio + waist\\_hip + large + medium + bmi + age + obese + older + hypertension}\n",
       "\n",
       "\\begin{tabular}{lllll}\n",
       "\\toprule\n",
       "                       &               &               & \\textbf{95\\% BCI} &             \\\\\n",
       " \\textbf{Coefficients} &               & \\textbf{Mean} & \\textbf{Lo}      & \\textbf{Hi} \\\\\n",
       "                       & $\\beta_{0}$   & -0.06         & -2.17            & 1.44        \\\\\n",
       " stab\\_glu             & $\\beta_{1}$   & 0.03          & 0.02             & 0.03        \\\\\n",
       " ratio                 & $\\beta_{2}$   & 0.15          & -0.01            & 0.25        \\\\\n",
       " waist\\_hip            & $\\beta_{3}$   & 0.63          & -1.12            & 2.81        \\\\\n",
       " large                 & $\\beta_{4}$   & -0.09         & -0.55            & 0.28        \\\\\n",
       " medium                & $\\beta_{5}$   & 0.17          & -0.15            & 0.55        \\\\\n",
       " bmi                   & $\\beta_{6}$   & 0.03          & 0.00             & 0.07        \\\\\n",
       " age                   & $\\beta_{7}$   & 0.02          & 0.00             & 0.03        \\\\\n",
       " obese                 & $\\beta_{8}$   & -0.39         & -0.82            & 0.03        \\\\\n",
       " older                 & $\\beta_{9}$   & 0.04          & -0.69            & 0.73        \\\\\n",
       " hypertension          & $\\beta_{10}$  & -0.04         & -0.29            & 0.32        \\\\\n",
       "                       &               &               &                  &             \\\\\n",
       " \\textbf{Metrics}      & \\textbf{Mean} & \\textbf{Lo}   & \\textbf{Hi}      &             \\\\\n",
       " $\\sigma$              & 1.44          & 1.16          & 1.74             &             \\\\\n",
       " $R^2$                 & 0.59          & 0.48          & 0.73             &             \\\\\n",
       "\\bottomrule\n",
       "\\end{tabular}"
      ],
      "text/markdown": [
       "Model: glyhb ~ stab_glu + ratio + waist_hip + large + medium + bmi + age + obese + older + hypertension\n",
       "|------------------|--------------|----------|-------------|--------|\n",
       "|                  |              |          | **95% BCI** |        |\n",
       "| **Coefficients** |              | **Mean** | **Lo**      | **Hi** |\n",
       "|                  | $\\beta_{0}$  | -0.06    | -2.17       | 1.44   |\n",
       "| stab_glu         | $\\beta_{1}$  | 0.03     | 0.02        | 0.03   |\n",
       "| ratio            | $\\beta_{2}$  | 0.15     | -0.01       | 0.25   |\n",
       "| waist_hip        | $\\beta_{3}$  | 0.63     | -1.12       | 2.81   |\n",
       "| large            | $\\beta_{4}$  | -0.09    | -0.55       | 0.28   |\n",
       "| medium           | $\\beta_{5}$  | 0.17     | -0.15       | 0.55   |\n",
       "| bmi              | $\\beta_{6}$  | 0.03     | 0.00        | 0.07   |\n",
       "| age              | $\\beta_{7}$  | 0.02     | 0.00        | 0.03   |\n",
       "| obese            | $\\beta_{8}$  | -0.39    | -0.82       | 0.03   |\n",
       "| older            | $\\beta_{9}$  | 0.04     | -0.69       | 0.73   |\n",
       "| hypertension     | $\\beta_{10}$ | -0.04    | -0.29       | 0.32   |\n",
       "|                  |              |          |             |        |\n",
       "| **Metrics**      | **Mean**     | **Lo**   | **Hi**      |        |\n",
       "| $\\sigma$         | 1.44         | 1.16     | 1.74        |        |\n",
       "| $R^2$            | 0.59         | 0.48     | 0.73        |        |"
      ],
      "text/plain": [
       "<models.ResultsWrapper at 0x12976efd0>"
      ]
     },
     "execution_count": 14,
     "metadata": {},
     "output_type": "execute_result"
    }
   ],
   "source": [
    "subset = [\"stab_glu\", \"ratio\", \"waist_hip\", \"large\", \"medium\", \"bmi\", \"age\", \"obese\", \"older\", \"hypertension\"]\n",
    "model = f'glyhb ~ {\" + \".join(subset)}'\n",
    "result3 = models.bootstrap_linear_regression(model, data=data.dropna(subset=subset))\n",
    "models.describe_bootstrap_lr(result3)"
   ]
  },
  {
   "cell_type": "markdown",
   "metadata": {},
   "source": [
    "Not enough of a difference to make it worth including them. Let's finalize our model:"
   ]
  },
  {
   "cell_type": "code",
   "execution_count": 15,
   "metadata": {},
   "outputs": [
    {
     "data": {
      "text/html": [
       "<p><strong>Model: glyhb ~ stab_glu + ratio + waist_hip + large + medium + bmi + age</strong><br/><table>\n",
       "<tbody>\n",
       "<tr><td>                             </td><td>                     </td><td>                     </td><td><strong>95% BCI</strong</td><td>                   </td></tr>\n",
       "<tr><td><strong>Coefficients</strong</td><td>                     </td><td><strong>Mean</strong</td><td><strong>Lo</strong     </td><td><strong>Hi</strong</td></tr>\n",
       "<tr><td>                             </td><td>$\\beta_{0}$          </td><td>0.41                 </td><td>-1.88                   </td><td>2.15               </td></tr>\n",
       "<tr><td>stab_glu                     </td><td>$\\beta_{1}$          </td><td>0.03                 </td><td>0.02                    </td><td>0.03               </td></tr>\n",
       "<tr><td>ratio                        </td><td>$\\beta_{2}$          </td><td>0.15                 </td><td>-0.02                   </td><td>0.25               </td></tr>\n",
       "<tr><td>waist_hip                    </td><td>$\\beta_{3}$          </td><td>0.60                 </td><td>-1.27                   </td><td>2.93               </td></tr>\n",
       "<tr><td>large                        </td><td>$\\beta_{4}$          </td><td>-0.08                </td><td>-0.50                   </td><td>0.36               </td></tr>\n",
       "<tr><td>medium                       </td><td>$\\beta_{5}$          </td><td>0.17                 </td><td>-0.19                   </td><td>0.51               </td></tr>\n",
       "<tr><td>bmi                          </td><td>$\\beta_{6}$          </td><td>0.01                 </td><td>-0.02                   </td><td>0.03               </td></tr>\n",
       "<tr><td>age                          </td><td>$\\beta_{7}$          </td><td>0.02                 </td><td>0.01                    </td><td>0.03               </td></tr>\n",
       "<tr><td>                             </td><td>                     </td><td>                     </td><td>                        </td><td>                   </td></tr>\n",
       "<tr><td><strong>Metrics</strong     </td><td><strong>Mean</strong</td><td><strong>Lo</strong  </td><td><strong>Hi</strong     </td><td>                   </td></tr>\n",
       "<tr><td>$\\sigma$                     </td><td>1.43                 </td><td>1.17                 </td><td>1.68                    </td><td>                   </td></tr>\n",
       "<tr><td>$R^2$                        </td><td>0.59                 </td><td>0.46                 </td><td>0.72                    </td><td>                   </td></tr>\n",
       "</tbody>\n",
       "</table></p>"
      ],
      "text/latex": [
       "\\textbf{Model: glyhb $\\sim$ stab\\_glu + ratio + waist\\_hip + large + medium + bmi + age}\n",
       "\n",
       "\\begin{tabular}{lllll}\n",
       "\\toprule\n",
       "                       &               &               & \\textbf{95\\% BCI} &             \\\\\n",
       " \\textbf{Coefficients} &               & \\textbf{Mean} & \\textbf{Lo}      & \\textbf{Hi} \\\\\n",
       "                       & $\\beta_{0}$   & 0.41          & -1.88            & 2.15        \\\\\n",
       " stab\\_glu             & $\\beta_{1}$   & 0.03          & 0.02             & 0.03        \\\\\n",
       " ratio                 & $\\beta_{2}$   & 0.15          & -0.02            & 0.25        \\\\\n",
       " waist\\_hip            & $\\beta_{3}$   & 0.60          & -1.27            & 2.93        \\\\\n",
       " large                 & $\\beta_{4}$   & -0.08         & -0.50            & 0.36        \\\\\n",
       " medium                & $\\beta_{5}$   & 0.17          & -0.19            & 0.51        \\\\\n",
       " bmi                   & $\\beta_{6}$   & 0.01          & -0.02            & 0.03        \\\\\n",
       " age                   & $\\beta_{7}$   & 0.02          & 0.01             & 0.03        \\\\\n",
       "                       &               &               &                  &             \\\\\n",
       " \\textbf{Metrics}      & \\textbf{Mean} & \\textbf{Lo}   & \\textbf{Hi}      &             \\\\\n",
       " $\\sigma$              & 1.43          & 1.17          & 1.68             &             \\\\\n",
       " $R^2$                 & 0.59          & 0.46          & 0.72             &             \\\\\n",
       "\\bottomrule\n",
       "\\end{tabular}"
      ],
      "text/markdown": [
       "Model: glyhb ~ stab_glu + ratio + waist_hip + large + medium + bmi + age\n",
       "|------------------|-------------|----------|-------------|--------|\n",
       "|                  |             |          | **95% BCI** |        |\n",
       "| **Coefficients** |             | **Mean** | **Lo**      | **Hi** |\n",
       "|                  | $\\beta_{0}$ | 0.41     | -1.88       | 2.15   |\n",
       "| stab_glu         | $\\beta_{1}$ | 0.03     | 0.02        | 0.03   |\n",
       "| ratio            | $\\beta_{2}$ | 0.15     | -0.02       | 0.25   |\n",
       "| waist_hip        | $\\beta_{3}$ | 0.60     | -1.27       | 2.93   |\n",
       "| large            | $\\beta_{4}$ | -0.08    | -0.50       | 0.36   |\n",
       "| medium           | $\\beta_{5}$ | 0.17     | -0.19       | 0.51   |\n",
       "| bmi              | $\\beta_{6}$ | 0.01     | -0.02       | 0.03   |\n",
       "| age              | $\\beta_{7}$ | 0.02     | 0.01        | 0.03   |\n",
       "|                  |             |          |             |        |\n",
       "| **Metrics**      | **Mean**    | **Lo**   | **Hi**      |        |\n",
       "| $\\sigma$         | 1.43        | 1.17     | 1.68        |        |\n",
       "| $R^2$            | 0.59        | 0.46     | 0.72        |        |"
      ],
      "text/plain": [
       "<models.ResultsWrapper at 0x1265e8370>"
      ]
     },
     "execution_count": 15,
     "metadata": {},
     "output_type": "execute_result"
    }
   ],
   "source": [
    "subset = [\"stab_glu\", \"ratio\", \"waist_hip\", \"large\", \"medium\", \"bmi\", \"age\"]\n",
    "model =f'glyhb ~ {\" + \".join(subset)}'\n",
    "result4 = models.bootstrap_linear_regression(model, data=data.dropna(subset=subset))\n",
    "models.describe_bootstrap_lr(result4)"
   ]
  },
  {
   "cell_type": "markdown",
   "metadata": {},
   "source": [
    "Next, we'll look at the residuals to determine any further transformations:"
   ]
  },
  {
   "cell_type": "code",
   "execution_count": 16,
   "metadata": {},
   "outputs": [
    {
     "data": {
      "image/png": "[encoded data removed]",
      "text/plain": [
       "<Figure size 1440x432 with 7 Axes>"
      ]
     },
     "metadata": {
      "needs_background": "light"
     },
     "output_type": "display_data"
    }
   ],
   "source": [
    "figure = plt.figure(figsize=(20,6))\n",
    "variables = subset\n",
    "plots = len(variables)\n",
    "rows = (plots // 3) + 1\n",
    "\n",
    "for i, variable in enumerate(variables): \n",
    "    axes = figure.add_subplot(rows, 3, i + 1)\n",
    "    keyed_values = sorted( zip(data[variable].values, result4[\"residuals\"]), key=lambda x: x[0])\n",
    "    residuals = [x[1][0] for x in keyed_values]\n",
    "    axes.plot(list(range(0, result4[\"n\"])), residuals, \".\", color=\"dimgray\", alpha=0.75)\n",
    "    axes.axhline(y=0.0, xmin=0, xmax=result4[\"n\"], c=\"firebrick\", alpha=0.5)\n",
    "    axes.set_title(variable + \" vs residuals\")\n",
    "\n",
    "plt.show()\n",
    "plt.close()"
   ]
  },
  {
   "cell_type": "markdown",
   "metadata": {},
   "source": [
    "Wow -- these all look phenomenal. The residuals seem to indicate incredibly linear relationships across the board, thus no further transformation would be very beneficial."
   ]
  },
  {
   "cell_type": "markdown",
   "metadata": {},
   "source": [
    "## Evaluation / comparison"
   ]
  },
  {
   "cell_type": "code",
   "execution_count": 17,
   "metadata": {},
   "outputs": [],
   "source": [
    "def chunk(xs, n):\n",
    "    k, m = divmod(len(xs), n)\n",
    "    return [xs[i * k + min(i, m):(i + 1) * k + min(i + 1, m)] for i in range(n)]"
   ]
  },
  {
   "cell_type": "code",
   "execution_count": 18,
   "metadata": {},
   "outputs": [],
   "source": [
    "def cross_validation(algorithm, formula, data, evaluate, fold_count=10, repetitions=3):\n",
    "    indices = list(range(len( data)))\n",
    "    metrics = []\n",
    "    for _ in range(repetitions):\n",
    "        random.shuffle(indices)\n",
    "        folds = chunk(indices, fold_count)\n",
    "        for fold in folds:\n",
    "            test_data = data.iloc[fold]\n",
    "            train_indices = [idx not in fold for idx in indices]\n",
    "            train_data = data.iloc[train_indices]\n",
    "            result = algorithm(formula, data=train_data)\n",
    "            model = result[\"model\"]\n",
    "            y, X = patsy.dmatrices(formula, test_data, return_type=\"matrix\")\n",
    "            # y = np.ravel( y) # might need for logistic regression\n",
    "            results = models.summarize(formula, X, y, model)\n",
    "            metric = evaluate(results)\n",
    "            metrics.append(metric)\n",
    "    return metrics"
   ]
  },
  {
   "cell_type": "code",
   "execution_count": 19,
   "metadata": {},
   "outputs": [],
   "source": [
    "cv_result = cross_validation(models.linear_regression, model, data, lambda r: (r[\"sigma\"], r[\"r_squared\"]))"
   ]
  },
  {
   "cell_type": "code",
   "execution_count": 20,
   "metadata": {},
   "outputs": [
    {
     "name": "stdout",
     "output_type": "stream",
     "text": [
      "95% CI for σ: [0.92094405 2.57516703]\n"
     ]
    }
   ],
   "source": [
    "print(\"95% CI for σ:\", stats.mstats.mquantiles([r[0] for r in cv_result], [0.025, 0.975]))"
   ]
  },
  {
   "cell_type": "code",
   "execution_count": 21,
   "metadata": {},
   "outputs": [
    {
     "name": "stdout",
     "output_type": "stream",
     "text": [
      "95% CI for R²: [-0.16736561  0.81240313]\n"
     ]
    }
   ],
   "source": [
    "print(\"95% CI for R²:\", stats.mstats.mquantiles([r[1] for r in cv_result], [0.025, 0.975]))"
   ]
  },
  {
   "cell_type": "code",
   "execution_count": 22,
   "metadata": {},
   "outputs": [],
   "source": [
    "def data_collection():\n",
    "    result = dict()\n",
    "    result[ \"train\"] = defaultdict( list)\n",
    "    result[ \"test\"] = defaultdict( list)\n",
    "    return result"
   ]
  },
  {
   "cell_type": "code",
   "execution_count": 23,
   "metadata": {},
   "outputs": [],
   "source": [
    "def learning_curves(algorithm, formula, data, evaluate, fold_count=10, repetitions=3, increment=1):\n",
    "    indices = list(range(len( data)))\n",
    "    results = data_collection()\n",
    "    for _ in range(repetitions):\n",
    "        random.shuffle(indices)\n",
    "        folds = chunk(indices, fold_count)\n",
    "        for fold in folds:\n",
    "            test_data = data.iloc[ fold]\n",
    "            train_indices = [idx for idx in indices if idx not in fold]\n",
    "            train_data = data.iloc[train_indices]\n",
    "            for i in list(range(increment, 100, increment)) + [100]: # ensures 100% is always picked\n",
    "                # the indices are already shuffled so we only need to take ever increasing chunks\n",
    "                train_chunk_size = int( np.ceil((i/100)*len( train_indices)))\n",
    "                train_data_chunk = data.iloc[train_indices[0:train_chunk_size]]\n",
    "                # we calculate the model\n",
    "                result = algorithm(formula, data=train_data_chunk)\n",
    "                model = result[\"model\"]\n",
    "                # we calculate the results for the training data subset\n",
    "                y, X = patsy.dmatrices( formula, train_data_chunk, return_type=\"matrix\")\n",
    "                result = models.summarize(formula, X, y, model)\n",
    "                metric = evaluate(result)\n",
    "                results[\"train\"][i].append( metric)\n",
    "\n",
    "                # we calculate the results for the test data.\n",
    "                y, X = patsy.dmatrices( formula, test_data, return_type=\"matrix\")\n",
    "                result = models.summarize(formula, X, y, model)\n",
    "                metric = evaluate(result)\n",
    "                results[\"test\"][i].append( metric)\n",
    "    statistics = {}\n",
    "    for k, v in results[\"train\"].items():\n",
    "        statistics[ k] = (np.mean(v), np.std(v))\n",
    "    results[\"train\"] = statistics\n",
    "    statistics = {}\n",
    "    for k, v in results[\"test\"].items():\n",
    "        statistics[ k] = (np.mean(v), np.std(v))\n",
    "    results[\"test\"] = statistics\n",
    "    return results"
   ]
  },
  {
   "cell_type": "code",
   "execution_count": 24,
   "metadata": {},
   "outputs": [
    {
     "name": "stderr",
     "output_type": "stream",
     "text": [
      "/Users/gagebenne/Projects/data-science/diabetes-data-analysis/models.py:42: RuntimeWarning: invalid value encountered in sqrt\n",
      "  result[\"sigma\"] = np.sqrt( sum_squared_error / (n - k))\n",
      "/Users/gagebenne/Projects/data-science/diabetes-data-analysis/models.py:42: RuntimeWarning: invalid value encountered in sqrt\n",
      "  result[\"sigma\"] = np.sqrt( sum_squared_error / (n - k))\n",
      "/Users/gagebenne/Projects/data-science/diabetes-data-analysis/models.py:42: RuntimeWarning: divide by zero encountered in double_scalars\n",
      "  result[\"sigma\"] = np.sqrt( sum_squared_error / (n - k))\n",
      "/Users/gagebenne/Projects/data-science/diabetes-data-analysis/models.py:42: RuntimeWarning: divide by zero encountered in double_scalars\n",
      "  result[\"sigma\"] = np.sqrt( sum_squared_error / (n - k))\n",
      "/Users/gagebenne/Projects/data-science/diabetes-data-analysis/models.py:42: RuntimeWarning: invalid value encountered in sqrt\n",
      "  result[\"sigma\"] = np.sqrt( sum_squared_error / (n - k))\n",
      "/Users/gagebenne/Projects/data-science/diabetes-data-analysis/models.py:42: RuntimeWarning: invalid value encountered in sqrt\n",
      "  result[\"sigma\"] = np.sqrt( sum_squared_error / (n - k))\n",
      "/Users/gagebenne/Projects/data-science/diabetes-data-analysis/models.py:42: RuntimeWarning: invalid value encountered in sqrt\n",
      "  result[\"sigma\"] = np.sqrt( sum_squared_error / (n - k))\n",
      "/Users/gagebenne/Projects/data-science/diabetes-data-analysis/models.py:42: RuntimeWarning: invalid value encountered in sqrt\n",
      "  result[\"sigma\"] = np.sqrt( sum_squared_error / (n - k))\n",
      "/Users/gagebenne/Projects/data-science/diabetes-data-analysis/models.py:42: RuntimeWarning: invalid value encountered in sqrt\n",
      "  result[\"sigma\"] = np.sqrt( sum_squared_error / (n - k))\n",
      "/Users/gagebenne/Projects/data-science/diabetes-data-analysis/models.py:42: RuntimeWarning: invalid value encountered in sqrt\n",
      "  result[\"sigma\"] = np.sqrt( sum_squared_error / (n - k))\n",
      "/Users/gagebenne/Projects/data-science/diabetes-data-analysis/models.py:42: RuntimeWarning: invalid value encountered in sqrt\n",
      "  result[\"sigma\"] = np.sqrt( sum_squared_error / (n - k))\n",
      "/Users/gagebenne/Projects/data-science/diabetes-data-analysis/models.py:42: RuntimeWarning: invalid value encountered in sqrt\n",
      "  result[\"sigma\"] = np.sqrt( sum_squared_error / (n - k))\n",
      "/Users/gagebenne/Projects/data-science/diabetes-data-analysis/models.py:42: RuntimeWarning: invalid value encountered in sqrt\n",
      "  result[\"sigma\"] = np.sqrt( sum_squared_error / (n - k))\n",
      "/Users/gagebenne/Projects/data-science/diabetes-data-analysis/models.py:42: RuntimeWarning: invalid value encountered in sqrt\n",
      "  result[\"sigma\"] = np.sqrt( sum_squared_error / (n - k))\n",
      "/Users/gagebenne/Projects/data-science/diabetes-data-analysis/models.py:42: RuntimeWarning: invalid value encountered in sqrt\n",
      "  result[\"sigma\"] = np.sqrt( sum_squared_error / (n - k))\n",
      "/Users/gagebenne/Projects/data-science/diabetes-data-analysis/models.py:42: RuntimeWarning: invalid value encountered in sqrt\n",
      "  result[\"sigma\"] = np.sqrt( sum_squared_error / (n - k))\n",
      "/Users/gagebenne/Projects/data-science/diabetes-data-analysis/models.py:42: RuntimeWarning: invalid value encountered in sqrt\n",
      "  result[\"sigma\"] = np.sqrt( sum_squared_error / (n - k))\n",
      "/Users/gagebenne/Projects/data-science/diabetes-data-analysis/models.py:42: RuntimeWarning: invalid value encountered in sqrt\n",
      "  result[\"sigma\"] = np.sqrt( sum_squared_error / (n - k))\n",
      "/Users/gagebenne/Projects/data-science/diabetes-data-analysis/models.py:42: RuntimeWarning: invalid value encountered in sqrt\n",
      "  result[\"sigma\"] = np.sqrt( sum_squared_error / (n - k))\n",
      "/Users/gagebenne/Projects/data-science/diabetes-data-analysis/models.py:42: RuntimeWarning: invalid value encountered in sqrt\n",
      "  result[\"sigma\"] = np.sqrt( sum_squared_error / (n - k))\n",
      "/Users/gagebenne/Projects/data-science/diabetes-data-analysis/models.py:42: RuntimeWarning: invalid value encountered in sqrt\n",
      "  result[\"sigma\"] = np.sqrt( sum_squared_error / (n - k))\n",
      "/Users/gagebenne/Projects/data-science/diabetes-data-analysis/models.py:42: RuntimeWarning: invalid value encountered in sqrt\n",
      "  result[\"sigma\"] = np.sqrt( sum_squared_error / (n - k))\n",
      "/Users/gagebenne/Projects/data-science/diabetes-data-analysis/models.py:42: RuntimeWarning: invalid value encountered in sqrt\n",
      "  result[\"sigma\"] = np.sqrt( sum_squared_error / (n - k))\n",
      "/Users/gagebenne/Projects/data-science/diabetes-data-analysis/models.py:42: RuntimeWarning: invalid value encountered in sqrt\n",
      "  result[\"sigma\"] = np.sqrt( sum_squared_error / (n - k))\n",
      "/Users/gagebenne/Projects/data-science/diabetes-data-analysis/models.py:42: RuntimeWarning: invalid value encountered in sqrt\n",
      "  result[\"sigma\"] = np.sqrt( sum_squared_error / (n - k))\n",
      "/Users/gagebenne/Projects/data-science/diabetes-data-analysis/models.py:42: RuntimeWarning: invalid value encountered in sqrt\n",
      "  result[\"sigma\"] = np.sqrt( sum_squared_error / (n - k))\n",
      "/Users/gagebenne/Projects/data-science/diabetes-data-analysis/models.py:42: RuntimeWarning: invalid value encountered in sqrt\n",
      "  result[\"sigma\"] = np.sqrt( sum_squared_error / (n - k))\n",
      "/Users/gagebenne/Projects/data-science/diabetes-data-analysis/models.py:42: RuntimeWarning: invalid value encountered in sqrt\n",
      "  result[\"sigma\"] = np.sqrt( sum_squared_error / (n - k))\n",
      "/Users/gagebenne/Projects/data-science/diabetes-data-analysis/models.py:42: RuntimeWarning: invalid value encountered in sqrt\n",
      "  result[\"sigma\"] = np.sqrt( sum_squared_error / (n - k))\n",
      "/Users/gagebenne/Projects/data-science/diabetes-data-analysis/models.py:42: RuntimeWarning: invalid value encountered in sqrt\n",
      "  result[\"sigma\"] = np.sqrt( sum_squared_error / (n - k))\n",
      "/Users/gagebenne/Projects/data-science/diabetes-data-analysis/models.py:42: RuntimeWarning: invalid value encountered in sqrt\n",
      "  result[\"sigma\"] = np.sqrt( sum_squared_error / (n - k))\n",
      "/Users/gagebenne/Projects/data-science/diabetes-data-analysis/models.py:42: RuntimeWarning: invalid value encountered in sqrt\n",
      "  result[\"sigma\"] = np.sqrt( sum_squared_error / (n - k))\n",
      "/Users/gagebenne/Projects/data-science/diabetes-data-analysis/models.py:42: RuntimeWarning: invalid value encountered in sqrt\n",
      "  result[\"sigma\"] = np.sqrt( sum_squared_error / (n - k))\n",
      "/Users/gagebenne/Projects/data-science/diabetes-data-analysis/models.py:42: RuntimeWarning: invalid value encountered in sqrt\n",
      "  result[\"sigma\"] = np.sqrt( sum_squared_error / (n - k))\n",
      "/Users/gagebenne/Projects/data-science/diabetes-data-analysis/models.py:42: RuntimeWarning: invalid value encountered in sqrt\n",
      "  result[\"sigma\"] = np.sqrt( sum_squared_error / (n - k))\n",
      "/Users/gagebenne/Projects/data-science/diabetes-data-analysis/models.py:42: RuntimeWarning: invalid value encountered in sqrt\n",
      "  result[\"sigma\"] = np.sqrt( sum_squared_error / (n - k))\n",
      "/Users/gagebenne/Projects/data-science/diabetes-data-analysis/models.py:42: RuntimeWarning: invalid value encountered in sqrt\n",
      "  result[\"sigma\"] = np.sqrt( sum_squared_error / (n - k))\n",
      "/Users/gagebenne/Projects/data-science/diabetes-data-analysis/models.py:42: RuntimeWarning: invalid value encountered in sqrt\n",
      "  result[\"sigma\"] = np.sqrt( sum_squared_error / (n - k))\n",
      "/Users/gagebenne/Projects/data-science/diabetes-data-analysis/models.py:42: RuntimeWarning: invalid value encountered in sqrt\n",
      "  result[\"sigma\"] = np.sqrt( sum_squared_error / (n - k))\n",
      "/Users/gagebenne/Projects/data-science/diabetes-data-analysis/models.py:42: RuntimeWarning: invalid value encountered in sqrt\n",
      "  result[\"sigma\"] = np.sqrt( sum_squared_error / (n - k))\n",
      "/Users/gagebenne/Projects/data-science/diabetes-data-analysis/models.py:42: RuntimeWarning: invalid value encountered in sqrt\n",
      "  result[\"sigma\"] = np.sqrt( sum_squared_error / (n - k))\n",
      "/Users/gagebenne/Projects/data-science/diabetes-data-analysis/models.py:42: RuntimeWarning: invalid value encountered in sqrt\n",
      "  result[\"sigma\"] = np.sqrt( sum_squared_error / (n - k))\n",
      "/Users/gagebenne/Projects/data-science/diabetes-data-analysis/models.py:42: RuntimeWarning: divide by zero encountered in double_scalars\n",
      "  result[\"sigma\"] = np.sqrt( sum_squared_error / (n - k))\n",
      "/Users/gagebenne/Projects/data-science/diabetes-data-analysis/models.py:42: RuntimeWarning: divide by zero encountered in double_scalars\n",
      "  result[\"sigma\"] = np.sqrt( sum_squared_error / (n - k))\n",
      "/Users/gagebenne/Projects/data-science/diabetes-data-analysis/models.py:42: RuntimeWarning: invalid value encountered in sqrt\n",
      "  result[\"sigma\"] = np.sqrt( sum_squared_error / (n - k))\n",
      "/Users/gagebenne/Projects/data-science/diabetes-data-analysis/models.py:42: RuntimeWarning: invalid value encountered in sqrt\n",
      "  result[\"sigma\"] = np.sqrt( sum_squared_error / (n - k))\n",
      "/Users/gagebenne/Projects/data-science/diabetes-data-analysis/models.py:42: RuntimeWarning: divide by zero encountered in double_scalars\n",
      "  result[\"sigma\"] = np.sqrt( sum_squared_error / (n - k))\n",
      "/Users/gagebenne/Projects/data-science/diabetes-data-analysis/models.py:42: RuntimeWarning: divide by zero encountered in double_scalars\n",
      "  result[\"sigma\"] = np.sqrt( sum_squared_error / (n - k))\n",
      "/Users/gagebenne/Projects/data-science/diabetes-data-analysis/models.py:42: RuntimeWarning: invalid value encountered in sqrt\n",
      "  result[\"sigma\"] = np.sqrt( sum_squared_error / (n - k))\n",
      "/Users/gagebenne/Projects/data-science/diabetes-data-analysis/models.py:42: RuntimeWarning: invalid value encountered in sqrt\n",
      "  result[\"sigma\"] = np.sqrt( sum_squared_error / (n - k))\n",
      "/Users/gagebenne/Projects/data-science/diabetes-data-analysis/models.py:42: RuntimeWarning: divide by zero encountered in double_scalars\n",
      "  result[\"sigma\"] = np.sqrt( sum_squared_error / (n - k))\n",
      "/Users/gagebenne/Projects/data-science/diabetes-data-analysis/models.py:42: RuntimeWarning: divide by zero encountered in double_scalars\n",
      "  result[\"sigma\"] = np.sqrt( sum_squared_error / (n - k))\n",
      "/Users/gagebenne/Projects/data-science/diabetes-data-analysis/models.py:42: RuntimeWarning: invalid value encountered in sqrt\n",
      "  result[\"sigma\"] = np.sqrt( sum_squared_error / (n - k))\n",
      "/Users/gagebenne/Projects/data-science/diabetes-data-analysis/models.py:42: RuntimeWarning: invalid value encountered in sqrt\n",
      "  result[\"sigma\"] = np.sqrt( sum_squared_error / (n - k))\n",
      "/Users/gagebenne/Projects/data-science/diabetes-data-analysis/models.py:42: RuntimeWarning: divide by zero encountered in double_scalars\n",
      "  result[\"sigma\"] = np.sqrt( sum_squared_error / (n - k))\n",
      "/Users/gagebenne/Projects/data-science/diabetes-data-analysis/models.py:42: RuntimeWarning: divide by zero encountered in double_scalars\n",
      "  result[\"sigma\"] = np.sqrt( sum_squared_error / (n - k))\n",
      "/Users/gagebenne/Projects/data-science/diabetes-data-analysis/models.py:42: RuntimeWarning: invalid value encountered in sqrt\n",
      "  result[\"sigma\"] = np.sqrt( sum_squared_error / (n - k))\n",
      "/Users/gagebenne/Projects/data-science/diabetes-data-analysis/models.py:42: RuntimeWarning: invalid value encountered in sqrt\n",
      "  result[\"sigma\"] = np.sqrt( sum_squared_error / (n - k))\n",
      "/Users/gagebenne/Projects/data-science/diabetes-data-analysis/models.py:42: RuntimeWarning: divide by zero encountered in double_scalars\n",
      "  result[\"sigma\"] = np.sqrt( sum_squared_error / (n - k))\n",
      "/Users/gagebenne/Projects/data-science/diabetes-data-analysis/models.py:42: RuntimeWarning: divide by zero encountered in double_scalars\n",
      "  result[\"sigma\"] = np.sqrt( sum_squared_error / (n - k))\n",
      "/Users/gagebenne/Projects/data-science/diabetes-data-analysis/models.py:42: RuntimeWarning: invalid value encountered in sqrt\n",
      "  result[\"sigma\"] = np.sqrt( sum_squared_error / (n - k))\n",
      "/Users/gagebenne/Projects/data-science/diabetes-data-analysis/models.py:42: RuntimeWarning: invalid value encountered in sqrt\n",
      "  result[\"sigma\"] = np.sqrt( sum_squared_error / (n - k))\n",
      "/Users/gagebenne/Projects/data-science/diabetes-data-analysis/models.py:42: RuntimeWarning: divide by zero encountered in double_scalars\n",
      "  result[\"sigma\"] = np.sqrt( sum_squared_error / (n - k))\n",
      "/Users/gagebenne/Projects/data-science/diabetes-data-analysis/models.py:42: RuntimeWarning: divide by zero encountered in double_scalars\n",
      "  result[\"sigma\"] = np.sqrt( sum_squared_error / (n - k))\n",
      "/Users/gagebenne/Projects/data-science/diabetes-data-analysis/models.py:42: RuntimeWarning: invalid value encountered in sqrt\n",
      "  result[\"sigma\"] = np.sqrt( sum_squared_error / (n - k))\n",
      "/Users/gagebenne/Projects/data-science/diabetes-data-analysis/models.py:42: RuntimeWarning: invalid value encountered in sqrt\n",
      "  result[\"sigma\"] = np.sqrt( sum_squared_error / (n - k))\n",
      "/Users/gagebenne/Projects/data-science/diabetes-data-analysis/models.py:42: RuntimeWarning: divide by zero encountered in double_scalars\n",
      "  result[\"sigma\"] = np.sqrt( sum_squared_error / (n - k))\n",
      "/Users/gagebenne/Projects/data-science/diabetes-data-analysis/models.py:42: RuntimeWarning: divide by zero encountered in double_scalars\n",
      "  result[\"sigma\"] = np.sqrt( sum_squared_error / (n - k))\n",
      "/Users/gagebenne/Projects/data-science/diabetes-data-analysis/models.py:42: RuntimeWarning: invalid value encountered in sqrt\n",
      "  result[\"sigma\"] = np.sqrt( sum_squared_error / (n - k))\n",
      "/Users/gagebenne/Projects/data-science/diabetes-data-analysis/models.py:42: RuntimeWarning: invalid value encountered in sqrt\n",
      "  result[\"sigma\"] = np.sqrt( sum_squared_error / (n - k))\n",
      "/Users/gagebenne/Projects/data-science/diabetes-data-analysis/models.py:42: RuntimeWarning: divide by zero encountered in double_scalars\n",
      "  result[\"sigma\"] = np.sqrt( sum_squared_error / (n - k))\n",
      "/Users/gagebenne/Projects/data-science/diabetes-data-analysis/models.py:42: RuntimeWarning: divide by zero encountered in double_scalars\n",
      "  result[\"sigma\"] = np.sqrt( sum_squared_error / (n - k))\n",
      "/Users/gagebenne/Projects/data-science/diabetes-data-analysis/models.py:42: RuntimeWarning: invalid value encountered in sqrt\n",
      "  result[\"sigma\"] = np.sqrt( sum_squared_error / (n - k))\n",
      "/Users/gagebenne/Projects/data-science/diabetes-data-analysis/models.py:42: RuntimeWarning: invalid value encountered in sqrt\n",
      "  result[\"sigma\"] = np.sqrt( sum_squared_error / (n - k))\n",
      "/Users/gagebenne/Projects/data-science/diabetes-data-analysis/models.py:42: RuntimeWarning: divide by zero encountered in double_scalars\n",
      "  result[\"sigma\"] = np.sqrt( sum_squared_error / (n - k))\n",
      "/Users/gagebenne/Projects/data-science/diabetes-data-analysis/models.py:42: RuntimeWarning: divide by zero encountered in double_scalars\n",
      "  result[\"sigma\"] = np.sqrt( sum_squared_error / (n - k))\n",
      "/Users/gagebenne/Projects/data-science/diabetes-data-analysis/models.py:42: RuntimeWarning: invalid value encountered in sqrt\n",
      "  result[\"sigma\"] = np.sqrt( sum_squared_error / (n - k))\n",
      "/Users/gagebenne/Projects/data-science/diabetes-data-analysis/models.py:42: RuntimeWarning: invalid value encountered in sqrt\n",
      "  result[\"sigma\"] = np.sqrt( sum_squared_error / (n - k))\n",
      "/Users/gagebenne/Projects/data-science/diabetes-data-analysis/models.py:42: RuntimeWarning: divide by zero encountered in double_scalars\n",
      "  result[\"sigma\"] = np.sqrt( sum_squared_error / (n - k))\n",
      "/Users/gagebenne/Projects/data-science/diabetes-data-analysis/models.py:42: RuntimeWarning: divide by zero encountered in double_scalars\n",
      "  result[\"sigma\"] = np.sqrt( sum_squared_error / (n - k))\n",
      "/Users/gagebenne/Projects/data-science/diabetes-data-analysis/models.py:42: RuntimeWarning: invalid value encountered in sqrt\n",
      "  result[\"sigma\"] = np.sqrt( sum_squared_error / (n - k))\n",
      "/Users/gagebenne/Projects/data-science/diabetes-data-analysis/models.py:42: RuntimeWarning: invalid value encountered in sqrt\n",
      "  result[\"sigma\"] = np.sqrt( sum_squared_error / (n - k))\n",
      "/Users/gagebenne/Projects/data-science/diabetes-data-analysis/models.py:42: RuntimeWarning: divide by zero encountered in double_scalars\n",
      "  result[\"sigma\"] = np.sqrt( sum_squared_error / (n - k))\n",
      "/Users/gagebenne/Projects/data-science/diabetes-data-analysis/models.py:42: RuntimeWarning: divide by zero encountered in double_scalars\n",
      "  result[\"sigma\"] = np.sqrt( sum_squared_error / (n - k))\n",
      "/Users/gagebenne/Projects/data-science/diabetes-data-analysis/models.py:42: RuntimeWarning: invalid value encountered in sqrt\n",
      "  result[\"sigma\"] = np.sqrt( sum_squared_error / (n - k))\n",
      "/Users/gagebenne/Projects/data-science/diabetes-data-analysis/models.py:42: RuntimeWarning: invalid value encountered in sqrt\n",
      "  result[\"sigma\"] = np.sqrt( sum_squared_error / (n - k))\n",
      "/Users/gagebenne/Projects/data-science/diabetes-data-analysis/models.py:42: RuntimeWarning: divide by zero encountered in double_scalars\n",
      "  result[\"sigma\"] = np.sqrt( sum_squared_error / (n - k))\n",
      "/Users/gagebenne/Projects/data-science/diabetes-data-analysis/models.py:42: RuntimeWarning: divide by zero encountered in double_scalars\n",
      "  result[\"sigma\"] = np.sqrt( sum_squared_error / (n - k))\n",
      "/Users/gagebenne/Projects/data-science/diabetes-data-analysis/models.py:42: RuntimeWarning: invalid value encountered in sqrt\n",
      "  result[\"sigma\"] = np.sqrt( sum_squared_error / (n - k))\n",
      "/Users/gagebenne/Projects/data-science/diabetes-data-analysis/models.py:42: RuntimeWarning: invalid value encountered in sqrt\n",
      "  result[\"sigma\"] = np.sqrt( sum_squared_error / (n - k))\n",
      "/Users/gagebenne/Projects/data-science/diabetes-data-analysis/models.py:42: RuntimeWarning: divide by zero encountered in double_scalars\n",
      "  result[\"sigma\"] = np.sqrt( sum_squared_error / (n - k))\n",
      "/Users/gagebenne/Projects/data-science/diabetes-data-analysis/models.py:42: RuntimeWarning: divide by zero encountered in double_scalars\n",
      "  result[\"sigma\"] = np.sqrt( sum_squared_error / (n - k))\n",
      "/Users/gagebenne/Projects/data-science/diabetes-data-analysis/models.py:42: RuntimeWarning: invalid value encountered in sqrt\n",
      "  result[\"sigma\"] = np.sqrt( sum_squared_error / (n - k))\n",
      "/Users/gagebenne/Projects/data-science/diabetes-data-analysis/models.py:42: RuntimeWarning: invalid value encountered in sqrt\n",
      "  result[\"sigma\"] = np.sqrt( sum_squared_error / (n - k))\n",
      "/Users/gagebenne/Projects/data-science/diabetes-data-analysis/models.py:42: RuntimeWarning: divide by zero encountered in double_scalars\n",
      "  result[\"sigma\"] = np.sqrt( sum_squared_error / (n - k))\n",
      "/Users/gagebenne/Projects/data-science/diabetes-data-analysis/models.py:42: RuntimeWarning: divide by zero encountered in double_scalars\n",
      "  result[\"sigma\"] = np.sqrt( sum_squared_error / (n - k))\n",
      "/Users/gagebenne/Projects/data-science/diabetes-data-analysis/models.py:42: RuntimeWarning: invalid value encountered in sqrt\n",
      "  result[\"sigma\"] = np.sqrt( sum_squared_error / (n - k))\n",
      "/Users/gagebenne/Projects/data-science/diabetes-data-analysis/models.py:42: RuntimeWarning: invalid value encountered in sqrt\n",
      "  result[\"sigma\"] = np.sqrt( sum_squared_error / (n - k))\n",
      "/Users/gagebenne/Projects/data-science/diabetes-data-analysis/models.py:42: RuntimeWarning: divide by zero encountered in double_scalars\n",
      "  result[\"sigma\"] = np.sqrt( sum_squared_error / (n - k))\n",
      "/Users/gagebenne/Projects/data-science/diabetes-data-analysis/models.py:42: RuntimeWarning: divide by zero encountered in double_scalars\n",
      "  result[\"sigma\"] = np.sqrt( sum_squared_error / (n - k))\n",
      "/Users/gagebenne/Projects/data-science/diabetes-data-analysis/models.py:42: RuntimeWarning: invalid value encountered in sqrt\n",
      "  result[\"sigma\"] = np.sqrt( sum_squared_error / (n - k))\n",
      "/Users/gagebenne/Projects/data-science/diabetes-data-analysis/models.py:42: RuntimeWarning: invalid value encountered in sqrt\n",
      "  result[\"sigma\"] = np.sqrt( sum_squared_error / (n - k))\n",
      "/Users/gagebenne/Projects/data-science/diabetes-data-analysis/models.py:42: RuntimeWarning: divide by zero encountered in double_scalars\n",
      "  result[\"sigma\"] = np.sqrt( sum_squared_error / (n - k))\n",
      "/Users/gagebenne/Projects/data-science/diabetes-data-analysis/models.py:42: RuntimeWarning: divide by zero encountered in double_scalars\n",
      "  result[\"sigma\"] = np.sqrt( sum_squared_error / (n - k))\n",
      "/Users/gagebenne/Projects/data-science/diabetes-data-analysis/models.py:42: RuntimeWarning: invalid value encountered in sqrt\n",
      "  result[\"sigma\"] = np.sqrt( sum_squared_error / (n - k))\n",
      "/Users/gagebenne/Projects/data-science/diabetes-data-analysis/models.py:42: RuntimeWarning: invalid value encountered in sqrt\n",
      "  result[\"sigma\"] = np.sqrt( sum_squared_error / (n - k))\n",
      "/Users/gagebenne/Projects/data-science/diabetes-data-analysis/models.py:42: RuntimeWarning: divide by zero encountered in double_scalars\n",
      "  result[\"sigma\"] = np.sqrt( sum_squared_error / (n - k))\n",
      "/Users/gagebenne/Projects/data-science/diabetes-data-analysis/models.py:42: RuntimeWarning: divide by zero encountered in double_scalars\n",
      "  result[\"sigma\"] = np.sqrt( sum_squared_error / (n - k))\n",
      "/Users/gagebenne/Projects/data-science/diabetes-data-analysis/models.py:42: RuntimeWarning: invalid value encountered in sqrt\n",
      "  result[\"sigma\"] = np.sqrt( sum_squared_error / (n - k))\n",
      "/Users/gagebenne/Projects/data-science/diabetes-data-analysis/models.py:42: RuntimeWarning: invalid value encountered in sqrt\n",
      "  result[\"sigma\"] = np.sqrt( sum_squared_error / (n - k))\n",
      "/Users/gagebenne/Projects/data-science/diabetes-data-analysis/models.py:42: RuntimeWarning: divide by zero encountered in double_scalars\n",
      "  result[\"sigma\"] = np.sqrt( sum_squared_error / (n - k))\n",
      "/Users/gagebenne/Projects/data-science/diabetes-data-analysis/models.py:42: RuntimeWarning: divide by zero encountered in double_scalars\n",
      "  result[\"sigma\"] = np.sqrt( sum_squared_error / (n - k))\n",
      "/Users/gagebenne/Projects/data-science/diabetes-data-analysis/models.py:42: RuntimeWarning: invalid value encountered in sqrt\n",
      "  result[\"sigma\"] = np.sqrt( sum_squared_error / (n - k))\n",
      "/Users/gagebenne/Projects/data-science/diabetes-data-analysis/models.py:42: RuntimeWarning: invalid value encountered in sqrt\n",
      "  result[\"sigma\"] = np.sqrt( sum_squared_error / (n - k))\n",
      "/Users/gagebenne/Projects/data-science/diabetes-data-analysis/models.py:42: RuntimeWarning: divide by zero encountered in double_scalars\n",
      "  result[\"sigma\"] = np.sqrt( sum_squared_error / (n - k))\n",
      "/Users/gagebenne/Projects/data-science/diabetes-data-analysis/models.py:42: RuntimeWarning: divide by zero encountered in double_scalars\n",
      "  result[\"sigma\"] = np.sqrt( sum_squared_error / (n - k))\n",
      "/Users/gagebenne/Projects/data-science/diabetes-data-analysis/models.py:42: RuntimeWarning: invalid value encountered in sqrt\n",
      "  result[\"sigma\"] = np.sqrt( sum_squared_error / (n - k))\n",
      "/Users/gagebenne/Projects/data-science/diabetes-data-analysis/models.py:42: RuntimeWarning: invalid value encountered in sqrt\n",
      "  result[\"sigma\"] = np.sqrt( sum_squared_error / (n - k))\n",
      "/Users/gagebenne/Projects/data-science/diabetes-data-analysis/models.py:42: RuntimeWarning: divide by zero encountered in double_scalars\n",
      "  result[\"sigma\"] = np.sqrt( sum_squared_error / (n - k))\n",
      "/Users/gagebenne/Projects/data-science/diabetes-data-analysis/models.py:42: RuntimeWarning: divide by zero encountered in double_scalars\n",
      "  result[\"sigma\"] = np.sqrt( sum_squared_error / (n - k))\n"
     ]
    }
   ],
   "source": [
    "lc_results = learning_curves(models.linear_regression, model, data, lambda r: r[\"sigma\"])"
   ]
  },
  {
   "cell_type": "code",
   "execution_count": 25,
   "metadata": {},
   "outputs": [],
   "source": [
    "def results_to_curves( curve, results):\n",
    "    all_statistics = results[ curve]\n",
    "    keys = list( all_statistics.keys())\n",
    "    keys.sort()\n",
    "    mean = []\n",
    "    upper = []\n",
    "    lower = []\n",
    "    for k in keys:\n",
    "        m, s = all_statistics[ k]\n",
    "        mean.append( m)\n",
    "        upper.append( m + 2 * s)\n",
    "        lower.append( m - 2 * s)\n",
    "    return keys, lower, mean, upper"
   ]
  },
  {
   "cell_type": "code",
   "execution_count": 26,
   "metadata": {},
   "outputs": [],
   "source": [
    "def plot_learning_curves( results, metric, desired=None, zoom=False, credible=True):\n",
    "    figure = plt.figure(figsize=(10,6))\n",
    "    axes = figure.add_subplot(1, 1, 1)\n",
    "    xs, train_lower, train_mean, train_upper = results_to_curves( \"train\", results)\n",
    "    _, test_lower, test_mean, test_upper = results_to_curves( \"test\", results)\n",
    "    axes.plot( xs, train_mean, color=\"steelblue\", label=\"train\")\n",
    "    axes.plot( xs, test_mean, color=\"firebrick\", label=\"test\")\n",
    "    if credible:\n",
    "        axes.fill_between( xs, train_upper, train_lower, color=\"steelblue\", alpha=0.25)\n",
    "        axes.fill_between( xs, test_upper, test_lower, color=\"firebrick\", alpha=0.25)\n",
    "    if desired:\n",
    "        if type(desired) is tuple:\n",
    "            axes.axhline((desired[0] + desired[1])/2.0, color=\"gold\", label=\"desired\")\n",
    "            axes.fill_between( xs, desired[1], desired[0], color=\"gold\", alpha=0.25)\n",
    "        else:\n",
    "            axes.axhline( desired, color=\"gold\", label=\"desired\")\n",
    "    axes.legend()\n",
    "    axes.set_xlabel(\"training set (%)\")\n",
    "    axes.set_ylabel( metric)\n",
    "    axes.set_title(\"Learning Curves\")\n",
    "    if zoom:\n",
    "        y_lower = int( 0.9 * np.amin([train_lower[-1], test_lower[-1]]))\n",
    "        y_upper = int( 1.1 * np.amax([train_upper[-1], test_upper[-1]]))\n",
    "        axes.set_ylim((y_lower, y_upper))\n",
    "    plt.show()\n",
    "    plt.close()"
   ]
  },
  {
   "cell_type": "code",
   "execution_count": 27,
   "metadata": {},
   "outputs": [
    {
     "data": {
      "image/png": "[encoded data removed]",
      "text/plain": [
       "<Figure size 720x432 with 1 Axes>"
      ]
     },
     "metadata": {
      "needs_background": "light"
     },
     "output_type": "display_data"
    }
   ],
   "source": [
    "plot_learning_curves(lc_results, \"sigma\", zoom=True)"
   ]
  }
 ],
 "metadata": {
  "interpreter": {
   "hash": "aee8b7b246df8f9039afb4144a1f6fd8d2ca17a180786b69acc140d282b71a49"
  },
  "kernelspec": {
   "display_name": "Python 3.9.6 64-bit",
   "language": "python",
   "name": "python3"
  },
  "language_info": {
   "codemirror_mode": {
    "name": "ipython",
    "version": 3
   },
   "file_extension": ".py",
   "mimetype": "text/x-python",
   "name": "python",
   "nbconvert_exporter": "python",
   "pygments_lexer": "ipython3",
   "version": "3.9.6"
  },
  "orig_nbformat": 4
 },
 "nbformat": 4,
 "nbformat_minor": 2
}
